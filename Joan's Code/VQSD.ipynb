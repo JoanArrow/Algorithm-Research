{
 "cells": [
  {
   "cell_type": "code",
   "execution_count": 101,
   "id": "37885a82",
   "metadata": {},
   "outputs": [],
   "source": [
    "#Benchmarking Variational Quantum State Diagonalization Algorithm"
   ]
  },
  {
   "cell_type": "code",
   "execution_count": 1,
   "id": "b92c9f16",
   "metadata": {},
   "outputs": [],
   "source": [
    "import pennylane as qml \n",
    "from pennylane import numpy as np\n",
    "import matplotlib.pyplot as plt"
   ]
  },
  {
   "cell_type": "code",
   "execution_count": 40,
   "id": "a4200023",
   "metadata": {},
   "outputs": [
    {
     "name": "stdout",
     "output_type": "stream",
     "text": [
      "0: ──H─┤  \n",
      "1: ──H─┤  \n",
      "2: ──H─┤  \n",
      "3: ──H─┤  \n"
     ]
    }
   ],
   "source": [
    "# = 2\n",
    "#n = 2*m\n",
    "def test_prep(param):\n",
    "    for i in range(2*len(param)):\n",
    "        qml.Hadamard(i)\n",
    "#    return [qml.expval(qml.PauliZ(i)) for i in range(2*m)]\n",
    "drawer = qml.draw(test_prep)\n",
    "print(drawer([0,1]))\n",
    "#test_prep(m)"
   ]
  },
  {
   "cell_type": "code",
   "execution_count": 41,
   "id": "7d6dfec7",
   "metadata": {},
   "outputs": [
    {
     "name": "stdout",
     "output_type": "stream",
     "text": [
      "0: ──RZ(0.00)──RX(1.57)─┤  \n",
      "2: ──RZ(0.00)──RX(1.57)─┤  \n",
      "1: ──RZ(1.00)──RX(1.57)─┤  \n",
      "3: ──RZ(1.00)──RX(1.57)─┤  \n"
     ]
    }
   ],
   "source": [
    "#TODO\n",
    "#Make angles equal in the ith subsystem of registers 1 and 2\n",
    "#param needs to be specifiable with m angles\n",
    "#param = [0, 1, 2, 3]\n",
    "\n",
    "def ansatz(param):\n",
    "    for i in range(len(param)):\n",
    "        qml.RZ(param[i], wires = i)\n",
    "        qml.RZ(param[i], wires = i+len(param))\n",
    "        qml.RX(np.pi/2, wires = i)\n",
    "        qml.RX(np.pi/2, wires = i+len(param))\n",
    "drawer = qml.draw(ansatz)\n",
    "print(drawer([0,1]))"
   ]
  },
  {
   "cell_type": "code",
   "execution_count": 43,
   "id": "0d887763",
   "metadata": {},
   "outputs": [
    {
     "name": "stdout",
     "output_type": "stream",
     "text": [
      "0: ─╭●─┤  \n",
      "2: ─╰X─┤  \n",
      "1: ─╭●─┤  \n",
      "3: ─╰X─┤  \n"
     ]
    }
   ],
   "source": [
    "def cost_fun(param):\n",
    "    for i in range(len(param)):\n",
    "        qml.CNOT(wires = [i,i+len(param)])\n",
    "drawer = qml.draw(cost_fun)\n",
    "print(drawer([0,1]))"
   ]
  },
  {
   "cell_type": "code",
   "execution_count": 51,
   "id": "93c04bc1",
   "metadata": {},
   "outputs": [],
   "source": [
    "s = 1000\n",
    "m = 2\n",
    "n = 2*m\n",
    "dev = qml.device(\"default.qubit\", wires = 8, shots = s)\n",
    "@qml.qnode(dev, interface = \"autograd\")\n",
    "def circuit(param):\n",
    "    test_prep(param)\n",
    "    ansatz(param)\n",
    "    cost_fun(param)\n",
    "    return qml.probs(wires = [i for i in range(2*m)])"
   ]
  },
  {
   "cell_type": "code",
   "execution_count": 49,
   "id": "603d4791",
   "metadata": {},
   "outputs": [],
   "source": [
    "def VQSD(param):\n",
    "    return -circuit(param)[0]"
   ]
  },
  {
   "cell_type": "code",
   "execution_count": 46,
   "id": "9eb105e6",
   "metadata": {},
   "outputs": [
    {
     "name": "stdout",
     "output_type": "stream",
     "text": [
      "[0. 0. 0. 0.]\n"
     ]
    }
   ],
   "source": [
    "t = []\n",
    "for i in range(n):\n",
    "    t.append(0.0)\n",
    "theta = np.array(t, requires_grad=True)\n",
    "print(theta)"
   ]
  },
  {
   "cell_type": "code",
   "execution_count": 52,
   "id": "31b060b4",
   "metadata": {},
   "outputs": [
    {
     "name": "stdout",
     "output_type": "stream",
     "text": [
      "[-0.059]\n"
     ]
    }
   ],
   "source": [
    "diag = [VQSD(theta)]\n",
    "print(diag)"
   ]
  },
  {
   "cell_type": "code",
   "execution_count": 25,
   "id": "3a049540",
   "metadata": {},
   "outputs": [
    {
     "name": "stdout",
     "output_type": "stream",
     "text": [
      "[tensor([ 2.00000000e-04, -2.40000000e-03,  2.20000000e-03,\n",
      "        -2.22044605e-20], requires_grad=True)]\n"
     ]
    }
   ],
   "source": [
    "# store the values of the circuit parameter\n",
    "angle = [theta]\n",
    "print(angle)\n",
    "#len(angle)"
   ]
  },
  {
   "cell_type": "code",
   "execution_count": 36,
   "id": "f0100812",
   "metadata": {},
   "outputs": [
    {
     "name": "stdout",
     "output_type": "stream",
     "text": [
      "Step = 0,  Diagonality = 0.06700000 Ha\n",
      "Step = 2,  Diagonality = 0.05900000 Ha\n",
      "Step = 4,  Diagonality = 0.05700000 Ha\n",
      "Step = 6,  Diagonality = 0.05900000 Ha\n",
      "Step = 8,  Diagonality = 0.05400000 Ha\n",
      "Step = 10,  Diagonality = 0.06000000 Ha\n",
      "Step = 12,  Diagonality = 0.06500000 Ha\n",
      "Step = 14,  Diagonality = 0.06800000 Ha\n",
      "Step = 16,  Diagonality = 0.08400000 Ha\n",
      "Step = 18,  Diagonality = 0.06700000 Ha\n",
      "Step = 20,  Diagonality = 0.05200000 Ha\n",
      "Step = 22,  Diagonality = 0.06200000 Ha\n",
      "Step = 24,  Diagonality = 0.06400000 Ha\n",
      "Step = 26,  Diagonality = 0.06200000 Ha\n",
      "Step = 28,  Diagonality = 0.06300000 Ha\n",
      "Step = 30,  Diagonality = 0.05600000 Ha\n",
      "Step = 32,  Diagonality = 0.05600000 Ha\n",
      "Step = 34,  Diagonality = 0.06500000 Ha\n",
      "Step = 36,  Diagonality = 0.05000000 Ha\n",
      "Step = 38,  Diagonality = 0.05200000 Ha\n",
      "Step = 40,  Diagonality = 0.07900000 Ha\n",
      "Step = 42,  Diagonality = 0.05900000 Ha\n",
      "Step = 44,  Diagonality = 0.06600000 Ha\n",
      "Step = 46,  Diagonality = 0.06700000 Ha\n",
      "Step = 48,  Diagonality = 0.06500000 Ha\n",
      "Step = 50,  Diagonality = 0.06700000 Ha\n",
      "Step = 52,  Diagonality = 0.05600000 Ha\n",
      "Step = 54,  Diagonality = 0.06000000 Ha\n",
      "Step = 56,  Diagonality = 0.05500000 Ha\n"
     ]
    }
   ],
   "source": [
    "###To Do\n",
    "#Figure out why the energy stays roughly constant\n",
    "\n",
    "opt = qml.GradientDescentOptimizer(stepsize=0.2)\n",
    "max_iterations = 1000\n",
    "conv_tol = 1e-06\n",
    "\n",
    "for n in range(max_iterations):\n",
    "    theta, prev_diag = opt.step_and_cost(VQSD, theta)\n",
    "\n",
    "    diag.append(VQSD(theta))\n",
    "    angle.append(theta)\n",
    "\n",
    "    conv = np.abs(diag[-1] - prev_diag)\n",
    "\n",
    "    if n % 2 == 0:\n",
    "        print(f\"Step = {n},  Diagonality = {diag[-1]:.8f} Ha\")\n",
    "\n",
    "    if conv <= conv_tol:\n",
    "        break\n",
    "\n",
    "#print(\"\\n\" f\"Final value of the ground-state energy = {diag[-1]:.8f} Ha\")\n",
    "#print(\"\\n\" f\"Optimal value of the circuit parameter = {angle[-1]:.4f}\")"
   ]
  },
  {
   "cell_type": "code",
   "execution_count": 30,
   "id": "dcdb2a58",
   "metadata": {},
   "outputs": [
    {
     "ename": "ValueError",
     "evalue": "x and y must have same first dimension, but have shapes (28,) and (38,)",
     "output_type": "error",
     "traceback": [
      "\u001b[1;31m---------------------------------------------------------------------------\u001b[0m",
      "\u001b[1;31mValueError\u001b[0m                                Traceback (most recent call last)",
      "Cell \u001b[1;32mIn[30], line 12\u001b[0m\n\u001b[0;32m     10\u001b[0m \u001b[38;5;66;03m# Add energy plot on column 1\u001b[39;00m\n\u001b[0;32m     11\u001b[0m ax1 \u001b[38;5;241m=\u001b[39m fig\u001b[38;5;241m.\u001b[39madd_subplot(\u001b[38;5;241m121\u001b[39m)\n\u001b[1;32m---> 12\u001b[0m \u001b[43max1\u001b[49m\u001b[38;5;241;43m.\u001b[39;49m\u001b[43mplot\u001b[49m\u001b[43m(\u001b[49m\u001b[38;5;28;43mrange\u001b[39;49m\u001b[43m(\u001b[49m\u001b[43mn\u001b[49m\u001b[43m \u001b[49m\u001b[38;5;241;43m+\u001b[39;49m\u001b[43m \u001b[49m\u001b[38;5;241;43m2\u001b[39;49m\u001b[43m)\u001b[49m\u001b[43m,\u001b[49m\u001b[43m \u001b[49m\u001b[43mdiag\u001b[49m\u001b[43m,\u001b[49m\u001b[43m \u001b[49m\u001b[38;5;124;43m\"\u001b[39;49m\u001b[38;5;124;43mgo\u001b[39;49m\u001b[38;5;124;43m\"\u001b[39;49m\u001b[43m,\u001b[49m\u001b[43m \u001b[49m\u001b[43mls\u001b[49m\u001b[38;5;241;43m=\u001b[39;49m\u001b[38;5;124;43m\"\u001b[39;49m\u001b[38;5;124;43mdashed\u001b[39;49m\u001b[38;5;124;43m\"\u001b[39;49m\u001b[43m)\u001b[49m\n\u001b[0;32m     13\u001b[0m ax1\u001b[38;5;241m.\u001b[39mplot(\u001b[38;5;28mrange\u001b[39m(n \u001b[38;5;241m+\u001b[39m \u001b[38;5;241m2\u001b[39m), np\u001b[38;5;241m.\u001b[39mfull(n \u001b[38;5;241m+\u001b[39m \u001b[38;5;241m2\u001b[39m, E_fci), color\u001b[38;5;241m=\u001b[39m\u001b[38;5;124m\"\u001b[39m\u001b[38;5;124mred\u001b[39m\u001b[38;5;124m\"\u001b[39m)\n\u001b[0;32m     14\u001b[0m ax1\u001b[38;5;241m.\u001b[39mset_xlabel(\u001b[38;5;124m\"\u001b[39m\u001b[38;5;124mOptimization step\u001b[39m\u001b[38;5;124m\"\u001b[39m, fontsize\u001b[38;5;241m=\u001b[39m\u001b[38;5;241m13\u001b[39m)\n",
      "File \u001b[1;32mc:\\Users\\chopi\\anaconda3\\lib\\site-packages\\matplotlib\\axes\\_axes.py:1688\u001b[0m, in \u001b[0;36mAxes.plot\u001b[1;34m(self, scalex, scaley, data, *args, **kwargs)\u001b[0m\n\u001b[0;32m   1445\u001b[0m \u001b[38;5;124;03m\"\"\"\u001b[39;00m\n\u001b[0;32m   1446\u001b[0m \u001b[38;5;124;03mPlot y versus x as lines and/or markers.\u001b[39;00m\n\u001b[0;32m   1447\u001b[0m \n\u001b[1;32m   (...)\u001b[0m\n\u001b[0;32m   1685\u001b[0m \u001b[38;5;124;03m(``'green'``) or hex strings (``'#008000'``).\u001b[39;00m\n\u001b[0;32m   1686\u001b[0m \u001b[38;5;124;03m\"\"\"\u001b[39;00m\n\u001b[0;32m   1687\u001b[0m kwargs \u001b[38;5;241m=\u001b[39m cbook\u001b[38;5;241m.\u001b[39mnormalize_kwargs(kwargs, mlines\u001b[38;5;241m.\u001b[39mLine2D)\n\u001b[1;32m-> 1688\u001b[0m lines \u001b[38;5;241m=\u001b[39m [\u001b[38;5;241m*\u001b[39m\u001b[38;5;28mself\u001b[39m\u001b[38;5;241m.\u001b[39m_get_lines(\u001b[38;5;241m*\u001b[39margs, data\u001b[38;5;241m=\u001b[39mdata, \u001b[38;5;241m*\u001b[39m\u001b[38;5;241m*\u001b[39mkwargs)]\n\u001b[0;32m   1689\u001b[0m \u001b[38;5;28;01mfor\u001b[39;00m line \u001b[38;5;129;01min\u001b[39;00m lines:\n\u001b[0;32m   1690\u001b[0m     \u001b[38;5;28mself\u001b[39m\u001b[38;5;241m.\u001b[39madd_line(line)\n",
      "File \u001b[1;32mc:\\Users\\chopi\\anaconda3\\lib\\site-packages\\matplotlib\\axes\\_base.py:311\u001b[0m, in \u001b[0;36m_process_plot_var_args.__call__\u001b[1;34m(self, data, *args, **kwargs)\u001b[0m\n\u001b[0;32m    309\u001b[0m     this \u001b[38;5;241m+\u001b[39m\u001b[38;5;241m=\u001b[39m args[\u001b[38;5;241m0\u001b[39m],\n\u001b[0;32m    310\u001b[0m     args \u001b[38;5;241m=\u001b[39m args[\u001b[38;5;241m1\u001b[39m:]\n\u001b[1;32m--> 311\u001b[0m \u001b[38;5;28;01myield from\u001b[39;00m \u001b[38;5;28;43mself\u001b[39;49m\u001b[38;5;241;43m.\u001b[39;49m\u001b[43m_plot_args\u001b[49m\u001b[43m(\u001b[49m\n\u001b[0;32m    312\u001b[0m \u001b[43m    \u001b[49m\u001b[43mthis\u001b[49m\u001b[43m,\u001b[49m\u001b[43m \u001b[49m\u001b[43mkwargs\u001b[49m\u001b[43m,\u001b[49m\u001b[43m \u001b[49m\u001b[43mambiguous_fmt_datakey\u001b[49m\u001b[38;5;241;43m=\u001b[39;49m\u001b[43mambiguous_fmt_datakey\u001b[49m\u001b[43m)\u001b[49m\n",
      "File \u001b[1;32mc:\\Users\\chopi\\anaconda3\\lib\\site-packages\\matplotlib\\axes\\_base.py:504\u001b[0m, in \u001b[0;36m_process_plot_var_args._plot_args\u001b[1;34m(self, tup, kwargs, return_kwargs, ambiguous_fmt_datakey)\u001b[0m\n\u001b[0;32m    501\u001b[0m     \u001b[38;5;28mself\u001b[39m\u001b[38;5;241m.\u001b[39maxes\u001b[38;5;241m.\u001b[39myaxis\u001b[38;5;241m.\u001b[39mupdate_units(y)\n\u001b[0;32m    503\u001b[0m \u001b[38;5;28;01mif\u001b[39;00m x\u001b[38;5;241m.\u001b[39mshape[\u001b[38;5;241m0\u001b[39m] \u001b[38;5;241m!=\u001b[39m y\u001b[38;5;241m.\u001b[39mshape[\u001b[38;5;241m0\u001b[39m]:\n\u001b[1;32m--> 504\u001b[0m     \u001b[38;5;28;01mraise\u001b[39;00m \u001b[38;5;167;01mValueError\u001b[39;00m(\u001b[38;5;124mf\u001b[39m\u001b[38;5;124m\"\u001b[39m\u001b[38;5;124mx and y must have same first dimension, but \u001b[39m\u001b[38;5;124m\"\u001b[39m\n\u001b[0;32m    505\u001b[0m                      \u001b[38;5;124mf\u001b[39m\u001b[38;5;124m\"\u001b[39m\u001b[38;5;124mhave shapes \u001b[39m\u001b[38;5;132;01m{\u001b[39;00mx\u001b[38;5;241m.\u001b[39mshape\u001b[38;5;132;01m}\u001b[39;00m\u001b[38;5;124m and \u001b[39m\u001b[38;5;132;01m{\u001b[39;00my\u001b[38;5;241m.\u001b[39mshape\u001b[38;5;132;01m}\u001b[39;00m\u001b[38;5;124m\"\u001b[39m)\n\u001b[0;32m    506\u001b[0m \u001b[38;5;28;01mif\u001b[39;00m x\u001b[38;5;241m.\u001b[39mndim \u001b[38;5;241m>\u001b[39m \u001b[38;5;241m2\u001b[39m \u001b[38;5;129;01mor\u001b[39;00m y\u001b[38;5;241m.\u001b[39mndim \u001b[38;5;241m>\u001b[39m \u001b[38;5;241m2\u001b[39m:\n\u001b[0;32m    507\u001b[0m     \u001b[38;5;28;01mraise\u001b[39;00m \u001b[38;5;167;01mValueError\u001b[39;00m(\u001b[38;5;124mf\u001b[39m\u001b[38;5;124m\"\u001b[39m\u001b[38;5;124mx and y can be no greater than 2D, but have \u001b[39m\u001b[38;5;124m\"\u001b[39m\n\u001b[0;32m    508\u001b[0m                      \u001b[38;5;124mf\u001b[39m\u001b[38;5;124m\"\u001b[39m\u001b[38;5;124mshapes \u001b[39m\u001b[38;5;132;01m{\u001b[39;00mx\u001b[38;5;241m.\u001b[39mshape\u001b[38;5;132;01m}\u001b[39;00m\u001b[38;5;124m and \u001b[39m\u001b[38;5;132;01m{\u001b[39;00my\u001b[38;5;241m.\u001b[39mshape\u001b[38;5;132;01m}\u001b[39;00m\u001b[38;5;124m\"\u001b[39m)\n",
      "\u001b[1;31mValueError\u001b[0m: x and y must have same first dimension, but have shapes (28,) and (38,)"
     ]
    },
    {
     "data": {
      "image/png": "[encoded data removed]",
      "text/plain": [
       "<Figure size 1200x500 with 1 Axes>"
      ]
     },
     "metadata": {},
     "output_type": "display_data"
    }
   ],
   "source": [
    "import matplotlib.pyplot as plt\n",
    "\n",
    "fig = plt.figure()\n",
    "fig.set_figheight(5)\n",
    "fig.set_figwidth(12)\n",
    "\n",
    "# Full configuration interaction (FCI) energy computed classically\n",
    "E_fci = -1.136189454088\n",
    "\n",
    "# Add energy plot on column 1\n",
    "ax1 = fig.add_subplot(121)\n",
    "ax1.plot(range(n + 2), diag, \"go\", ls=\"dashed\")\n",
    "ax1.plot(range(n + 2), np.full(n + 2, E_fci), color=\"red\")\n",
    "ax1.set_xlabel(\"Optimization step\", fontsize=13)\n",
    "ax1.set_ylabel(\"Energy (Hartree)\", fontsize=13)\n",
    "ax1.text(0.5, -1.1176, r\"$E_\\mathrm{HF}$\", fontsize=15)\n",
    "ax1.text(0, -1.1357, r\"$E_\\mathrm{FCI}$\", fontsize=15)\n",
    "plt.xticks(fontsize=12)\n",
    "plt.yticks(fontsize=12)\n",
    "\n",
    "\n",
    "plt.subplots_adjust(wspace=0.3, bottom=0.2)\n",
    "plt.show()"
   ]
  },
  {
   "cell_type": "code",
   "execution_count": 31,
   "id": "0d288163",
   "metadata": {},
   "outputs": [
    {
     "data": {
      "text/plain": [
       "[tensor([ 2.00000000e-04, -2.40000000e-03,  2.20000000e-03,\n",
       "         -2.22044605e-20], requires_grad=True),\n",
       " tensor([ 0.0028, -0.003 ,  0.0028, -0.0014], requires_grad=True),\n",
       " tensor([ 0.0036, -0.0018,  0.0008,  0.0006], requires_grad=True),\n",
       " tensor([ 0.0042, -0.0028, -0.0014,  0.0016], requires_grad=True),\n",
       " tensor([ 0.0028, -0.0046, -0.0004,  0.004 ], requires_grad=True),\n",
       " tensor([ 0.0038, -0.0026, -0.0026,  0.0036], requires_grad=True),\n",
       " tensor([ 0.001 , -0.0058, -0.0064,  0.0022], requires_grad=True),\n",
       " tensor([ 0.0042, -0.0032, -0.0038, -0.0006], requires_grad=True),\n",
       " tensor([ 0.0072, -0.0024, -0.0048,  0.004 ], requires_grad=True),\n",
       " tensor([ 0.0072, -0.0034, -0.0014,  0.009 ], requires_grad=True),\n",
       " tensor([ 0.0052, -0.0012, -0.0008,  0.009 ], requires_grad=True),\n",
       " tensor([ 6.00000000e-03, -3.20000000e-03,  8.34835673e-18,\n",
       "          1.10000000e-02], requires_grad=True),\n",
       " tensor([5.60000000e-03, 6.07153217e-18, 2.00000000e-03, 1.06000000e-02], requires_grad=True),\n",
       " tensor([ 0.0038, -0.0004,  0.0004,  0.011 ], requires_grad=True),\n",
       " tensor([-0.0016,  0.0012, -0.0036,  0.0114], requires_grad=True),\n",
       " tensor([-0.0016,  0.0028, -0.0044,  0.012 ], requires_grad=True),\n",
       " tensor([-0.0046,  0.002 , -0.0046,  0.0096], requires_grad=True),\n",
       " tensor([-0.0068, -0.0006, -0.0052,  0.0126], requires_grad=True),\n",
       " tensor([-0.008 , -0.001 , -0.0038,  0.015 ], requires_grad=True),\n",
       " tensor([-0.0056,  0.0002, -0.0036,  0.0162], requires_grad=True),\n",
       " tensor([-5.6000000e-03,  7.8875708e-18, -1.4000000e-03,  1.6400000e-02], requires_grad=True),\n",
       " tensor([-0.0048,  0.0006, -0.003 ,  0.0156], requires_grad=True),\n",
       " tensor([-0.0076, -0.0002, -0.0042,  0.0144], requires_grad=True),\n",
       " tensor([-0.0098, -0.0032, -0.0066,  0.0146], requires_grad=True),\n",
       " tensor([-0.0102, -0.0008, -0.0108,  0.0154], requires_grad=True),\n",
       " tensor([-0.0108,  0.0014, -0.0098,  0.016 ], requires_grad=True),\n",
       " tensor([-0.0108, -0.0018, -0.0094,  0.0182], requires_grad=True),\n",
       " tensor([-0.0074, -0.0046, -0.0082,  0.017 ], requires_grad=True),\n",
       " tensor([-0.005, -0.004, -0.009,  0.017], requires_grad=True),\n",
       " tensor([-0.0016, -0.0014, -0.0128,  0.0144], requires_grad=True),\n",
       " tensor([ 0.0012, -0.001 , -0.0138,  0.0162], requires_grad=True),\n",
       " tensor([-0.001, -0.001, -0.016,  0.017], requires_grad=True),\n",
       " tensor([-0.0028, -0.0012, -0.0182,  0.018 ], requires_grad=True),\n",
       " tensor([ 7.80625564e-18,  3.20000000e-03, -1.48000000e-02,\n",
       "          1.98000000e-02], requires_grad=True),\n",
       " tensor([-0.0018,  0.0044, -0.0138,  0.0168], requires_grad=True),\n",
       " tensor([-0.0016,  0.002 , -0.0146,  0.0162], requires_grad=True),\n",
       " tensor([-0.001 ,  0.0014, -0.0146,  0.0162], requires_grad=True),\n",
       " tensor([-0.0026,  0.0006, -0.0158,  0.017 ], requires_grad=True)]"
      ]
     },
     "execution_count": 31,
     "metadata": {},
     "output_type": "execute_result"
    }
   ],
   "source": [
    "angle"
   ]
  },
  {
   "cell_type": "code",
   "execution_count": 32,
   "id": "75d910c6",
   "metadata": {},
   "outputs": [
    {
     "data": {
      "text/plain": [
       "[0.059,\n",
       " 0.074,\n",
       " 0.065,\n",
       " 0.06,\n",
       " 0.061,\n",
       " 0.06,\n",
       " 0.06,\n",
       " 0.047,\n",
       " 0.073,\n",
       " 0.062,\n",
       " 0.061,\n",
       " 0.052,\n",
       " 0.061,\n",
       " 0.055,\n",
       " 0.062,\n",
       " 0.063,\n",
       " 0.058,\n",
       " 0.051,\n",
       " 0.052,\n",
       " 0.086,\n",
       " 0.072,\n",
       " 0.06,\n",
       " 0.057,\n",
       " 0.051,\n",
       " 0.057,\n",
       " 0.08,\n",
       " 0.063,\n",
       " 0.068,\n",
       " 0.067,\n",
       " 0.067,\n",
       " 0.069,\n",
       " 0.057,\n",
       " 0.06,\n",
       " 0.065,\n",
       " 0.07,\n",
       " 0.059,\n",
       " 0.067,\n",
       " 0.067]"
      ]
     },
     "execution_count": 32,
     "metadata": {},
     "output_type": "execute_result"
    }
   ],
   "source": [
    "diag"
   ]
  },
  {
   "cell_type": "code",
   "execution_count": 33,
   "id": "7c57e328",
   "metadata": {},
   "outputs": [
    {
     "data": {
      "text/plain": [
       "38"
      ]
     },
     "execution_count": 33,
     "metadata": {},
     "output_type": "execute_result"
    }
   ],
   "source": [
    "len(diag)"
   ]
  },
  {
   "cell_type": "code",
   "execution_count": 34,
   "id": "213a2038",
   "metadata": {},
   "outputs": [
    {
     "data": {
      "text/plain": [
       "3"
      ]
     },
     "execution_count": 34,
     "metadata": {},
     "output_type": "execute_result"
    }
   ],
   "source": [
    "v = [0, 1, 2]\n",
    "len(v)"
   ]
  },
  {
   "cell_type": "code",
   "execution_count": null,
   "id": "0f2a1ef6",
   "metadata": {},
   "outputs": [],
   "source": []
  }
 ],
 "metadata": {
  "kernelspec": {
   "display_name": "Python 3 (ipykernel)",
   "language": "python",
   "name": "python3"
  },
  "language_info": {
   "codemirror_mode": {
    "name": "ipython",
    "version": 3
   },
   "file_extension": ".py",
   "mimetype": "text/x-python",
   "name": "python",
   "nbconvert_exporter": "python",
   "pygments_lexer": "ipython3",
   "version": "3.10.9"
  }
 },
 "nbformat": 4,
 "nbformat_minor": 5
}
