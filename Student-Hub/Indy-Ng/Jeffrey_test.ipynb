{
 "cells": [
  {
   "cell_type": "code",
   "execution_count": 1,
   "metadata": {},
   "outputs": [],
   "source": [
    "# Import your favourite library\n",
    "import pennylane as qml\n",
    "\n",
    "# Import Numpy from PennyLane\n",
    "from pennylane import numpy as np\n",
    "\n",
    "# Import the library that you need in order to use your IBM account\n",
    "# import qiskit_ibm_provider\n",
    "\n",
    "# IBM_token = #'Your Token Goes Here'\n",
    "\n",
    "# try:\n",
    "#     qiskit_ibm_provider.IBMProvider()\n",
    "# except:\n",
    "#     qiskit_ibm_provider.IBMProvider.save_account(token=IBM_token, overwrite=True)"
   ]
  },
  {
   "cell_type": "code",
   "execution_count": 24,
   "metadata": {},
   "outputs": [
    {
     "name": "stdout",
     "output_type": "stream",
     "text": [
      "sample [[0 0]\n",
      " [0 0]\n",
      " [0 0]\n",
      " ...\n",
      " [1 0]\n",
      " [0 1]\n",
      " [0 1]]\n"
     ]
    },
    {
     "data": {
      "image/png": "[encoded data removed]",
      "text/plain": [
       "<Figure size 500x300 with 1 Axes>"
      ]
     },
     "metadata": {},
     "output_type": "display_data"
    }
   ],
   "source": [
    "# Choose the device you want to use.\n",
    "# dev = qml.device(\"lightning.qubit\", wires=2, shots=1000)\n",
    "dev = qml.device('qiskit.aer', wires=2, shots=1000)\n",
    "# dev = qml.device('qiskit.ibmq', wires=2, shots=1000, backend='ibmq_qasm_simulator')\n",
    "# dev = qml.device('qiskit.ibmq', wires=2, shots=1000, backend='ibm_lagos')\n",
    "\n",
    "\n",
    "# Create a QNode with 2 entangled qubits\n",
    "@qml.qnode(dev)\n",
    "def circuit(theta):\n",
    "    qml.RX(theta[0],wires=0)\n",
    "    qml.RX(theta[1],wires=1)\n",
    "    qml.CNOT(wires=[0,1])\n",
    "    # return qml.expval(qml.PauliZ(wires=range(0,1)))\n",
    "    return qml.sample()\n",
    "\n",
    "thetas = np.array([[1.0,2.0],[1.0,2.0]],requires_grad=True)\n",
    "# Draw your circuit\n",
    "qml.draw_mpl(circuit,style='pennylane')(thetas)\n",
    "\n",
    "# Run your circuit\n",
    "print('sample', np.concatenate(circuit(thetas), axis=0))\n",
    "# print('sample', circuit(thetas))"
   ]
  },
  {
   "cell_type": "code",
   "execution_count": 18,
   "metadata": {},
   "outputs": [],
   "source": [
    "def cost(circuit, thetas):\n",
    "    c = circuit(thetas)\n",
    "    return np.mean(c)"
   ]
  },
  {
   "cell_type": "code",
   "execution_count": 19,
   "metadata": {},
   "outputs": [
    {
     "data": {
      "text/plain": [
       "0.031"
      ]
     },
     "execution_count": 19,
     "metadata": {},
     "output_type": "execute_result"
    }
   ],
   "source": [
    "cost(circuit, thetas)"
   ]
  },
  {
   "cell_type": "code",
   "execution_count": 14,
   "metadata": {},
   "outputs": [],
   "source": [
    "opt = qml.GradientDescentOptimizer(0.01)"
   ]
  },
  {
   "cell_type": "code",
   "execution_count": 15,
   "metadata": {},
   "outputs": [
    {
     "name": "stdout",
     "output_type": "stream",
     "text": [
      "Step   0       Cost_L = 0.0230000\n",
      "Step   1       Cost_L = 0.0610000\n",
      "Step   2       Cost_L = 0.0720000\n",
      "Step   3       Cost_L = 0.0440000\n",
      "Step   4       Cost_L = 0.0130000\n",
      "Step   5       Cost_L = 0.0200000\n",
      "Step   6       Cost_L = 0.0200000\n",
      "Step   7       Cost_L = 0.0480000\n",
      "Step   8       Cost_L = 0.0340000\n",
      "Step   9       Cost_L = 0.0420000\n"
     ]
    }
   ],
   "source": [
    "cost_history = []\n",
    "for it in range(10):\n",
    "# for it in range(steps):\n",
    "    thetas, prev_cost = opt.step_and_cost(lambda thetas: cost(circuit, thetas), thetas)\n",
    "    \n",
    "    # clear_output(wait=True)\n",
    "\n",
    "    print(\"Step {:3d}       Cost_L = {:9.7f}\".format(it, prev_cost), flush=True)\n",
    "    cost_history.append(prev_cost)"
   ]
  },
  {
   "cell_type": "code",
   "execution_count": 1,
   "metadata": {},
   "outputs": [],
   "source": [
    "from problems.vqls import A_to_code"
   ]
  },
  {
   "cell_type": "code",
   "execution_count": null,
   "metadata": {},
   "outputs": [],
   "source": []
  }
 ],
 "metadata": {
  "kernelspec": {
   "display_name": ".venv",
   "language": "python",
   "name": "python3"
  },
  "language_info": {
   "codemirror_mode": {
    "name": "ipython",
    "version": 3
   },
   "file_extension": ".py",
   "mimetype": "text/x-python",
   "name": "python",
   "nbconvert_exporter": "python",
   "pygments_lexer": "ipython3",
   "version": "3.11.6"
  },
  "orig_nbformat": 4
 },
 "nbformat": 4,
 "nbformat_minor": 2
}
