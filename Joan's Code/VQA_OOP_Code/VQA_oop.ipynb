{
 "cells": [
  {
   "cell_type": "code",
   "execution_count": 1,
   "id": "45b4feaf-4e4f-44c1-8ab5-c92a4a5c9096",
   "metadata": {},
   "outputs": [],
   "source": [
    "import pennylane as qml \n",
    "from pennylane import qchem\n",
    "from pennylane import numpy as np\n",
    "import matplotlib.pyplot as plt"
   ]
  },
  {
   "cell_type": "code",
   "execution_count": 14,
   "id": "510c5772-bfda-4f13-b80a-69bc45b0aca0",
   "metadata": {},
   "outputs": [],
   "source": [
    "class VQA:\n",
    "    \n",
    "    def __init__(self, qubits, shots):\n",
    "        self.qubits = qubits\n",
    "        self.shots = shots\n",
    "\n",
    "class ex(VQA):\n",
    "    \n",
    "    def __init__(self, qubits, shots, measure):\n",
    "        super().__init__(qubits, shots)\n",
    "        self.measure = measure\n",
    "        \n",
    "    def run(self):\n",
    "        dev = qml.device(\"default.qubit\", wires=self.qubits, shots=self.shots)\n",
    "        @qml.qnode(dev)\n",
    "        def circuit(q):\n",
    "            initial()\n",
    "            ansatz()\n",
    "            cost_function()\n",
    "                qml.Hadamard(i)\n",
    "            return [qml.expval(qml.PauliZ(i)) for i in range(self.qubits)]\n",
    "        return circuit(self.qubits)"
   ]
  },
  {
   "cell_type": "code",
   "execution_count": 18,
   "id": "07bcbf0f-86d4-43e1-93fe-f40d482645d0",
   "metadata": {},
   "outputs": [],
   "source": [
    "A = sup(3,100,10)"
   ]
  },
  {
   "cell_type": "code",
   "execution_count": 19,
   "id": "e20d028c-8715-4308-9f4a-ce428ec88006",
   "metadata": {},
   "outputs": [
    {
     "data": {
      "text/plain": [
       "3"
      ]
     },
     "execution_count": 19,
     "metadata": {},
     "output_type": "execute_result"
    }
   ],
   "source": [
    "A.qubits"
   ]
  },
  {
   "cell_type": "code",
   "execution_count": 20,
   "id": "2f5fe976-d0b8-4f7c-856a-ab5404fc6ede",
   "metadata": {},
   "outputs": [
    {
     "data": {
      "text/plain": [
       "tensor([-0.08,  0.  ,  0.2 ], requires_grad=True)"
      ]
     },
     "execution_count": 20,
     "metadata": {},
     "output_type": "execute_result"
    }
   ],
   "source": [
    "A.run()"
   ]
  },
  {
   "cell_type": "code",
   "execution_count": 8,
   "id": "70f52924-fb52-440a-99bf-00b73b6ebccc",
   "metadata": {},
   "outputs": [
    {
     "ename": "NameError",
     "evalue": "name 'dev' is not defined",
     "output_type": "error",
     "traceback": [
      "\u001b[0;31m---------------------------------------------------------------------------\u001b[0m",
      "\u001b[0;31mNameError\u001b[0m                                 Traceback (most recent call last)",
      "\u001b[0;32m/tmp/ipykernel_51/2436505368.py\u001b[0m in \u001b[0;36m<cell line: 1>\u001b[0;34m()\u001b[0m\n\u001b[0;32m----> 1\u001b[0;31m \u001b[0mA\u001b[0m\u001b[0;34m.\u001b[0m\u001b[0mH\u001b[0m\u001b[0;34m(\u001b[0m\u001b[0;34m)\u001b[0m\u001b[0;34m\u001b[0m\u001b[0;34m\u001b[0m\u001b[0m\n\u001b[0m",
      "\u001b[0;32m/tmp/ipykernel_51/582606020.py\u001b[0m in \u001b[0;36mH\u001b[0;34m(qubits)\u001b[0m\n\u001b[1;32m     16\u001b[0m \u001b[0;34m\u001b[0m\u001b[0m\n\u001b[1;32m     17\u001b[0m     \u001b[0;32mdef\u001b[0m \u001b[0mH\u001b[0m\u001b[0;34m(\u001b[0m\u001b[0mqubits\u001b[0m\u001b[0;34m)\u001b[0m\u001b[0;34m:\u001b[0m\u001b[0;34m\u001b[0m\u001b[0;34m\u001b[0m\u001b[0m\n\u001b[0;32m---> 18\u001b[0;31m         \u001b[0;34m@\u001b[0m\u001b[0mqml\u001b[0m\u001b[0;34m.\u001b[0m\u001b[0mqnode\u001b[0m\u001b[0;34m(\u001b[0m\u001b[0mdev\u001b[0m\u001b[0;34m)\u001b[0m\u001b[0;34m\u001b[0m\u001b[0;34m\u001b[0m\u001b[0m\n\u001b[0m\u001b[1;32m     19\u001b[0m         \u001b[0;32mdef\u001b[0m \u001b[0mcircuit\u001b[0m\u001b[0;34m(\u001b[0m\u001b[0mqubits\u001b[0m\u001b[0;34m)\u001b[0m\u001b[0;34m:\u001b[0m\u001b[0;34m\u001b[0m\u001b[0;34m\u001b[0m\u001b[0m\n\u001b[1;32m     20\u001b[0m             \u001b[0;32mfor\u001b[0m \u001b[0mi\u001b[0m \u001b[0;32min\u001b[0m \u001b[0mrange\u001b[0m\u001b[0;34m(\u001b[0m\u001b[0mqubits\u001b[0m\u001b[0;34m)\u001b[0m\u001b[0;34m:\u001b[0m\u001b[0;34m\u001b[0m\u001b[0;34m\u001b[0m\u001b[0m\n",
      "\u001b[0;31mNameError\u001b[0m: name 'dev' is not defined"
     ]
    }
   ],
   "source": [
    "A.H()"
   ]
  },
  {
   "cell_type": "code",
   "execution_count": null,
   "id": "5f545fc7-437f-4048-b200-0110decd08df",
   "metadata": {},
   "outputs": [],
   "source": []
  }
 ],
 "metadata": {
  "kernelspec": {
   "display_name": "PennyLane",
   "language": "python",
   "name": "pennylane"
  },
  "language_info": {
   "codemirror_mode": {
    "name": "ipython",
    "version": 3
   },
   "file_extension": ".py",
   "mimetype": "text/x-python",
   "name": "python",
   "nbconvert_exporter": "python",
   "pygments_lexer": "ipython3",
   "version": "3.9.15"
  }
 },
 "nbformat": 4,
 "nbformat_minor": 5
}
