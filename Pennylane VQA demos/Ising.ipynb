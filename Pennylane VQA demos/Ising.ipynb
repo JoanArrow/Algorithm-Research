{
 "cells": [
  {
   "cell_type": "code",
   "execution_count": null,
   "id": "c47f892e-5eb4-4dd7-8c4d-3c976fbfe24a",
   "metadata": {},
   "outputs": [],
   "source": [
    "# TODOS\n",
    "\"\"\"\n",
    "- Hamiltonian DONE maybe?\n",
    "- Add variable parameters to hamiltonian DONE\n",
    "- define ansatz layer DONE\n",
    "- define observable DONE\n",
    "- define cost function\n",
    "- optimization loop\n",
    "- compute variance of gradient of cost function?\n",
    "- visualize results\n",
    "\"\"\""
   ]
  },
  {
   "cell_type": "code",
   "execution_count": 1,
   "id": "a65f77ec-9189-42a4-8af1-40143ba3f81f",
   "metadata": {},
   "outputs": [],
   "source": [
    "import pennylane as qml\n",
    "from pennylane import numpy as np"
   ]
  },
  {
   "cell_type": "code",
   "execution_count": 2,
   "id": "c309dd23-5e08-4b4a-9676-1cf135101fda",
   "metadata": {},
   "outputs": [],
   "source": [
    "n_qubits = 4\n",
    "n_layers = 1\n",
    "dev = qml.device(\"default.qubit\", wires=n_qubits)"
   ]
  },
  {
   "cell_type": "code",
   "execution_count": 17,
   "id": "badb5d13-ab19-413c-81d7-20a2c3a598fd",
   "metadata": {},
   "outputs": [
    {
     "name": "stdout",
     "output_type": "stream",
     "text": [
      "  (1) [Z0 Z1 Z2 Z3]\n",
      "+ (1) [Z0 Z1 Z2 Z3]\n",
      "+ (1) [X0 X1 X2 X3]\n"
     ]
    }
   ],
   "source": [
    "# supposedly the hamiltonian for the observable but I'm not sure if this is correct\n",
    "H_obs = qml.Hamiltonian(\n",
    "    [1, 1, 1], #guess: giving no coeffs is the same as giving them all 1s??? But now we're multiplying these and I'm not sure if the obs is exponentiated as well\n",
    "    [qml.PauliZ(0) @ qml.PauliZ(1) @ qml.PauliZ(2) @ qml.PauliZ(3), \n",
    "     qml.PauliZ(0) @ qml.PauliZ(1) @ qml.PauliZ(2) @ qml.PauliZ(3),\n",
    "     qml.PauliX(0) @ qml.PauliX(1) @ qml.PauliX(2) @ qml.PauliX(3)] #TODO: un-hard code\n",
    ")\n",
    "print(H_obs)"
   ]
  },
  {
   "cell_type": "code",
   "execution_count": 58,
   "id": "bfc401ed-e8eb-4d02-8a16-328f5e45773f",
   "metadata": {},
   "outputs": [
    {
     "name": "stdout",
     "output_type": "stream",
     "text": [
      "0: ─╭Exp─╭Exp─┤ ╭<𝓗(1.00,1.00,1.00)>\n",
      "1: ─├Exp─├Exp─┤ ├<𝓗(1.00,1.00,1.00)>\n",
      "2: ─├Exp─├Exp─┤ ├<𝓗(1.00,1.00,1.00)>\n",
      "3: ─╰Exp─╰Exp─┤ ╰<𝓗(1.00,1.00,1.00)>\n"
     ]
    }
   ],
   "source": [
    "@qml.qnode(dev)\n",
    "def TFIM(weights):\n",
    "    for i in range(n_layers):\n",
    "        t = sum([qml.PauliZ(i) @ qml.PauliZ((i+1) % n_qubits) for i in range(n_qubits)])\n",
    "        qml.exp(t, 1j * weights[i][0]) # for some reason have to multiply weights by a complex number\n",
    "        t = sum([qml.PauliX(i) for i in range(n_qubits)])\n",
    "        qml.exp(t, 1j * weights[i][1])\n",
    "    return qml.expval(H_obs)\n",
    "\n",
    "weights = np.random.random(size = [n_layers, 2])\n",
    "print(qml.draw(TFIM)(weights))"
   ]
  },
  {
   "cell_type": "code",
   "execution_count": null,
   "id": "33ca2de6-58ff-4a71-ace9-3c96c03b064b",
   "metadata": {
    "jp-MarkdownHeadingCollapsed": true,
    "tags": []
   },
   "outputs": [],
   "source": [
    "def cost_fn(param):\n",
    "    #TODO"
   ]
  }
 ],
 "metadata": {
  "kernelspec": {
   "display_name": "PennyLane",
   "language": "python",
   "name": "pennylane"
  },
  "language_info": {
   "codemirror_mode": {
    "name": "ipython",
    "version": 3
   },
   "file_extension": ".py",
   "mimetype": "text/x-python",
   "name": "python",
   "nbconvert_exporter": "python",
   "pygments_lexer": "ipython3",
   "version": "3.9.13"
  }
 },
 "nbformat": 4,
 "nbformat_minor": 5
}
