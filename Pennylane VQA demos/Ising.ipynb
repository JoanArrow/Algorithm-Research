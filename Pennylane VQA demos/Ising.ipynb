{
 "cells": [
  {
   "cell_type": "code",
   "execution_count": 1,
   "id": "a65f77ec-9189-42a4-8af1-40143ba3f81f",
   "metadata": {},
   "outputs": [],
   "source": [
    "import pennylane as qml\n",
    "from pennylane import numpy as np"
   ]
  },
  {
   "cell_type": "code",
   "execution_count": 2,
   "id": "c309dd23-5e08-4b4a-9676-1cf135101fda",
   "metadata": {},
   "outputs": [],
   "source": [
    "n_qubits = 4\n",
    "n_layers = 1\n",
    "dev = qml.device(\"default.qubit\", wires=n_qubits)"
   ]
  },
  {
   "cell_type": "code",
   "execution_count": 9,
   "id": "847fad35-a808-4548-9250-86ca602b9c81",
   "metadata": {},
   "outputs": [],
   "source": [
    "# fix this garbage\n",
    "def Hamiltonian(n_qubits):\n",
    "    if n_qubits == 0:\n",
    "        return None\n",
    "    if n_qubits == 1:\n",
    "        return qml.prod(\n",
    "            qml.PauliZ(n_qubits - 1),\n",
    "            qml.PauliZ(n_qubits - 1),\n",
    "            qml.PauliX(n_qubits - 1)\n",
    "        )\n",
    "    return Hamiltonian(n_qubits - 1) @ qml.prod(\n",
    "            qml.PauliZ(n_qubits - 1),\n",
    "            qml.PauliZ(n_qubits - 1),\n",
    "            qml.PauliX(n_qubits - 1)\n",
    "        )"
   ]
  },
  {
   "cell_type": "code",
   "execution_count": 12,
   "id": "bfc401ed-e8eb-4d02-8a16-328f5e45773f",
   "metadata": {},
   "outputs": [
    {
     "name": "stdout",
     "output_type": "stream",
     "text": [
      "0: ─╭IsingZZ(0.50)─╭IsingZZ(0.23)──X────────────────┤ ╭<(((Z@Z@X)@(Z@Z@X))@(Z@Z@X))@(Z@Z@X)>\n",
      "1: ─╰IsingZZ(0.50)─│──────────────╭IsingZZ(0.23)──X─┤ ├<(((Z@Z@X)@(Z@Z@X))@(Z@Z@X))@(Z@Z@X)>\n",
      "2: ─╭IsingZZ(0.50)─│──────────────╰IsingZZ(0.23)──X─┤ ├<(((Z@Z@X)@(Z@Z@X))@(Z@Z@X))@(Z@Z@X)>\n",
      "3: ─╰IsingZZ(0.50)─╰IsingZZ(0.23)──X────────────────┤ ╰<(((Z@Z@X)@(Z@Z@X))@(Z@Z@X))@(Z@Z@X)>\n"
     ]
    }
   ],
   "source": [
    "@qml.qnode(dev)\n",
    "def TFIM(weights):\n",
    "    for i in range(n_layers):\n",
    "        qml.IsingZZ(weights[0], wires=[0,1])\n",
    "        qml.IsingZZ(weights[0], wires=[2,3])\n",
    "        qml.IsingZZ(weights[1], wires=[0,3]) # if \"open boundary conditions\" this gate isn't there\n",
    "        qml.IsingZZ(weights[1], wires=[1,2])\n",
    "\n",
    "        for i in range(n_qubits):\n",
    "            qml.PauliX(i)\n",
    "            # qml.PauliZ(i) # LTFIM\n",
    "    return qml.expval(Hamiltonian(n_qubits))\n",
    "\n",
    "weights = [np.random.random() for _ in range(2)]\n",
    "print(qml.draw(TFIM)(weights))"
   ]
  },
  {
   "cell_type": "code",
   "execution_count": null,
   "id": "30a3b8fb-d945-4763-8589-40eaadb09054",
   "metadata": {},
   "outputs": [],
   "source": [
    "def cost_fn(param):\n",
    "    "
   ]
  },
  {
   "cell_type": "code",
   "execution_count": 13,
   "id": "0c2d312b-9b43-4baa-ab55-0b74329618a6",
   "metadata": {},
   "outputs": [
    {
     "name": "stdout",
     "output_type": "stream",
     "text": [
      "  (1) [X0]\n",
      "+ (1) [Z1]\n",
      "+ (0.5) [X0 X1]\n"
     ]
    }
   ],
   "source": [
    "H = qml.Hamiltonian(\n",
    "    [1, 1, 0.5],\n",
    "    [qml.PauliX(0), qml.PauliZ(1), qml.PauliX(0) @ qml.PauliX(1)]\n",
    ")\n",
    "print(H)"
   ]
  },
  {
   "cell_type": "code",
   "execution_count": null,
   "id": "07bd0c27-ad4a-4254-8ee9-72bf7141ed9d",
   "metadata": {},
   "outputs": [],
   "source": []
  }
 ],
 "metadata": {
  "kernelspec": {
   "display_name": "PennyLane",
   "language": "python",
   "name": "pennylane"
  },
  "language_info": {
   "codemirror_mode": {
    "name": "ipython",
    "version": 3
   },
   "file_extension": ".py",
   "mimetype": "text/x-python",
   "name": "python",
   "nbconvert_exporter": "python",
   "pygments_lexer": "ipython3",
   "version": "3.9.13"
  }
 },
 "nbformat": 4,
 "nbformat_minor": 5
}
