{
 "cells": [
  {
   "cell_type": "code",
   "execution_count": 4,
   "id": "e0823daf-537c-4fe4-9be8-b5c2c781c36a",
   "metadata": {},
   "outputs": [],
   "source": [
    "import pennylane as qml\n",
    "#import numpy as np\n",
    "from pennylane import qchem\n",
    "from pennylane import numpy as np\n",
    "import matplotlib.pyplot as plt"
   ]
  },
  {
   "cell_type": "code",
   "execution_count": 5,
   "id": "6218c4a4-6781-4db7-b850-f852de074107",
   "metadata": {},
   "outputs": [],
   "source": [
    "class VQE:\n",
    "    \n",
    "    def __init__(self, H, shots):\n",
    "        \n",
    "        self.Hamiltonian = H\n",
    "        \n",
    "        self.shots = shots\n",
    "        \n",
    "    def run(self):\n",
    "        \n",
    "        \n",
    "\n",
    "\n",
    "#H2data = qml.data.load(\"qchem\", molname=\"H2\", basis=\"STO-3G\", bondlength=1.3)[0]\n",
    "#H = H2data.hamiltonian\n",
    "#wires = len(H.wires)"
   ]
  },
  {
   "cell_type": "code",
   "execution_count": 7,
   "id": "aa16d44e-8b42-4a02-8b9a-d356830be99f",
   "metadata": {},
   "outputs": [
    {
     "ename": "NameError",
     "evalue": "name 'qubits' is not defined",
     "output_type": "error",
     "traceback": [
      "\u001b[0;31m---------------------------------------------------------------------------\u001b[0m",
      "\u001b[0;31mNameError\u001b[0m                                 Traceback (most recent call last)",
      "\u001b[0;32m/tmp/ipykernel_51/3182243523.py\u001b[0m in \u001b[0;36m<cell line: 2>\u001b[0;34m()\u001b[0m\n\u001b[1;32m      1\u001b[0m \u001b[0melectrons\u001b[0m \u001b[0;34m=\u001b[0m \u001b[0;36m2\u001b[0m\u001b[0;34m\u001b[0m\u001b[0;34m\u001b[0m\u001b[0m\n\u001b[0;32m----> 2\u001b[0;31m \u001b[0mhf\u001b[0m \u001b[0;34m=\u001b[0m \u001b[0mqml\u001b[0m\u001b[0;34m.\u001b[0m\u001b[0mqchem\u001b[0m\u001b[0;34m.\u001b[0m\u001b[0mhf_state\u001b[0m\u001b[0;34m(\u001b[0m\u001b[0melectrons\u001b[0m\u001b[0;34m,\u001b[0m \u001b[0mqubits\u001b[0m\u001b[0;34m)\u001b[0m\u001b[0;34m\u001b[0m\u001b[0;34m\u001b[0m\u001b[0m\n\u001b[0m\u001b[1;32m      3\u001b[0m \u001b[0;34m\u001b[0m\u001b[0m\n\u001b[1;32m      4\u001b[0m \u001b[0;32mdef\u001b[0m \u001b[0mcircuit\u001b[0m\u001b[0;34m(\u001b[0m\u001b[0mparam\u001b[0m\u001b[0;34m,\u001b[0m \u001b[0mwires\u001b[0m\u001b[0;34m)\u001b[0m\u001b[0;34m:\u001b[0m\u001b[0;34m\u001b[0m\u001b[0;34m\u001b[0m\u001b[0m\n\u001b[1;32m      5\u001b[0m     \u001b[0mqml\u001b[0m\u001b[0;34m.\u001b[0m\u001b[0mBasisState\u001b[0m\u001b[0;34m(\u001b[0m\u001b[0mhf\u001b[0m\u001b[0;34m,\u001b[0m \u001b[0mwires\u001b[0m\u001b[0;34m=\u001b[0m\u001b[0mwires\u001b[0m\u001b[0;34m)\u001b[0m\u001b[0;34m\u001b[0m\u001b[0;34m\u001b[0m\u001b[0m\n",
      "\u001b[0;31mNameError\u001b[0m: name 'qubits' is not defined"
     ]
    }
   ],
   "source": [
    "###dump code from vqe\n",
    "\n",
    "electrons = 2\n",
    "hf = qml.qchem.hf_state(electrons, qubits)\n",
    "\n",
    "def circuit(param, wires):\n",
    "    qml.BasisState(hf, wires=wires)\n",
    "    qml.DoubleExcitation(param, wires=[0, 1, 2, 3])\n",
    "    \n",
    "@qml.qnode(dev, interface=\"autograd\")\n",
    "def cost_fn(param):\n",
    "    circuit(param, wires=range(qubits))\n",
    "    return qml.expval(H)\n",
    "\n",
    "###dump code from vqe"
   ]
  },
  {
   "cell_type": "code",
   "execution_count": null,
   "id": "24fe127a-d7e0-4ee2-acb6-955be7413b71",
   "metadata": {},
   "outputs": [],
   "source": []
  },
  {
   "cell_type": "code",
   "execution_count": 31,
   "id": "887a91d1-6654-4b6d-a091-c4f4c9988d5c",
   "metadata": {},
   "outputs": [
    {
     "name": "stdout",
     "output_type": "stream",
     "text": [
      "4\n"
     ]
    }
   ],
   "source": [
    "print(A.num_qbits)"
   ]
  },
  {
   "cell_type": "code",
   "execution_count": 6,
   "id": "b72bb4db-dd98-49e4-9ef1-4cdb564e8f1c",
   "metadata": {},
   "outputs": [
    {
     "name": "stdout",
     "output_type": "stream",
     "text": [
      "<Dataset = description: qchem/H2/STO-3G/1.3, attributes: ['molecule', 'hamiltonian', ...]>\n"
     ]
    }
   ],
   "source": [
    "H2data = qml.data.load(\"qchem\", molname=\"H2\", basis=\"STO-3G\", bondlength=1.3)[0]\n",
    "print(H2data)"
   ]
  },
  {
   "cell_type": "code",
   "execution_count": null,
   "id": "40b2a6a6-feff-41d0-b173-bca536777225",
   "metadata": {},
   "outputs": [],
   "source": []
  }
 ],
 "metadata": {
  "kernelspec": {
   "display_name": "PennyLane",
   "language": "python",
   "name": "pennylane"
  },
  "language_info": {
   "codemirror_mode": {
    "name": "ipython",
    "version": 3
   },
   "file_extension": ".py",
   "mimetype": "text/x-python",
   "name": "python",
   "nbconvert_exporter": "python",
   "pygments_lexer": "ipython3",
   "version": "3.9.15"
  }
 },
 "nbformat": 4,
 "nbformat_minor": 5
}
