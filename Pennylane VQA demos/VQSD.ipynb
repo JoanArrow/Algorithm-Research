{
 "cells": [
  {
   "cell_type": "markdown",
   "id": "fb05f54c-4510-4477-8232-7973f3db860b",
   "metadata": {
    "tags": []
   },
   "source": [
    "# VQSD Demo\n",
    "This is a circuit demonstratinga (not yet) scalable implementation of the VQSD algorithm in pennylane."
   ]
  },
  {
   "cell_type": "code",
   "execution_count": 35,
   "id": "8f5b8092-d170-45be-8896-92579d5f7d69",
   "metadata": {},
   "outputs": [],
   "source": [
    "# imports\n",
    "import pennylane as qml\n",
    "from pennylane import numpy as np"
   ]
  },
  {
   "cell_type": "code",
   "execution_count": 36,
   "id": "b333484d-c3ee-4eef-b3b3-0dce90ed9420",
   "metadata": {},
   "outputs": [],
   "source": [
    "# define device\n",
    "n_qubits = 1\n",
    "dev = qml.device(\"default.mixed\", wires=n_qubits*2)"
   ]
  },
  {
   "cell_type": "code",
   "execution_count": 37,
   "id": "65cad705-ea30-4cc6-aba3-cd0e6376f1d2",
   "metadata": {},
   "outputs": [],
   "source": [
    "n_layers = 2 # num parameter layers\n",
    "shape = qml.RandomLayers.shape(n_layers=n_layers, n_rotations=2) # properly define the shape of the gate layers"
   ]
  },
  {
   "cell_type": "code",
   "execution_count": 50,
   "id": "692c2dab-8434-466d-aa7a-8b0c9739d6de",
   "metadata": {},
   "outputs": [],
   "source": [
    "import math\n",
    "input_state = [1/math.sqrt(2), 1/math.sqrt(2)]\n",
    "U = np.array([input_state,[0,0]])"
   ]
  },
  {
   "cell_type": "code",
   "execution_count": 51,
   "id": "47ce8de1-99f4-4723-8556-56ca804510b6",
   "metadata": {},
   "outputs": [
    {
     "data": {
      "text/plain": [
       "tensor(1., requires_grad=True)"
      ]
     },
     "execution_count": 51,
     "metadata": {},
     "output_type": "execute_result"
    }
   ],
   "source": [
    "# Create a default.mixed device\n",
    "dev = qml.device(\"default.qubit\", wires=2) #TODO: change to default.mixed in prod\n",
    "\n",
    "target_purity = 1 #target purity\n",
    "\n",
    "# Create a qnode\n",
    "@qml.qnode(dev)\n",
    "def purity_circuit(purity):\n",
    "    # Add some gates #should I be changing this part too??\n",
    "    qml.Hadamard(wires=0)\n",
    "    qml.CNOT(wires=[0, 1])\n",
    "    # Add some noise (optional)\n",
    "    # qml.BitFlip(1 - purity, wires=0)\n",
    "    # Return the state of the system\n",
    "    return qml.state()\n",
    "\n",
    "qml.qinfo.transforms.purity(purity_circuit, wires=[0, 1])(target_purity) #TODO: tweak this hyperparameter"
   ]
  },
  {
   "cell_type": "code",
   "execution_count": 52,
   "id": "cb0a731e-3573-442a-91c5-2a08e6c4a3de",
   "metadata": {},
   "outputs": [
    {
     "name": "stdout",
     "output_type": "stream",
     "text": [
      "0: ──U(M0)──RX(0.21)──RX(0.18)──RZ(0.18)──RY(0.30)─╭●─┤       \n",
      "1: ──U(M0)──RX(0.21)──RX(0.18)──RZ(0.18)──RY(0.30)─╰X─┤  Probs\n"
     ]
    }
   ],
   "source": [
    "# circuit for dephase\n",
    "@qml.qnode(dev)\n",
    "def ansatz(weights):\n",
    "    for i in range(n_qubits*2): # initial state TODO: change this to accomodate multiple qubits\n",
    "        qml.QubitUnitary(U, wires=i)\n",
    "        # qml.Hadamard(wires=i)\n",
    "        \n",
    "    qml.RandomLayers(weights=weights, wires=range(n_qubits)) # should be the alternating one but idk how to implement that\n",
    "    qml.RandomLayers(weights=weights, wires=range(n_qubits, 2*n_qubits)) # second circuit with the exact same weights as the first\n",
    "    \n",
    "    # cost function (DIP test)\n",
    "    for i in range(n_qubits):\n",
    "        qml.CNOT(wires=[i, n_qubits + i])\n",
    "    # operator = generate_operator(n_qubits)\n",
    "    probs = qml.probs(wires=range(n_qubits, n_qubits*2)) # trace(dephased(p^2))\n",
    "    return probs\n",
    "\n",
    "weights = np.random.random(size=shape)\n",
    "print(qml.draw(ansatz, expansion_strategy=\"device\")(weights))"
   ]
  },
  {
   "cell_type": "code",
   "execution_count": 53,
   "id": "7a8e212c-4e1b-40f5-840d-3d60ab575649",
   "metadata": {},
   "outputs": [],
   "source": [
    "# cost function\n",
    "def cost_fn(param):\n",
    "    purity = qml.qinfo.transforms.purity(purity_circuit, wires=[0, 1])(target_purity)\n",
    "    probs = ansatz(param)\n",
    "    dephase = probs[0]\n",
    "    # print(probs, purity)\n",
    "    return purity - probs[0] # tr(p^2) - tr(Z(p)^2)"
   ]
  },
  {
   "cell_type": "code",
   "execution_count": 54,
   "id": "550c9281-999a-4a09-a10b-cd1d6bf1f6a8",
   "metadata": {},
   "outputs": [
    {
     "name": "stdout",
     "output_type": "stream",
     "text": [
      "0.7825646253034122\n"
     ]
    }
   ],
   "source": [
    "#initialize random weights for the circuit\n",
    "init_params = np.random.random(size=shape)\n",
    "print(cost_fn(init_params))"
   ]
  },
  {
   "cell_type": "code",
   "execution_count": 55,
   "id": "506e09c4-b70f-4201-9ac2-cc3b2f3c5545",
   "metadata": {},
   "outputs": [
    {
     "name": "stdout",
     "output_type": "stream",
     "text": [
      "Cost after step     5:  0.7565876\n",
      "Cost after step    10:  0.7514901\n",
      "Cost after step    15:  0.7504412\n",
      "Cost after step    20:  0.7501503\n",
      "Cost after step    25:  0.7500538\n",
      "Cost after step    30:  0.7500195\n",
      "Cost after step    35:  0.7500071\n",
      "Cost after step    40:  0.7500026\n",
      "Cost after step    45:  0.7500009\n",
      "Cost after step    50:  0.7500003\n",
      "Cost after step    55:  0.7500001\n",
      "Cost after step    60:  0.7500000\n",
      "Cost after step    65:  0.7500000\n",
      "Cost after step    70:  0.7500000\n",
      "Cost after step    75:  0.7500000\n",
      "Cost after step    80:  0.7500000\n",
      "Cost after step    85:  0.7500000\n",
      "Cost after step    90:  0.7500000\n",
      "Cost after step    95:  0.7500000\n",
      "Cost after step   100:  0.7500000\n",
      "Optimized rotation angles: [[ 1.52555567e-02 -1.52585867e-02]\n",
      " [ 1.46865052e-01  1.07788789e-05]]\n"
     ]
    }
   ],
   "source": [
    "# optimization loop\n",
    "opt = qml.GradientDescentOptimizer(stepsize=0.4)\n",
    "steps = 100\n",
    "params = init_params\n",
    "\n",
    "costs = []\n",
    "\n",
    "for i in range(steps):\n",
    "    params = opt.step(cost_fn, params)\n",
    "    costs.append(cost_fn(params))\n",
    "    \n",
    "    \n",
    "    if (i + 1) % 5 == 0:\n",
    "        print(\"Cost after step {:5d}: {: .7f}\".format(i + 1, cost_fn(params)))\n",
    "\n",
    "print(\"Optimized rotation angles: {}\".format(params))"
   ]
  },
  {
   "cell_type": "code",
   "execution_count": 56,
   "id": "0455de93-218c-4dfb-8d56-8ce3084d0ac3",
   "metadata": {},
   "outputs": [
    {
     "name": "stdout",
     "output_type": "stream",
     "text": [
      "0: ──H──RX(0.02)──RX(-0.02)──RZ(0.15)──RY(0.00)─┤  Probs\n"
     ]
    }
   ],
   "source": [
    "# eigenvalue readout\n",
    "dev = qml.device(\"default.qubit\", wires=n_qubits)\n",
    "@qml.qnode(dev)\n",
    "def circuit2(weights):\n",
    "    for i in range(n_qubits): # initial state TODO: change this to be able to represent any initial matrix\n",
    "        qml.Hadamard(i)\n",
    "        # qml.RX(weights[0], wires=i)\n",
    "        # qml.RY(weights[1], wires=i)\n",
    "        # qml.RZ(weights[2], wires=i)\n",
    "    qml.RandomLayers(weights=weights, wires=range(n_qubits)) # should be the alternating one but idk how to implement that\n",
    "    \n",
    "    # measure in standard gasis\n",
    "    return qml.probs() # change to just a regular measurement and that bitstring is the binary representation of the eigenvalue\n",
    "\n",
    "print(qml.draw(circuit2, expansion_strategy=\"device\")(params))"
   ]
  },
  {
   "cell_type": "code",
   "execution_count": 57,
   "id": "135a2cfc-e4fe-4809-b0da-d1b989b010c1",
   "metadata": {},
   "outputs": [
    {
     "name": "stdout",
     "output_type": "stream",
     "text": [
      "[0.49999467 0.50000533]\n"
     ]
    }
   ],
   "source": [
    "print(circuit2(params)) # there will always be 2^n eigenvalues that sum to 1"
   ]
  },
  {
   "cell_type": "code",
   "execution_count": 46,
   "id": "9a2af983-4180-473d-8577-df8f662ff22d",
   "metadata": {},
   "outputs": [
    {
     "data": {
      "image/png": "[encoded data removed]",
      "text/plain": [
       "<Figure size 640x480 with 1 Axes>"
      ]
     },
     "metadata": {},
     "output_type": "display_data"
    }
   ],
   "source": [
    "import matplotlib.pyplot as plt\n",
    "\n",
    "plt.plot([x for x in range(steps)], costs)\n",
    "plt.xlabel(\"step\")\n",
    "plt.ylabel(\"cost\")\n",
    "plt.show()"
   ]
  },
  {
   "cell_type": "code",
   "execution_count": null,
   "id": "b2fb1db4-f45b-4344-84ce-70dedb6c0642",
   "metadata": {},
   "outputs": [],
   "source": []
  }
 ],
 "metadata": {
  "kernelspec": {
   "display_name": "PennyLane",
   "language": "python",
   "name": "pennylane"
  },
  "language_info": {
   "codemirror_mode": {
    "name": "ipython",
    "version": 3
   },
   "file_extension": ".py",
   "mimetype": "text/x-python",
   "name": "python",
   "nbconvert_exporter": "python",
   "pygments_lexer": "ipython3",
   "version": "3.9.15"
  }
 },
 "nbformat": 4,
 "nbformat_minor": 5
}
