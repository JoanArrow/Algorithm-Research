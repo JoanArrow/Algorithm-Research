{
  "cells": [
    {
      "cell_type": "markdown",
      "id": "42778acd-e882-4d0f-8fda-39d54fd00db6",
      "metadata": {
        "tags": [],
        "id": "42778acd-e882-4d0f-8fda-39d54fd00db6"
      },
      "source": [
        "# QGAN"
      ]
    },
    {
      "cell_type": "markdown",
      "id": "84f8c43f-d250-4b01-8ca2-87f38d7c991c",
      "metadata": {
        "tags": [],
        "id": "84f8c43f-d250-4b01-8ca2-87f38d7c991c"
      },
      "source": [
        "## Imports"
      ]
    },
    {
      "cell_type": "code",
      "source": [
        "!pip install pennylane"
      ],
      "metadata": {
        "colab": {
          "base_uri": "https://localhost:8080/"
        },
        "id": "E2K4djzlpkZk",
        "outputId": "eeb3077a-5dd7-4076-f339-84ab9a317d68"
      },
      "id": "E2K4djzlpkZk",
      "execution_count": null,
      "outputs": [
        {
          "output_type": "stream",
          "name": "stdout",
          "text": [
            "Requirement already satisfied: pennylane in /usr/local/lib/python3.10/dist-packages (0.31.1)\n",
            "Requirement already satisfied: numpy<1.24 in /usr/local/lib/python3.10/dist-packages (from pennylane) (1.23.5)\n",
            "Requirement already satisfied: scipy in /usr/local/lib/python3.10/dist-packages (from pennylane) (1.10.1)\n",
            "Requirement already satisfied: networkx in /usr/local/lib/python3.10/dist-packages (from pennylane) (3.1)\n",
            "Requirement already satisfied: rustworkx in /usr/local/lib/python3.10/dist-packages (from pennylane) (0.13.1)\n",
            "Requirement already satisfied: autograd<=1.5 in /usr/local/lib/python3.10/dist-packages (from pennylane) (1.5)\n",
            "Requirement already satisfied: toml in /usr/local/lib/python3.10/dist-packages (from pennylane) (0.10.2)\n",
            "Requirement already satisfied: appdirs in /usr/local/lib/python3.10/dist-packages (from pennylane) (1.4.4)\n",
            "Requirement already satisfied: semantic-version>=2.7 in /usr/local/lib/python3.10/dist-packages (from pennylane) (2.10.0)\n",
            "Requirement already satisfied: autoray<=0.6.3,>=0.3.1 in /usr/local/lib/python3.10/dist-packages (from pennylane) (0.6.3)\n",
            "Requirement already satisfied: cachetools in /usr/local/lib/python3.10/dist-packages (from pennylane) (5.3.1)\n",
            "Requirement already satisfied: pennylane-lightning>=0.31 in /usr/local/lib/python3.10/dist-packages (from pennylane) (0.31.0)\n",
            "Requirement already satisfied: requests in /usr/local/lib/python3.10/dist-packages (from pennylane) (2.31.0)\n",
            "Requirement already satisfied: typing-extensions in /usr/local/lib/python3.10/dist-packages (from pennylane) (4.7.1)\n",
            "Requirement already satisfied: future>=0.15.2 in /usr/local/lib/python3.10/dist-packages (from autograd<=1.5->pennylane) (0.18.3)\n",
            "Requirement already satisfied: charset-normalizer<4,>=2 in /usr/local/lib/python3.10/dist-packages (from requests->pennylane) (3.2.0)\n",
            "Requirement already satisfied: idna<4,>=2.5 in /usr/local/lib/python3.10/dist-packages (from requests->pennylane) (3.4)\n",
            "Requirement already satisfied: urllib3<3,>=1.21.1 in /usr/local/lib/python3.10/dist-packages (from requests->pennylane) (2.0.4)\n",
            "Requirement already satisfied: certifi>=2017.4.17 in /usr/local/lib/python3.10/dist-packages (from requests->pennylane) (2023.7.22)\n"
          ]
        }
      ]
    },
    {
      "cell_type": "code",
      "execution_count": null,
      "id": "f1b3edb9-0c62-4509-b1a9-44f2be1f2db9",
      "metadata": {
        "colab": {
          "base_uri": "https://localhost:8080/"
        },
        "id": "f1b3edb9-0c62-4509-b1a9-44f2be1f2db9",
        "outputId": "f727fbde-cba6-44bd-ab6e-8a0ac39d9df3"
      },
      "outputs": [
        {
          "output_type": "stream",
          "name": "stderr",
          "text": [
            "<ipython-input-27-47d23bdda390>:12: MatplotlibDeprecationWarning: The seaborn styles shipped by Matplotlib are deprecated since 3.6, as they no longer correspond to the styles shipped by seaborn. However, they will remain available as 'seaborn-v0_8-<style>'. Alternatively, directly use the seaborn API instead.\n",
            "  plt.style.use('seaborn') # pretty matplotlib plots\n"
          ]
        }
      ],
      "source": [
        "import pennylane as qml\n",
        "import torch\n",
        "from pennylane import numpy as np\n",
        "from matplotlib import pyplot as plt\n",
        "from torch.optim import Adam\n",
        "from torch.autograd import Variable\n",
        "import sys\n",
        "from tqdm import tqdm\n",
        "import json\n",
        "import pandas as pd\n",
        "\n",
        "plt.style.use('seaborn') # pretty matplotlib plots"
      ]
    },
    {
      "cell_type": "code",
      "execution_count": null,
      "id": "2a8ebb7f-0204-4cdb-9036-769c7b77cb8f",
      "metadata": {
        "colab": {
          "base_uri": "https://localhost:8080/"
        },
        "id": "2a8ebb7f-0204-4cdb-9036-769c7b77cb8f",
        "outputId": "3720bf88-d438-4ced-f6b2-2e26af85c990"
      },
      "outputs": [
        {
          "output_type": "stream",
          "name": "stdout",
          "text": [
            "Requirement already satisfied: pylatexenc in /usr/local/lib/python3.10/dist-packages (2.10)\n"
          ]
        }
      ],
      "source": [
        "!pip install pylatexenc"
      ]
    },
    {
      "cell_type": "markdown",
      "id": "c359b1e9-f55c-46e1-b675-5f086fcc99fa",
      "metadata": {
        "tags": [],
        "id": "c359b1e9-f55c-46e1-b675-5f086fcc99fa"
      },
      "source": [
        "# Model"
      ]
    },
    {
      "cell_type": "markdown",
      "id": "0c2c610f-61e5-4072-9e44-f7082db6df1d",
      "metadata": {
        "id": "0c2c610f-61e5-4072-9e44-f7082db6df1d"
      },
      "source": [
        "## Generator layers\n",
        "in the paper, the circuit is composed of alternating rotation layers and entangling CZ blocks."
      ]
    },
    {
      "cell_type": "code",
      "execution_count": null,
      "id": "e9d5eca2-b677-41f7-be3b-c29a0ece9096",
      "metadata": {
        "id": "e9d5eca2-b677-41f7-be3b-c29a0ece9096"
      },
      "outputs": [],
      "source": [
        "def rotation_layer(w):\n",
        "    for i in range(num_qubits):\n",
        "        qml.RY(w[i], wires=i)"
      ]
    },
    {
      "cell_type": "code",
      "execution_count": null,
      "id": "5420ae0f-6eae-4159-a496-5628db3df21b",
      "metadata": {
        "id": "5420ae0f-6eae-4159-a496-5628db3df21b"
      },
      "outputs": [],
      "source": [
        "def entangling_block():\n",
        "    for i in range(num_qubits):\n",
        "        qml.CZ(wires = [i, (i+1)%num_qubits])"
      ]
    },
    {
      "cell_type": "code",
      "execution_count": null,
      "id": "45c578c0-5534-4ce4-88e5-9df690baccff",
      "metadata": {
        "id": "45c578c0-5534-4ce4-88e5-9df690baccff"
      },
      "outputs": [],
      "source": [
        "def generator_circuit(w, num_qubits, num_layers = 3):\n",
        "    # if init_strategy == \"uniform\":\n",
        "    #     qml.Hadamard(wires=range(num_qubits)\n",
        "\n",
        "    \"\"\"\n",
        "    rotation -> (entangling -> rotation) * num_layers\n",
        "    \"\"\"\n",
        "    rotation_layer(w[:num_qubits])\n",
        "    for i in range(num_qubits, num_layers * (num_qubits + 1), num_qubits):\n",
        "        entangling_block()\n",
        "        rotation_layer(w[i :i + num_qubits])\n",
        "\n",
        "    return qml.sample(wires=range(num_qubits))"
      ]
    },
    {
      "cell_type": "markdown",
      "id": "28c09a91-7cb7-4d69-829e-4bc37405d056",
      "metadata": {
        "id": "28c09a91-7cb7-4d69-829e-4bc37405d056"
      },
      "source": [
        "## Classical Discriminator\n",
        "Simple FCNN"
      ]
    },
    {
      "cell_type": "code",
      "execution_count": null,
      "id": "b7a5f1e0-79c6-4b37-a045-e23e177a89b0",
      "metadata": {
        "id": "b7a5f1e0-79c6-4b37-a045-e23e177a89b0"
      },
      "outputs": [],
      "source": [
        "# define classical discriminator\n",
        "# TLDR; takes in a sample and outputs a single number, where closer to 0 = fake and closer to 1 = real\n",
        "from torch import nn\n",
        "\n",
        "class Discriminator(nn.Module):\n",
        "    def __init__(self, input_size):\n",
        "        super(Discriminator, self).__init__()\n",
        "\n",
        "        self.linear_input = nn.Linear(input_size, 50)\n",
        "        self.h1 = nn.Linear(50, 20)\n",
        "        self.leaky_relu = nn.LeakyReLU(0.2)\n",
        "        self.linear20 = nn.Linear(20, 1)\n",
        "        self.sigmoid = nn.Sigmoid()\n",
        "\n",
        "    def forward(self, input: torch.Tensor) -> torch.Tensor:\n",
        "        x = self.linear_input(input)\n",
        "        x = self.leaky_relu(x)\n",
        "        x = self.h1(x)\n",
        "        x = self.leaky_relu(x)\n",
        "        x = self.linear20(x)\n",
        "        x = self.sigmoid(x)\n",
        "        return x"
      ]
    },
    {
      "cell_type": "markdown",
      "id": "99a638d9-9d15-4f74-a907-e783d7dfa48f",
      "metadata": {
        "tags": [],
        "id": "99a638d9-9d15-4f74-a907-e783d7dfa48f"
      },
      "source": [
        "# Training"
      ]
    },
    {
      "cell_type": "markdown",
      "id": "df9e90e8-d09d-492c-b684-c7f05f855746",
      "metadata": {
        "tags": [],
        "id": "df9e90e8-d09d-492c-b684-c7f05f855746"
      },
      "source": [
        "## Helper Functions"
      ]
    },
    {
      "cell_type": "code",
      "execution_count": null,
      "id": "cbfade52-8d9c-4f49-b883-4f659889c69d",
      "metadata": {
        "id": "cbfade52-8d9c-4f49-b883-4f659889c69d"
      },
      "outputs": [],
      "source": [
        "# generate data\n",
        "from scipy.stats import lognorm, norm, triang\n",
        "import matplotlib.pyplot as plt\n",
        "\n",
        "def gauss(x,mu,sigma,A):\n",
        "    return A*exp(-(x-mu)**2/2/sigma**2)\n",
        "\n",
        "\"\"\"\n",
        "params: type of distribution, # discrete values\n",
        "output: the x values, and an np.array representing the probability values of the PMF\n",
        "\"\"\"\n",
        "def generate_data(which = \"log-normal\", num_discrete_values = 8):\n",
        "\n",
        "    x = np.linspace(0,7, num_discrete_values)\n",
        "\n",
        "    if which == \"log-normal\":\n",
        "        rv = lognorm.pdf(x, 1)\n",
        "    elif which == \"triangular\":\n",
        "        \"\"\"\n",
        "        triangular distribution with:\n",
        "            lower limit l = 0\n",
        "            upper limit u = 7\n",
        "            mode m = 2\n",
        "        \"\"\"\n",
        "        a = 0\n",
        "        b = 7\n",
        "        mode = 2\n",
        "        # list_of_candidates = range(a, b+1)\n",
        "        rv = triang.pdf(x, mode/(b-a), a, b)\n",
        "\n",
        "\n",
        "    else: #bimodal\n",
        "        \"\"\"\n",
        "        bimodal distribution with:\n",
        "            two superimposed Guassian distributions with\n",
        "            mu_1 = 0.5\n",
        "            sigma_1 = 1\n",
        "\n",
        "            mu_2 = 3.5\n",
        "            sigma_2 = 0.5\n",
        "        \"\"\"\n",
        "        gauss1 = norm.pdf(x, 0.5, 1)\n",
        "        gauss2 = norm.pdf(x, 3.5, 0.5)\n",
        "        rv = (gauss1 + gauss2) / (np.sum(gauss1) + np.sum(gauss2))\n",
        "\n",
        "\n",
        "    # fig, ax = plt.subplots(1, 1)\n",
        "    # ax.plot(x, rv,'r-', lw=5, alpha=0.6, label='lognorm pdf')\n",
        "\n",
        "    rv /= np.sum(rv) # normalization\n",
        "\n",
        "    return x, rv"
      ]
    },
    {
      "cell_type": "code",
      "execution_count": null,
      "id": "d25071b1-b06c-48e9-a073-ad0cd339ef82",
      "metadata": {
        "id": "d25071b1-b06c-48e9-a073-ad0cd339ef82"
      },
      "outputs": [],
      "source": [
        "# initialization strategy for weights\n",
        "def init_weights(init_strategy, size):\n",
        "    if init_strategy == \"normal\":\n",
        "        params = np.random.normal(0, np.pi, size = size)\n",
        "    elif init_strategy == \"uniform\":\n",
        "        params = np.random.uniform(-0.1, 0.1, size = size)\n",
        "    else: # random\n",
        "        params = np.random.uniform(-np.pi, np.pi, size = size)\n",
        "\n",
        "    params = Variable(torch.Tensor(params), requires_grad = True)\n",
        "\n",
        "    return params"
      ]
    },
    {
      "cell_type": "code",
      "execution_count": null,
      "id": "95bd2579-2e19-469e-b137-15dd908d4fa6",
      "metadata": {
        "id": "95bd2579-2e19-469e-b137-15dd908d4fa6"
      },
      "outputs": [],
      "source": [
        "# cost function\n",
        "def gen_loss(x): # maximize the discriminator misclassifying fake data\n",
        "    # print(f\"gen loss input: {x}\")\n",
        "    loss = torch.log(x + sys.float_info.min)\n",
        "    # loss = torch.log(1 - x)\n",
        "    # print(f\"loss: {loss}\")\n",
        "    return -torch.mean(loss)\n",
        "\n",
        "def disc_loss(real, fake): # log(real) = maxed when disc correctly classifies real data; log(1 - fake) = maxed when disc correctly classifies fake data\n",
        "    # print(f\"disc loss input: {real}, {fake}\")\n",
        "    loss = torch.log(real + sys.float_info.min) + torch.log(1 - fake + sys.float_info.min)\n",
        "    # print(f\"loss: {loss}\")\n",
        "    return -torch.mean(loss) # discriminator is updated via gradient ASCENT"
      ]
    },
    {
      "cell_type": "code",
      "source": [
        "\"\"\"\n",
        "convert arrays representing binary values into their decimal form\n",
        "@param an n x num_qubits array of binary arrays,\n",
        "@param # qubits\n",
        "returns: n decimal integers\n",
        "\"\"\"\n",
        "def binary_to_decimal(binary_arrays, num_qubits):\n",
        "    binary_matrix = np.array(binary_arrays)\n",
        "    powers = 2 ** np.arange(num_qubits - 1, -1, -1)\n",
        "\n",
        "    decimal_values = np.sum(binary_matrix * powers, axis=1)\n",
        "    return decimal_values"
      ],
      "metadata": {
        "id": "M3ASQJQPaf6H"
      },
      "id": "M3ASQJQPaf6H",
      "execution_count": null,
      "outputs": []
    },
    {
      "cell_type": "code",
      "source": [
        "# inverse function to above\n",
        "def decimal_to_binary(decimal_values, array_length):\n",
        "    decimal_array = np.array(decimal_values)\n",
        "\n",
        "    binary_arrays = []\n",
        "    for dec_value in decimal_array:\n",
        "        binary_array = []\n",
        "        for _ in range(array_length):\n",
        "            remainder = dec_value % 2\n",
        "            binary_array.insert(0, remainder)\n",
        "            dec_value //= 2\n",
        "        binary_arrays.append(binary_array)\n",
        "\n",
        "    return binary_arrays"
      ],
      "metadata": {
        "id": "ufwOhAhDahAv"
      },
      "id": "ufwOhAhDahAv",
      "execution_count": null,
      "outputs": []
    },
    {
      "cell_type": "code",
      "source": [
        "\"\"\"\n",
        "input: discrete x values, their corresponding probabilities, and the # samples you want\n",
        "returns: num_samples samples\n",
        "\"\"\"\n",
        "def sample_pdf(x, pmf_values, num_samples):\n",
        "    samples = np.random.choice(x, size=num_samples, p=pmf_values)\n",
        "    return samples"
      ],
      "metadata": {
        "id": "swKh8aiua_Mb"
      },
      "id": "swKh8aiua_Mb",
      "execution_count": null,
      "outputs": []
    },
    {
      "cell_type": "code",
      "source": [
        "from scipy.stats import entropy\n",
        "# reconstruct a PMF from an array of samples\n",
        "def convert_samples_to_pmf(samples, possible_values):\n",
        "  value_counts = np.array([np.count_nonzero(samples == i) for i in possible_values])\n",
        "\n",
        "  # Calculate probabilities by dividing the value counts by the total number of samples\n",
        "  total_samples = len(samples)\n",
        "  pmf = value_counts / total_samples\n",
        "\n",
        "  return pmf\n",
        "\n",
        "# computes the rel entropy between 2 sets of samples\n",
        "def compute_entropy(gen_samples, real_samples, possible_values):\n",
        "  # Calculate the unique values and their frequencies\n",
        "  fake_dist = convert_samples_to_pmf(gen_samples, possible_values)\n",
        "  real_dist = convert_samples_to_pmf(real_samples, possible_values)\n",
        "\n",
        "  return entropy(fake_dist + sys.float_info.min, real_dist + sys.float_info.min)"
      ],
      "metadata": {
        "id": "KnFTt1W_uyjY"
      },
      "id": "KnFTt1W_uyjY",
      "execution_count": null,
      "outputs": []
    },
    {
      "cell_type": "code",
      "source": [
        "# the quantum generator returns an array of samples in binary array form. We want to convert those values into a PMF for post-training evaluation\n",
        "def convert_generator_output_to_pdf(gen_out, num_qubits):\n",
        "  res = binary_to_decimal(gen_out, num_qubits)\n",
        "  res = convert_samples_to_pmf(res, range(2**num_qubits))\n",
        "  return res"
      ],
      "metadata": {
        "id": "NUfv-hc82HXz"
      },
      "id": "NUfv-hc82HXz",
      "execution_count": null,
      "outputs": []
    },
    {
      "cell_type": "code",
      "execution_count": null,
      "id": "855d0d45-dada-402a-91b1-73008c2ec97f",
      "metadata": {
        "id": "855d0d45-dada-402a-91b1-73008c2ec97f"
      },
      "outputs": [],
      "source": [
        "# visualize training process\n",
        "from IPython.display import clear_output\n",
        "\n",
        "def plot_training_progress(generator_loss_values, discriminator_loss_values, entropy_values):\n",
        "    # we don't plot if we don't have enough data\n",
        "    if len(generator_loss_values) < 2:\n",
        "        return\n",
        "\n",
        "    clear_output(wait=True)\n",
        "    fig, (ax1, ax2) = plt.subplots(1, 2, figsize=(18, 9))\n",
        "\n",
        "    # Generator Loss\n",
        "    ax1.set_title(\"Loss\")\n",
        "    ax1.plot(generator_loss_values, label=\"generator loss\", color=\"royalblue\")\n",
        "    ax1.plot(discriminator_loss_values, label=\"discriminator loss\", color=\"magenta\")\n",
        "    ax1.legend(loc=\"best\")\n",
        "    ax1.set_xlabel(\"Iteration\")\n",
        "    ax1.set_ylabel(\"Loss\")\n",
        "    ax1.grid()\n",
        "\n",
        "    # Relative Entropy\n",
        "    ax2.set_title(\"Relative entropy\")\n",
        "    ax2.plot(entropy_values)\n",
        "    ax2.set_xlabel(\"Iteration\")\n",
        "    ax2.set_ylabel(\"Relative entropy\")\n",
        "    ax2.grid()\n",
        "\n",
        "    plt.show()"
      ]
    },
    {
      "cell_type": "code",
      "execution_count": null,
      "id": "c32041c5-9e00-4492-bfb4-a863293ec0d5",
      "metadata": {
        "id": "c32041c5-9e00-4492-bfb4-a863293ec0d5"
      },
      "outputs": [],
      "source": [
        "# training loop\n",
        "# logic inspired by https://towardsdatascience.com/build-a-super-simple-gan-in-pytorch-54ba349920e4\n",
        "import time\n",
        "from scipy.stats import multivariate_normal, entropy\n",
        "\n",
        "def train(n_epochs, num_qubits, num_layers, distribution, batch_size, init_strategy = \"normal\", sample_size = 20000):\n",
        "    num_discrete_values = 2**num_qubits\n",
        "\n",
        "    # init generator\n",
        "    num_qnn_outputs = 2**num_qubits\n",
        "\n",
        "    params = init_weights(init_strategy, size = (num_layers + 1) * (num_qubits))\n",
        "\n",
        "    dev = qml.device(\"default.qubit\", wires=num_qubits, shots = batch_size) # 2000 as in the paper\n",
        "    generator = qml.QNode(generator_circuit, dev, interface=\"torch\", cache = False)\n",
        "\n",
        "    # init discriminator\n",
        "    # discriminator = Discriminator(input_size = num_discrete_values)\n",
        "    discriminator = Discriminator(input_size = 1)\n",
        "\n",
        "    # init optimizers\n",
        "    lr = 1e-3\n",
        "    # lr = 0.01\n",
        "    # betas = (0.7, 0.999)\n",
        "\n",
        "    # generator_optimizer = Adam([params], lr=lr, betas=betas, weight_decay=0.005) # paper didn't mention what momentum terms were used so I'm going with the default\n",
        "    # discriminator_optimizer = Adam(discriminator.parameters(), lr=lr, betas=betas, weight_decay=0.005)\n",
        "\n",
        "    generator_optimizer = Adam([params], lr=lr, amsgrad=True) # paper didn't mention what momentum terms were used so I'm going with the default\n",
        "    discriminator_optimizer = Adam(discriminator.parameters(), lr=lr, amsgrad=True)\n",
        "\n",
        "    # generate the training data\n",
        "    grid_elements, prob_data = generate_data(distribution, num_discrete_values)\n",
        "    training_samples = sample_pdf(grid_elements, prob_data, sample_size)\n",
        "\n",
        "\n",
        "\n",
        "\n",
        "    # for training statistics\n",
        "    generator_loss_values = []\n",
        "    discriminator_loss_values = []\n",
        "    entropy_values = []\n",
        "    grad_vals = []\n",
        "\n",
        "    # track optimal parameters # TODO: actually use these\n",
        "    best_gen_loss = float(\"inf\")\n",
        "    best_gen_params = params\n",
        "    best_disc_loss = float(\"inf\")\n",
        "    best_disc_params = discriminator.parameters()\n",
        "    best_entropy = float(\"inf\")\n",
        "    best_generation = generator(params, num_qubits, num_layers)\n",
        "\n",
        "    # actual training loop\n",
        "    start = time.time()\n",
        "    for epoch in tqdm(range(n_epochs)):\n",
        "      # Shuffle the array randomly\n",
        "      np.random.shuffle(training_samples)\n",
        "\n",
        "      # Batch the shuffled array into batches of 2,000 items\n",
        "      batches = [training_samples[i:i+batch_size] for i in range(0, sample_size, batch_size)]\n",
        "\n",
        "      for i, batch in enumerate(batches):\n",
        "\n",
        "        # zero gradients\n",
        "        generator_optimizer.zero_grad()\n",
        "\n",
        "        # generate real data\n",
        "        # real_dist = torch.tensor(prob_data, dtype=torch.float)\n",
        "        real_samples = torch.Tensor(batch)\n",
        "\n",
        "        # generate fake data\n",
        "        gen_dist = generator(params, num_qubits, num_layers)\n",
        "        # gen_dist = gen_dist.type(torch.float)\n",
        "        gen_samples = binary_to_decimal(gen_dist, num_qubits)\n",
        "        gen_samples = torch.Tensor(gen_samples).reshape(-1,1)\n",
        "\n",
        "        # train generator using discriminator output & fake labels\n",
        "        # We invert the labels here and don't train the discriminator because we want the generator\n",
        "        # to make things the discriminator classifies as true.\n",
        "        discriminator_optimizer.zero_grad()\n",
        "\n",
        "        # disc_out_fake = discriminator(gen_dist)\n",
        "        disc_out_fake = discriminator(gen_samples)\n",
        "        generator_loss = gen_loss(disc_out_fake)\n",
        "        generator_loss_values.append(generator_loss.detach().item())\n",
        "\n",
        "        generator_loss.backward(retain_graph=True) # NO GRAD???\n",
        "        # grad_val = torch.autograd.grad(generator_loss, params, retain_graph=True)[0][-1] #choose the last parameter because the tutorial does so\n",
        "        # grad_vals.append(grad_val.detach().numpy())\n",
        "        generator_optimizer.step()\n",
        "\n",
        "        # train discrminator on both a true and a generated data and average\n",
        "        # disc_out_real = discriminator(real_dist)\n",
        "        disc_out_real = discriminator(real_samples.reshape(-1,1))\n",
        "        discriminator_loss = disc_loss(disc_out_real, disc_out_fake)\n",
        "        discriminator_loss_values.append(discriminator_loss.detach().item())\n",
        "\n",
        "        discriminator_loss.backward()\n",
        "        discriminator_optimizer.step()\n",
        "\n",
        "        # print(gen_dist)\n",
        "        # batch_entropy = entropy(gen_dist.detach().squeeze().numpy() + sys.float_info.min, prob_data + sys.float_info.min) # RELATIVE ENTROPY\n",
        "        batch_entropy = compute_entropy(gen_samples.detach().squeeze().numpy(), real_samples.detach().squeeze().numpy(), range(num_discrete_values))\n",
        "        if batch_entropy < best_entropy:\n",
        "            # print(batch_entropy)\n",
        "            # print(gen_dist.detach().squeeze().numpy())\n",
        "            best_gen_params = params.clone()\n",
        "            best_disc_params = discriminator.parameters()\n",
        "            best_entropy = batch_entropy\n",
        "            best_generation = convert_generator_output_to_pdf(gen_dist.detach().squeeze().numpy(), num_qubits)\n",
        "        entropy_values.append(batch_entropy)\n",
        "\n",
        "        # plot_training_progress(generator_loss_values, discriminator_loss_values, entropy_values)\n",
        "\n",
        "    elapsed = time.time() - start\n",
        "    print(f\"Fit in {elapsed:2f} sec\")\n",
        "\n",
        "    return {\n",
        "        \"num_gen_params\": len(params),\n",
        "        \"num_disc_params\": sum(p.numel() for p in discriminator.parameters()),\n",
        "        \"entropy_values\": entropy_values,\n",
        "        \"generator_loss_values\": generator_loss_values,\n",
        "        \"discriminator_loss_values\": discriminator_loss_values,\n",
        "        \"final_generated_distribution\": convert_generator_output_to_pdf(generator(best_gen_params, num_qubits, num_layers).detach().numpy(), num_qubits),\n",
        "        \"final_generated_distribution_last_params\": convert_generator_output_to_pdf(generator(params, num_qubits, num_layers).detach().numpy(), num_qubits),\n",
        "        \"best_generation\": best_generation,\n",
        "        \"real_distribution\": prob_data,\n",
        "        \"training_time\": elapsed,\n",
        "        # TODO: generate 500 samples for KS test\n",
        "        # \"grad_variance\": np.var(grad_vals)\n",
        "    }\n",
        "\n",
        "    # TODO: initialization strategy idk how to do boolean logic in the circuit itself"
      ]
    },
    {
      "cell_type": "code",
      "execution_count": null,
      "id": "a31bd35e-44fc-41e6-83d4-0291faf5e35c",
      "metadata": {
        "id": "a31bd35e-44fc-41e6-83d4-0291faf5e35c"
      },
      "outputs": [],
      "source": [
        "# TODO write a testing suite\n",
        "# plots training loss, rel. entropy, and generated vs. real distributions in a 3-column format, given a list of training instances\n",
        "def plot_values(training_instances, height = 24):\n",
        "    fig, axes = plt.subplots(len(training_instances), 3, figsize=(18, height), constrained_layout = True)\n",
        "\n",
        "    for i, training_instance in enumerate(training_instances):\n",
        "        # print(training_instance)\n",
        "\n",
        "        num_qubits = training_instance[\"num_qubits\"]\n",
        "        num_layers = training_instance[\"num_layers\"]\n",
        "        generator_loss_values = training_instance[\"generator_loss_values\"]\n",
        "        discriminator_loss_values = training_instance[\"discriminator_loss_values\"]\n",
        "        entropy_values = training_instance[\"entropy_values\"]\n",
        "        distribution = training_instance[\"distribution\"]\n",
        "        gen_dist = training_instance[\"final_generated_distribution\"]\n",
        "        gen_dist2 = training_instance[\"final_generated_distribution_last_params\"] # remove in actual results\n",
        "        best_gen = training_instance[\"best_generation\"] # remove in actual results\n",
        "        real_dist = training_instance[\"real_distribution\"]\n",
        "        x = np.linspace(0,7,2**int(num_qubits))\n",
        "\n",
        "        best_entropy = min(entropy_values)\n",
        "        xpos = np.argmin(entropy_values)\n",
        "\n",
        "\n",
        "\n",
        "        if len(generator_loss_values) < 2:\n",
        "            pass\n",
        "\n",
        "        # ax1, ax2 = axes[i % ((len(training_instances) + 1) // 2)][(i >= len(training_instances) // 2)*2:(i >= len(training_instances) // 2)*2+2]\n",
        "        ax1, ax2, ax3 = axes[i] if len(training_instances) > 1 else axes\n",
        "\n",
        "        # Generator Loss\n",
        "        ax1.set_title(f\"{distribution}, {num_qubits} qubits, {num_layers} layers (Loss)\")\n",
        "        ax1.plot(generator_loss_values, label=\"generator loss\", color=\"royalblue\")\n",
        "        ax1.plot(discriminator_loss_values, label=\"discriminator loss\", color=\"magenta\")\n",
        "        ax1.legend(loc=\"best\")\n",
        "        ax1.set_xlabel(\"Iteration\")\n",
        "        ax1.set_ylabel(\"Loss\")\n",
        "        ax1.grid()\n",
        "\n",
        "        # Relative Entropy\n",
        "        ax2.set_title(f\"{distribution}; {num_qubits} qubits, {num_layers} layers (Relative Entropy)\")\n",
        "        ax2.plot(entropy_values)\n",
        "        ax2.set_xlabel(\"Iteration\")\n",
        "        ax2.set_ylabel(\"Relative entropy\")\n",
        "        ax2.scatter(xpos, best_entropy, c = 'r', label = f\"best = {best_entropy:.2f}\")\n",
        "        ax2.legend()\n",
        "        ax2.grid()\n",
        "\n",
        "        ax3.set_title(f\"{distribution}; {num_qubits} qubits, {num_layers} layers (Generated vs. Actual Distribution)\")\n",
        "        ax3.plot(x, gen_dist, label = \"generated w/ best params\")\n",
        "        ax3.plot(x, gen_dist2, label = \"generated w/ final params\")\n",
        "        ax3.plot(x, best_gen, label = \"best generation during training\")\n",
        "        ax3.plot(x, real_dist, label = \"real\")\n",
        "        ax3.set_xlabel(\"x\")\n",
        "        ax3.set_ylabel(\"P(x)\")\n",
        "        ax3.legend()\n",
        "        ax3.grid()\n",
        "        print(\"Best relative entropy: \", min(training_instance[\"entropy_values\"]))\n",
        "\n",
        "\n",
        "    plt.show()\n",
        "    plt.savefig(\"results.jpg\")"
      ]
    },
    {
      "cell_type": "code",
      "execution_count": null,
      "id": "5c999fc2-0138-41fc-8f75-ac1134bab108",
      "metadata": {
        "id": "5c999fc2-0138-41fc-8f75-ac1134bab108"
      },
      "outputs": [],
      "source": [
        "# optional: load in previously saved training instances\n",
        "# training_instances = torch.load(\"model.pt\")"
      ]
    },
    {
      "cell_type": "code",
      "execution_count": null,
      "id": "3ccc7aa8-5c4f-44cc-8ec2-9e5806b7c017",
      "metadata": {
        "id": "3ccc7aa8-5c4f-44cc-8ec2-9e5806b7c017"
      },
      "outputs": [],
      "source": [
        "# len(training_instances)"
      ]
    },
    {
      "cell_type": "code",
      "execution_count": null,
      "id": "89a95a66-e32a-45da-a9a7-26c0c876aa9e",
      "metadata": {
        "id": "89a95a66-e32a-45da-a9a7-26c0c876aa9e"
      },
      "outputs": [],
      "source": [
        "# for barren plateaus analysis\n",
        "# variances = []\n",
        "# for _, training_instance in enumerate(training_instances):\n",
        "#     variances.append(training_instance[\"grad_variance\"])"
      ]
    },
    {
      "cell_type": "code",
      "execution_count": null,
      "id": "280577bf-270b-44f7-9faf-e5dd97fe5ec9",
      "metadata": {
        "id": "280577bf-270b-44f7-9faf-e5dd97fe5ec9"
      },
      "outputs": [],
      "source": [
        "#BP plot\n",
        "# plt.title(\"Gradient Variance vs. # qubits\")\n",
        "# plt.xlabel(\"# qubits\")\n",
        "# plt.ylabel(\"gradient variance (of the last parameter across time)\")\n",
        "# plt.plot(range(2,16), variances)\n",
        "# plt.show()"
      ]
    },
    {
      "cell_type": "markdown",
      "id": "0f17b7f1-5b40-4f5f-a7ca-37f97610a0ad",
      "metadata": {
        "tags": [],
        "id": "0f17b7f1-5b40-4f5f-a7ca-37f97610a0ad"
      },
      "source": [
        "## Run training loop with different hyperparams"
      ]
    },
    {
      "cell_type": "code",
      "execution_count": null,
      "id": "7656fcb6-d3d8-4a71-8cd2-ca54fefc1d92",
      "metadata": {
        "colab": {
          "base_uri": "https://localhost:8080/",
          "height": 393
        },
        "id": "7656fcb6-d3d8-4a71-8cd2-ca54fefc1d92",
        "outputId": "eb915500-509e-4c10-98c6-78ef9a30a302"
      },
      "outputs": [
        {
          "output_type": "stream",
          "name": "stdout",
          "text": [
            "training for case: log-normal, 6 qubits, 3 layers\n"
          ]
        },
        {
          "output_type": "stream",
          "name": "stderr",
          "text": [
            "100%|██████████| 2000/2000 [12:00<00:00,  2.78it/s]\n"
          ]
        },
        {
          "output_type": "stream",
          "name": "stdout",
          "text": [
            "Fit in 720.377871 sec\n",
            "Best relative entropy:  578.2380734456473\n"
          ]
        },
        {
          "output_type": "display_data",
          "data": {
            "text/plain": [
              "<Figure size 1800x300 with 3 Axes>"
            ],
            "image/png": "[encoded data removed]"
          },
          "metadata": {}
        },
        {
          "output_type": "display_data",
          "data": {
            "text/plain": [
              "<Figure size 800x550 with 0 Axes>"
            ]
          },
          "metadata": {}
        }
      ],
      "source": [
        "# run training\n",
        "distributions = [\"log-normal\"]\n",
        "# qbits = range(2,3)\n",
        "qbits = [6]\n",
        "n_epochs = 2000 # TODO: maybe tweak this?\n",
        "layers = [3] # TODO: tweak\n",
        "batch_size = 2000\n",
        "\n",
        "training_instances = []\n",
        "training_times = {}\n",
        "\n",
        "# training_instances = torch.load(\"model.pt\")\n",
        "\n",
        "for distribution in distributions:\n",
        "    training_times[distribution] = {}\n",
        "    for num_layers in layers:\n",
        "        training_times[distribution][num_layers] = []\n",
        "        for num_qubits in qbits:\n",
        "            print(f\"training for case: {distribution}, {num_qubits} qubits, {num_layers} layers\")\n",
        "            training_instance = train(n_epochs, num_qubits, num_layers, distribution, batch_size)\n",
        "            training_instance[\"num_qubits\"] = f\"{num_qubits}\"\n",
        "            training_instance[\"distribution\"] = f\"{distribution}\"\n",
        "            training_instance[\"num_layers\"] = f\"{num_layers}\"\n",
        "            training_times[distribution][num_layers].append(training_instance[\"training_time\"])\n",
        "            training_instances.append(training_instance)\n",
        "\n",
        "            torch.save(training_instances, \"model.pt\")"
      ]
    },
    {
      "cell_type": "markdown",
      "source": [
        "# Evaluation"
      ],
      "metadata": {
        "id": "uTVIKFq43bbw"
      },
      "id": "uTVIKFq43bbw"
    },
    {
      "cell_type": "code",
      "source": [
        "# plot the training loss, relative entropy, and the generated vs. actual distributions\n",
        "plot_values(training_instances, height = len(qbits) * len(layers) * len(distributions) * 3)"
      ],
      "metadata": {
        "id": "w4Ef-32S3d4O"
      },
      "id": "w4Ef-32S3d4O",
      "execution_count": null,
      "outputs": []
    },
    {
      "cell_type": "markdown",
      "source": [
        "### Kolmogorov-Smirnov Test\n",
        "\n",
        "The Kolmogorov-Smirnov statistic is based\n",
        "on the (empirical) cumulative distribution functions\n",
        "P (X ≤ x) and Q (X ≤ x).\n",
        "\n",
        "\n",
        "The statistic can be used as a goodness-of-fit test.\n",
        "Given the null-hypothesis P (x) = Q (x), we draw s =\n",
        "500 samples from both distributions and choose a confidence level (1 − α) with α = 0.05. The null-hypothesis is\n",
        "accepted if D <= 0.0859 [Zoufal et. al, 2019] (or if p <= 0.05) because statistics\n",
        "\n"
      ],
      "metadata": {
        "id": "LTsJOknP3qPS"
      },
      "id": "LTsJOknP3qPS"
    },
    {
      "cell_type": "code",
      "execution_count": null,
      "id": "9ab3ab78-aa7c-487e-85ac-e1b6217a25fc",
      "metadata": {
        "id": "9ab3ab78-aa7c-487e-85ac-e1b6217a25fc"
      },
      "outputs": [],
      "source": [
        "# KS TEST\n",
        "x, rv = generate_data(\"log-normal\", 2**6)\n",
        "# sample from the PMF that I already generated which probably isn't the right way to do this\n",
        "gv = training_instances[0][\"final_generated_distribution\"]\n",
        "\n",
        "gen_samples = sample_pdf(x, gv, 500)\n",
        "real_samples = sample_pdf(x, rv, 500)"
      ]
    },
    {
      "cell_type": "code",
      "execution_count": null,
      "id": "71d6063d-2a63-4581-bbdc-0456f6b48c82",
      "metadata": {
        "colab": {
          "base_uri": "https://localhost:8080/",
          "height": 823
        },
        "id": "71d6063d-2a63-4581-bbdc-0456f6b48c82",
        "outputId": "1a0f0660-60d7-4a28-9d85-8770bd732881"
      },
      "outputs": [
        {
          "output_type": "execute_result",
          "data": {
            "text/plain": [
              "(array([20., 34., 34., 30., 32., 29., 36., 25., 23., 20., 11., 13., 10.,\n",
              "        15., 12., 10., 17., 12.,  8.,  9.,  7.,  0.,  8.,  4.,  6.,  3.,\n",
              "         3.,  2.,  4.,  8.,  2.,  4.,  2.,  4.,  2.,  1.,  4.,  0.,  2.,\n",
              "         2.,  3.,  1.,  0.,  3.,  4.,  1.,  0.,  1.,  0.,  5.,  1.,  1.,\n",
              "         1.,  1.,  0.,  1.,  0.,  1.,  1.,  1.,  3.,  2.,  0.,  1.]),\n",
              " array([0.11111111, 0.21701389, 0.32291667, 0.42881944, 0.53472222,\n",
              "        0.640625  , 0.74652778, 0.85243056, 0.95833333, 1.06423611,\n",
              "        1.17013889, 1.27604167, 1.38194444, 1.48784722, 1.59375   ,\n",
              "        1.69965278, 1.80555556, 1.91145833, 2.01736111, 2.12326389,\n",
              "        2.22916667, 2.33506944, 2.44097222, 2.546875  , 2.65277778,\n",
              "        2.75868056, 2.86458333, 2.97048611, 3.07638889, 3.18229167,\n",
              "        3.28819444, 3.39409722, 3.5       , 3.60590278, 3.71180556,\n",
              "        3.81770833, 3.92361111, 4.02951389, 4.13541667, 4.24131944,\n",
              "        4.34722222, 4.453125  , 4.55902778, 4.66493056, 4.77083333,\n",
              "        4.87673611, 4.98263889, 5.08854167, 5.19444444, 5.30034722,\n",
              "        5.40625   , 5.51215278, 5.61805556, 5.72395833, 5.82986111,\n",
              "        5.93576389, 6.04166667, 6.14756944, 6.25347222, 6.359375  ,\n",
              "        6.46527778, 6.57118056, 6.67708333, 6.78298611, 6.88888889]),\n",
              " <BarContainer object of 64 artists>)"
            ]
          },
          "metadata": {},
          "execution_count": 118
        },
        {
          "output_type": "display_data",
          "data": {
            "text/plain": [
              "<Figure size 800x550 with 1 Axes>"
            ],
            "image/png": "[encoded data removed]"
          },
          "metadata": {}
        }
      ],
      "source": [
        "# first we plot the distributions for a quantitative look\n",
        "plt.hist(gen_samples, bins=64, alpha=0.5, edgecolor='black')\n",
        "plt.hist(real_samples, bins=64, alpha=0.5, edgecolor='black')"
      ]
    },
    {
      "cell_type": "code",
      "execution_count": null,
      "id": "aad82f19-3d67-40e3-abfb-0ebe7b836366",
      "metadata": {
        "colab": {
          "base_uri": "https://localhost:8080/"
        },
        "id": "aad82f19-3d67-40e3-abfb-0ebe7b836366",
        "outputId": "962b4291-2d28-4426-c086-a8b81fbf9114"
      },
      "outputs": [
        {
          "output_type": "execute_result",
          "data": {
            "text/plain": [
              "KstestResult(statistic=0.516, pvalue=4.630555380587149e-61, statistic_location=1.8888888888888888, statistic_sign=-1)"
            ]
          },
          "metadata": {},
          "execution_count": 119
        }
      ],
      "source": [
        "from scipy.stats import kstest\n",
        "kstest(gen_samples, real_samples) # threshold for statistic is 0.0859"
      ]
    },
    {
      "cell_type": "code",
      "source": [],
      "metadata": {
        "id": "NKydCK9HEv6f"
      },
      "id": "NKydCK9HEv6f",
      "execution_count": null,
      "outputs": []
    }
  ],
  "metadata": {
    "kernelspec": {
      "display_name": "PennyLane",
      "language": "python",
      "name": "pennylane"
    },
    "language_info": {
      "codemirror_mode": {
        "name": "ipython",
        "version": 3
      },
      "file_extension": ".py",
      "mimetype": "text/x-python",
      "name": "python",
      "nbconvert_exporter": "python",
      "pygments_lexer": "ipython3",
      "version": "3.9.15"
    },
    "colab": {
      "provenance": []
    }
  },
  "nbformat": 4,
  "nbformat_minor": 5
}