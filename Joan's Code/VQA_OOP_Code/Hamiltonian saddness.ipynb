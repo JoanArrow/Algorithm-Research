{
 "cells": [
  {
   "cell_type": "code",
   "execution_count": 2,
   "id": "43845234-40a1-4265-86f4-2d6e78db846d",
   "metadata": {},
   "outputs": [
    {
     "ename": "SyntaxError",
     "evalue": "invalid syntax (3733224970.py, line 1)",
     "output_type": "error",
     "traceback": [
      "\u001b[0;36m  File \u001b[0;32m\"/tmp/ipykernel_51/3733224970.py\"\u001b[0;36m, line \u001b[0;32m1\u001b[0m\n\u001b[0;31m    pip install zstd\u001b[0m\n\u001b[0m        ^\u001b[0m\n\u001b[0;31mSyntaxError\u001b[0m\u001b[0;31m:\u001b[0m invalid syntax\n"
     ]
    }
   ],
   "source": [
    "pip install zstd\n",
    "pip install dill"
   ]
  },
  {
   "cell_type": "code",
   "execution_count": 3,
   "id": "7a2715cb-4f42-4ebd-a275-4b271355c2f6",
   "metadata": {},
   "outputs": [
    {
     "name": "stdout",
     "output_type": "stream",
     "text": [
      "Requirement already satisfied: dill in /opt/conda/envs/pennylane/lib/python3.9/site-packages (0.3.6)\n",
      "\n",
      "\u001b[1m[\u001b[0m\u001b[34;49mnotice\u001b[0m\u001b[1;39;49m]\u001b[0m\u001b[39;49m A new release of pip is available: \u001b[0m\u001b[31;49m23.0\u001b[0m\u001b[39;49m -> \u001b[0m\u001b[32;49m23.1.2\u001b[0m\n",
      "\u001b[1m[\u001b[0m\u001b[34;49mnotice\u001b[0m\u001b[1;39;49m]\u001b[0m\u001b[39;49m To update, run: \u001b[0m\u001b[32;49m/opt/conda/envs/pennylane/bin/python3 -m pip install --upgrade pip\u001b[0m\n",
      "Note: you may need to restart the kernel to use updated packages.\n"
     ]
    }
   ],
   "source": [
    "pip install dill"
   ]
  },
  {
   "cell_type": "code",
   "execution_count": 5,
   "id": "eed4edd8-e321-41b4-bab6-24d2227eb6c7",
   "metadata": {},
   "outputs": [
    {
     "name": "stdout",
     "output_type": "stream",
     "text": [
      "  (-0.4502732756552364) [I0]\n",
      "+ (-0.06475389817221086) [Z2]\n",
      "+ (-0.06475389817221083) [Z3]\n",
      "+ (0.1083532809086826) [Z0]\n",
      "+ (0.1083532809086826) [Z1]\n",
      "+ (0.0912921954605941) [Z0 Z2]\n",
      "+ (0.0912921954605941) [Z1 Z3]\n",
      "+ (0.14456914951729674) [Z0 Z1]\n",
      "+ (0.1453966044283807) [Z0 Z3]\n",
      "+ (0.1453966044283807) [Z1 Z2]\n",
      "+ (0.1521863191100568) [Z2 Z3]\n",
      "+ (-0.05410440896778662) [Y0 Y1 X2 X3]\n",
      "+ (-0.05410440896778662) [X0 X1 Y2 Y3]\n",
      "+ (0.05410440896778662) [Y0 X1 X2 Y3]\n",
      "+ (0.05410440896778662) [X0 Y1 Y2 X3]\n"
     ]
    }
   ],
   "source": [
    "import pennylane as qml\n",
    "from pennylane import qchem\n",
    "data = qml.data.load(\"qchem\", molname=\"H2\", basis=\"STO-3G\", bondlength=1.3)[0]\n",
    "print(data.hamiltonian)"
   ]
  },
  {
   "cell_type": "code",
   "execution_count": 3,
   "id": "23809a98-101a-4dfd-8950-5b64e146bcd2",
   "metadata": {},
   "outputs": [
    {
     "name": "stdout",
     "output_type": "stream",
     "text": [
      "[1 1 0 0]\n"
     ]
    }
   ],
   "source": [
    "print(data.hf_state)"
   ]
  },
  {
   "cell_type": "code",
   "execution_count": 3,
   "id": "69457b75-f965-408b-a23f-d39a57eff08e",
   "metadata": {},
   "outputs": [
    {
     "name": "stdout",
     "output_type": "stream",
     "text": [
      "<Dataset = description: qchem/H2/STO-3G/1.1, attributes: ['molecule', 'hamiltonian', ...]>\n"
     ]
    }
   ],
   "source": [
    "print(data)"
   ]
  },
  {
   "cell_type": "code",
   "execution_count": 4,
   "id": "90f8a4a6-a1a6-4419-9d0c-6fc0843e8f00",
   "metadata": {},
   "outputs": [],
   "source": [
    "from pennylane import qchem"
   ]
  },
  {
   "cell_type": "code",
   "execution_count": 7,
   "id": "833ee4a4-8388-4191-b82c-7c7b67500def",
   "metadata": {},
   "outputs": [
    {
     "name": "stdout",
     "output_type": "stream",
     "text": [
      "  (-0.4502732756552364) [I0]\n",
      "+ (-0.06475389817221086) [Z2]\n",
      "+ (-0.06475389817221083) [Z3]\n",
      "+ (0.1083532809086826) [Z0]\n",
      "+ (0.1083532809086826) [Z1]\n",
      "+ (0.0912921954605941) [Z0 Z2]\n",
      "+ (0.0912921954605941) [Z1 Z3]\n",
      "+ (0.14456914951729674) [Z0 Z1]\n",
      "+ (0.1453966044283807) [Z0 Z3]\n",
      "+ (0.1453966044283807) [Z1 Z2]\n",
      "+ (0.1521863191100568) [Z2 Z3]\n",
      "+ (-0.05410440896778662) [Y0 Y1 X2 X3]\n",
      "+ (-0.05410440896778662) [X0 X1 Y2 Y3]\n",
      "+ (0.05410440896778662) [Y0 X1 X2 Y3]\n",
      "+ (0.05410440896778662) [X0 Y1 Y2 X3]\n"
     ]
    }
   ],
   "source": [
    "print(data.hamiltonian)"
   ]
  },
  {
   "cell_type": "code",
   "execution_count": 32,
   "id": "21318c4e-906e-4986-a688-db3f63099d54",
   "metadata": {},
   "outputs": [
    {
     "ename": "AttributeError",
     "evalue": "'Dataset' object has no attribute 'qubit'",
     "output_type": "error",
     "traceback": [
      "\u001b[0;31m---------------------------------------------------------------------------\u001b[0m",
      "\u001b[0;31mAttributeError\u001b[0m                            Traceback (most recent call last)",
      "\u001b[0;32m/tmp/ipykernel_155/176879728.py\u001b[0m in \u001b[0;36m<cell line: 1>\u001b[0;34m()\u001b[0m\n\u001b[0;32m----> 1\u001b[0;31m \u001b[0mprint\u001b[0m\u001b[0;34m(\u001b[0m\u001b[0mdata\u001b[0m\u001b[0;34m.\u001b[0m\u001b[0mqubit\u001b[0m\u001b[0;34m)\u001b[0m\u001b[0;34m\u001b[0m\u001b[0;34m\u001b[0m\u001b[0m\n\u001b[0m",
      "\u001b[0;32m/opt/conda/envs/pennylane/lib/python3.9/site-packages/pennylane/data/dataset.py\u001b[0m in \u001b[0;36m__getattribute__\u001b[0;34m(self, name)\u001b[0m\n\u001b[1;32m    267\u001b[0m     \u001b[0;32mdef\u001b[0m \u001b[0m__getattribute__\u001b[0m\u001b[0;34m(\u001b[0m\u001b[0mself\u001b[0m\u001b[0;34m,\u001b[0m \u001b[0mname\u001b[0m\u001b[0;34m)\u001b[0m\u001b[0;34m:\u001b[0m\u001b[0;34m\u001b[0m\u001b[0;34m\u001b[0m\u001b[0m\n\u001b[1;32m    268\u001b[0m         \u001b[0;32mtry\u001b[0m\u001b[0;34m:\u001b[0m\u001b[0;34m\u001b[0m\u001b[0;34m\u001b[0m\u001b[0m\n\u001b[0;32m--> 269\u001b[0;31m             \u001b[0mval\u001b[0m \u001b[0;34m=\u001b[0m \u001b[0msuper\u001b[0m\u001b[0;34m(\u001b[0m\u001b[0;34m)\u001b[0m\u001b[0;34m.\u001b[0m\u001b[0m__getattribute__\u001b[0m\u001b[0;34m(\u001b[0m\u001b[0mname\u001b[0m\u001b[0;34m)\u001b[0m\u001b[0;34m\u001b[0m\u001b[0;34m\u001b[0m\u001b[0m\n\u001b[0m\u001b[1;32m    270\u001b[0m             \u001b[0;32mif\u001b[0m \u001b[0mval\u001b[0m \u001b[0;32mis\u001b[0m \u001b[0;32mNone\u001b[0m \u001b[0;32mand\u001b[0m \u001b[0mself\u001b[0m\u001b[0;34m.\u001b[0m\u001b[0m_is_standard\u001b[0m \u001b[0;32mand\u001b[0m \u001b[0mname\u001b[0m \u001b[0;32min\u001b[0m \u001b[0mself\u001b[0m\u001b[0;34m.\u001b[0m\u001b[0mattrs\u001b[0m\u001b[0;34m:\u001b[0m\u001b[0;34m\u001b[0m\u001b[0;34m\u001b[0m\u001b[0m\n\u001b[1;32m    271\u001b[0m                 raise AttributeError(\n",
      "\u001b[0;31mAttributeError\u001b[0m: 'Dataset' object has no attribute 'qubit'"
     ]
    }
   ],
   "source": [
    "print(data.qubit)"
   ]
  },
  {
   "cell_type": "code",
   "execution_count": 31,
   "id": "519406f3-5757-4be8-8e34-555ebe61cfec",
   "metadata": {},
   "outputs": [
    {
     "name": "stdout",
     "output_type": "stream",
     "text": [
      "<Dataset = description: qchem/H2O/STO-3G/1.1, attributes: ['molecule', 'hamiltonian', ...]>\n"
     ]
    }
   ],
   "source": [
    "print(data)"
   ]
  },
  {
   "cell_type": "code",
   "execution_count": 41,
   "id": "603344ba-cd63-4648-94aa-cf93258a7cd7",
   "metadata": {},
   "outputs": [],
   "source": [
    "import inspect"
   ]
  },
  {
   "cell_type": "code",
   "execution_count": 43,
   "id": "acffb617-bf97-41c9-8e40-b8f14217949f",
   "metadata": {},
   "outputs": [
    {
     "ename": "TypeError",
     "evalue": "getattr expected at least 2 arguments, got 1",
     "output_type": "error",
     "traceback": [
      "\u001b[0;31m---------------------------------------------------------------------------\u001b[0m",
      "\u001b[0;31mTypeError\u001b[0m                                 Traceback (most recent call last)",
      "\u001b[0;32m/tmp/ipykernel_155/4069046129.py\u001b[0m in \u001b[0;36m<cell line: 1>\u001b[0;34m()\u001b[0m\n\u001b[0;32m----> 1\u001b[0;31m \u001b[0mprint\u001b[0m\u001b[0;34m(\u001b[0m\u001b[0mgetattr\u001b[0m\u001b[0;34m(\u001b[0m\u001b[0mdata\u001b[0m\u001b[0;34m)\u001b[0m\u001b[0;34m)\u001b[0m\u001b[0;34m\u001b[0m\u001b[0;34m\u001b[0m\u001b[0m\n\u001b[0m",
      "\u001b[0;31mTypeError\u001b[0m: getattr expected at least 2 arguments, got 1"
     ]
    }
   ],
   "source": [
    "print(getattr(data))"
   ]
  },
  {
   "cell_type": "code",
   "execution_count": 12,
   "id": "fa93447b-3171-4702-8f36-b17dcd06ff55",
   "metadata": {},
   "outputs": [],
   "source": [
    "x = 1"
   ]
  },
  {
   "cell_type": "code",
   "execution_count": 13,
   "id": "e5cc5714-fe3a-4a13-8359-fb5126a2b78e",
   "metadata": {},
   "outputs": [
    {
     "name": "stdout",
     "output_type": "stream",
     "text": [
      "<class 'int'>\n"
     ]
    }
   ],
   "source": [
    "print(type(x))"
   ]
  },
  {
   "cell_type": "code",
   "execution_count": null,
   "id": "eedd4e16-62d7-4856-bd3e-ce539ab8b829",
   "metadata": {},
   "outputs": [],
   "source": []
  }
 ],
 "metadata": {
  "kernelspec": {
   "display_name": "PennyLane",
   "language": "python",
   "name": "pennylane"
  },
  "language_info": {
   "codemirror_mode": {
    "name": "ipython",
    "version": 3
   },
   "file_extension": ".py",
   "mimetype": "text/x-python",
   "name": "python",
   "nbconvert_exporter": "python",
   "pygments_lexer": "ipython3",
   "version": "3.9.15"
  }
 },
 "nbformat": 4,
 "nbformat_minor": 5
}
