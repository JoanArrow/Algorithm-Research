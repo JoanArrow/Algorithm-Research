{
 "cells": [
  {
   "cell_type": "code",
   "execution_count": 1,
   "metadata": {},
   "outputs": [],
   "source": [
    "import pennylane as qml\n",
    "from pennylane import numpy as np\n",
    "\n",
    "import matplotlib.pyplot as plt\n",
    "# from problems.ising_problem2 import IsingProblem2\n",
    "from problems.ising_problem import IsingProblem\n",
    "from problems.toy_problem import ToyProblem\n",
    "from qiskit.providers.fake_provider import *\n",
    "from bin.cost_function import cost_loc, calc_err, cost_global, local_hadamard_test\n",
    "from bin.hyperparameters import *\n",
    "from bin.error_mitigation import mitigate_node\n",
    "\n",
    "import time"
   ]
  },
  {
   "cell_type": "code",
   "execution_count": 2,
   "metadata": {},
   "outputs": [],
   "source": [
    "# # Import the library that you need in order to use your IBM account\n",
    "# from qiskit_ibm_provider import IBMProvider\n",
    "# from secrets import *\n",
    "\n",
    "\n",
    "# try:\n",
    "#     IBMProvider()\n",
    "# except:\n",
    "#     IBMProvider.save_account(token=IBM_token, overwrite=True)"
   ]
  },
  {
   "cell_type": "code",
   "execution_count": 3,
   "metadata": {},
   "outputs": [],
   "source": [
    "# provider = IBMProvider()\n",
    "# provider.backends()"
   ]
  },
  {
   "cell_type": "code",
   "execution_count": 4,
   "metadata": {},
   "outputs": [],
   "source": [
    "def configured_backend():\n",
    "    # backend = provider.get_backend(\"ibm_osaka\")\n",
    "    backend = FakeManila()\n",
    "    # backend.options.update_options(...)\n",
    "    return backend"
   ]
  },
  {
   "cell_type": "code",
   "execution_count": 5,
   "metadata": {},
   "outputs": [],
   "source": [
    "n_qubits = 3\n",
    "error = 0.01\n",
    "cond_num = 50\n",
    "\n",
    "problem = ToyProblem(\n",
    "    n_qubits=n_qubits,\n",
    ")"
   ]
  },
  {
   "cell_type": "code",
   "execution_count": 6,
   "metadata": {},
   "outputs": [],
   "source": [
    "# error = 0.3 # paper uses 0.01 and lower but its not converging that fast\n",
    "# cond_num = 10\n",
    "# n_qubits = 3\n",
    "\n",
    "# problem = IsingProblem(\n",
    "#     n_qubits=n_qubits,\n",
    "#     J=0.1,\n",
    "#     cond_num=cond_num\n",
    "# )"
   ]
  },
  {
   "cell_type": "code",
   "execution_count": 7,
   "metadata": {},
   "outputs": [
    {
     "data": {
      "text/plain": [
       "2"
      ]
     },
     "execution_count": 7,
     "metadata": {},
     "output_type": "execute_result"
    }
   ],
   "source": [
    "len(problem.c)"
   ]
  },
  {
   "cell_type": "code",
   "execution_count": 8,
   "metadata": {},
   "outputs": [],
   "source": [
    "# print(problem.get_eta_zeta()) # looks accurate"
   ]
  },
  {
   "cell_type": "code",
   "execution_count": 9,
   "metadata": {},
   "outputs": [],
   "source": [
    "w = q_delta * np.random.randn(problem.param_shape, requires_grad=True)\n",
    "# w = q_delta * np.random.randn(batch_size, problem.param_shape, requires_grad=True)"
   ]
  },
  {
   "cell_type": "code",
   "execution_count": 10,
   "metadata": {},
   "outputs": [],
   "source": [
    "# dev_mu = qml.device(\"default.qubit\", wires=n_qubits+1)\n",
    "dev_gamma = qml.device(\"default.qubit\", wires=n_qubits*2 + 1)\n",
    "dev_mu = qml.device(\"qiskit.remote\", wires=n_qubits+1, backend=configured_backend())"
   ]
  },
  {
   "cell_type": "code",
   "execution_count": 11,
   "metadata": {},
   "outputs": [],
   "source": [
    "local_hadamard_test = qml.QNode(local_hadamard_test, dev_mu, interface=\"autograd\")\n",
    "local_hadamard_test = mitigate_node(local_hadamard_test)"
   ]
  },
  {
   "cell_type": "code",
   "execution_count": 12,
   "metadata": {},
   "outputs": [],
   "source": [
    "from IPython.display import clear_output\n",
    "\n",
    "opt = qml.GradientDescentOptimizer(eta)\n",
    "# opt = qml.AdagradOptimizer(eta)\n",
    "# opt = qml.AdamOptimizer(eta) # TODO: tune decay terms\n",
    "\n",
    "cost_history = []\n",
    "\n",
    "err = float(\"inf\")\n",
    "it = 1"
   ]
  },
  {
   "cell_type": "code",
   "execution_count": 13,
   "metadata": {},
   "outputs": [],
   "source": [
    "def cost_agg(w):\n",
    "    c = cost_loc(problem, w, local_hadamard_test)\n",
    "    # c = cost_global(problem, w, dev_mu, dev_gamma)\n",
    "    # return np.mean(c, axis=0)\n",
    "    return c"
   ]
  },
  {
   "cell_type": "code",
   "execution_count": 14,
   "metadata": {},
   "outputs": [
    {
     "data": {
      "text/plain": [
       "0.27373690968586534"
      ]
     },
     "execution_count": 14,
     "metadata": {},
     "output_type": "execute_result"
    }
   ],
   "source": [
    "cost_agg(w)"
   ]
  },
  {
   "cell_type": "code",
   "execution_count": 15,
   "metadata": {},
   "outputs": [
    {
     "name": "stdout",
     "output_type": "stream",
     "text": [
      "Step  22       Cost_L = 0.0905066 \t error = 26.0537836\n"
     ]
    }
   ],
   "source": [
    "best_err = 1000\n",
    "best_w = w\n",
    "\n",
    "start = time.time()\n",
    "# while err > error:\n",
    "for it in range(steps):\n",
    "    # w, cost = opt.step_and_cost(cost_agg, w)\n",
    "    w, cost = opt.step_and_cost(lambda w: cost_loc(problem, w, local_hadamard_test), w)\n",
    "\n",
    "    err = calc_err(n_qubits, cost, cond_num)\n",
    "    if err < best_err:\n",
    "        best_err = err\n",
    "        best_w = w\n",
    "    \n",
    "    clear_output(wait=True)\n",
    "\n",
    "    print(\"Step {:3d}       Cost_L = {:9.7f} \\t error = {:9.7f}\".format(it, cost, err), flush=True)\n",
    "    cost_history.append(cost)\n",
    "\n",
    "    it += 1\n",
    "\n",
    "print(f\"Training time: {time.time() - start}s\")"
   ]
  },
  {
   "cell_type": "code",
   "execution_count": null,
   "metadata": {},
   "outputs": [
    {
     "data": {
      "text/plain": [
       "0.0"
      ]
     },
     "execution_count": 14,
     "metadata": {},
     "output_type": "execute_result"
    }
   ],
   "source": [
    "best_err"
   ]
  },
  {
   "cell_type": "markdown",
   "metadata": {},
   "source": [
    "### Optimization studies:\n",
    "- each epoch is taking ~ 20s\n",
    "- Each $\\mu$ calculation takes ~0.05s but occasionally spikes to ~0.3s\n",
    "- Each $\\mu_{sum}$ has to loop over each combination of A_l for each qubit -> $c^2n$ operations -> ~15s\n",
    "- Each $|\\psi|$ also has to loop over each combination, but we're unable to recycle computation because these don't apply $CZ$ like the above -> ~4s\n",
    "- The ising problem has 8 C's\n",
    "    - Note that `len(c) = n_qubits * 2` by definition of H_ising\n",
    "- 8 * 8 * 4 * 2 = ~512 mu accumulations\n",
    "\n",
    "--> $8n^3 + 4n^2$ iterations\n",
    "\n",
    "It should be possible to multithread the calculation, but not sure if that's feasible when testing on an actual QC\n",
    "\n",
    "\n",
    "* n_qubits = 5: 1100 mu accumulations\n",
    "* n_qubits = 6: 1872 mu accumulations\n",
    "* n_qubits = 7: 2940 mu accumulations"
   ]
  },
  {
   "cell_type": "code",
   "execution_count": null,
   "metadata": {},
   "outputs": [
    {
     "name": "stderr",
     "output_type": "stream",
     "text": [
      "/var/folders/46/x_y_zr5s2rj1v37fwfjmjh9r0000gn/T/ipykernel_64792/3273331246.py:1: MatplotlibDeprecationWarning: The seaborn styles shipped by Matplotlib are deprecated since 3.6, as they no longer correspond to the styles shipped by seaborn. However, they will remain available as 'seaborn-v0_8-<style>'. Alternatively, directly use the seaborn API instead.\n",
      "  plt.style.use(\"seaborn\")\n",
      "/Users/bigsad/Downloads/Algorithm-Research/Student-Hub/Indy-Ng/.venv/lib/python3.11/site-packages/autograd/tracer.py:48: RuntimeWarning: divide by zero encountered in log\n",
      "  return f_raw(*args, **kwargs)\n"
     ]
    },
    {
     "data": {
      "image/png": "[encoded data removed]",
      "text/plain": [
       "<Figure size 800x550 with 1 Axes>"
      ]
     },
     "metadata": {},
     "output_type": "display_data"
    }
   ],
   "source": [
    "plt.style.use(\"seaborn\")\n",
    "plt.plot(np.log(cost_history), \"g\")\n",
    "plt.ylabel(\"Cost function\")\n",
    "plt.xlabel(\"Optimization steps\")\n",
    "plt.show()"
   ]
  },
  {
   "cell_type": "markdown",
   "metadata": {},
   "source": [
    "Qualitatively, it's converging slower than the toy problem, suggesting more iterations are needed"
   ]
  },
  {
   "cell_type": "code",
   "execution_count": null,
   "metadata": {},
   "outputs": [
    {
     "ename": "ModuleNotFoundError",
     "evalue": "No module named 'hyperparameters'",
     "output_type": "error",
     "traceback": [
      "\u001b[0;31m---------------------------------------------------------------------------\u001b[0m",
      "\u001b[0;31mModuleNotFoundError\u001b[0m                       Traceback (most recent call last)",
      "\u001b[1;32m/Users/bigsad/Downloads/Algorithm-Research/Student-Hub/Indy-Ng/VQLS_Jeffrey.ipynb セル 18\u001b[0m line \u001b[0;36m1\n\u001b[0;32m----> <a href='vscode-notebook-cell:/Users/bigsad/Downloads/Algorithm-Research/Student-Hub/Indy-Ng/VQLS_Jeffrey.ipynb#X23sZmlsZQ%3D%3D?line=0'>1</a>\u001b[0m \u001b[39mfrom\u001b[39;00m \u001b[39mbin\u001b[39;00m\u001b[39m.\u001b[39;00m\u001b[39minference\u001b[39;00m \u001b[39mimport\u001b[39;00m get_cprobs, get_qprobs\n\u001b[1;32m      <a href='vscode-notebook-cell:/Users/bigsad/Downloads/Algorithm-Research/Student-Hub/Indy-Ng/VQLS_Jeffrey.ipynb#X23sZmlsZQ%3D%3D?line=1'>2</a>\u001b[0m c_probs \u001b[39m=\u001b[39m get_cprobs(problem)\n\u001b[1;32m      <a href='vscode-notebook-cell:/Users/bigsad/Downloads/Algorithm-Research/Student-Hub/Indy-Ng/VQLS_Jeffrey.ipynb#X23sZmlsZQ%3D%3D?line=3'>4</a>\u001b[0m dev_x \u001b[39m=\u001b[39m qml\u001b[39m.\u001b[39mdevice(\u001b[39m\"\u001b[39m\u001b[39mqiskit.remote\u001b[39m\u001b[39m\"\u001b[39m, wires\u001b[39m=\u001b[39mn_qubits, backend\u001b[39m=\u001b[39mconfigured_backend())\n",
      "File \u001b[0;32m~/Downloads/Algorithm-Research/Student-Hub/Indy-Ng/bin/inference.py:3\u001b[0m\n\u001b[1;32m      1\u001b[0m \u001b[39mimport\u001b[39;00m \u001b[39mpennylane\u001b[39;00m \u001b[39mas\u001b[39;00m \u001b[39mqml\u001b[39;00m\n\u001b[1;32m      2\u001b[0m \u001b[39mfrom\u001b[39;00m \u001b[39mpennylane\u001b[39;00m \u001b[39mimport\u001b[39;00m numpy \u001b[39mas\u001b[39;00m np\n\u001b[0;32m----> 3\u001b[0m \u001b[39mfrom\u001b[39;00m \u001b[39mhyperparameters\u001b[39;00m \u001b[39mimport\u001b[39;00m \u001b[39m*\u001b[39m\n\u001b[1;32m      4\u001b[0m \u001b[39mfrom\u001b[39;00m \u001b[39mbin\u001b[39;00m\u001b[39m.\u001b[39;00m\u001b[39merror_mitigation\u001b[39;00m \u001b[39mimport\u001b[39;00m mitigate_node\n\u001b[1;32m      6\u001b[0m \u001b[39mdef\u001b[39;00m \u001b[39mprepare_and_sample\u001b[39m(problem, weights):\n\u001b[1;32m      7\u001b[0m \n\u001b[1;32m      8\u001b[0m     \u001b[39m# Variational circuit generating a guess for the solution vector |x>\u001b[39;00m\n",
      "\u001b[0;31mModuleNotFoundError\u001b[0m: No module named 'hyperparameters'"
     ]
    }
   ],
   "source": [
    "from bin.inference import get_cprobs, get_qprobs\n",
    "c_probs = get_cprobs(problem)\n",
    "\n",
    "dev_x = qml.device(\"qiskit.remote\", wires=n_qubits, backend=configured_backend())\n",
    "# dev_x = qml.device(\"default.qubit\", wires=n_qubits, shots=n_shots)\n",
    "q_probs = get_qprobs(problem, best_w, dev_x)"
   ]
  },
  {
   "cell_type": "code",
   "execution_count": null,
   "metadata": {},
   "outputs": [],
   "source": [
    "fig, (ax1, ax2) = plt.subplots(1, 2, figsize=(7, 4))\n",
    "\n",
    "ax1.bar(np.arange(0, 2 ** n_qubits), c_probs, color=\"blue\")\n",
    "ax1.set_xlim(-0.5, 2 ** n_qubits - 0.5)\n",
    "ax1.set_xlabel(\"Vector space basis\")\n",
    "ax1.set_title(\"Classical probabilities\")\n",
    "\n",
    "ax2.bar(np.arange(0, 2 ** n_qubits), q_probs, color=\"green\")\n",
    "ax2.set_xlim(-0.5, 2 ** n_qubits - 0.5)\n",
    "ax2.set_xlabel(\"Hilbert space basis\")\n",
    "ax2.set_title(\"Quantum probabilities\")\n",
    "\n",
    "plt.show()"
   ]
  },
  {
   "cell_type": "code",
   "execution_count": null,
   "metadata": {},
   "outputs": [],
   "source": []
  }
 ],
 "metadata": {
  "kernelspec": {
   "display_name": ".venv",
   "language": "python",
   "name": "python3"
  },
  "language_info": {
   "codemirror_mode": {
    "name": "ipython",
    "version": 3
   },
   "file_extension": ".py",
   "mimetype": "text/x-python",
   "name": "python",
   "nbconvert_exporter": "python",
   "pygments_lexer": "ipython3",
   "version": "3.11.6+"
  },
  "orig_nbformat": 4
 },
 "nbformat": 4,
 "nbformat_minor": 2
}
