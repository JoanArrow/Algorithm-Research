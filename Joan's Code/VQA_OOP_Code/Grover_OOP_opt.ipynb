{
 "cells": [
  {
   "cell_type": "code",
   "execution_count": null,
   "id": "73f6c8c0",
   "metadata": {},
   "outputs": [],
   "source": [
    "#This version is broken - the optimization packages do not like the integer nature of the parametrized Grover\n",
    "#I determined that this excersize in progamming Optimizable, OOP QAlgorithms had run its usefulness  "
   ]
  },
  {
   "cell_type": "code",
   "execution_count": 1,
   "id": "1dc56749-b950-4c18-8ce0-7613760e0994",
   "metadata": {},
   "outputs": [],
   "source": [
    "import pennylane as qml \n",
    "from pennylane import qchem\n",
    "from pennylane import numpy as np\n",
    "import matplotlib.pyplot as plt"
   ]
  },
  {
   "cell_type": "code",
   "execution_count": 1,
   "id": "79de301e-0fc9-4ebb-afe9-72493e13e855",
   "metadata": {},
   "outputs": [],
   "source": [
    "#Defining an algorithm class for Grover search\n",
    "#This class will have addded functionality to optimize the number of calls to the oracle to experimentally verify the optimal value of sqrt(n)\n",
    "\n",
    "class Grover:\n",
    "#------------\n",
    "#    INITIALIZATION, Input number of qubits, shots, and the bit string to be marked for search\n",
    "#------------    \n",
    "    def __init__(self, qubits, shots, oracle_state):\n",
    "        #num of qubits\n",
    "        self.qubits = qubits\n",
    "        #num of shots on backend\n",
    "        self.shots = shots\n",
    "        \n",
    "        #marked state defining the oracle - input in the form of an integer\n",
    "        #integer is converted to bit string which is converted to binary vector for later use in FlipState method\n",
    "        self.num = oracle_state\n",
    "        if oracle_state >= 2**self.qubits:\n",
    "            raise ValueError(f\"Insufficient qubits. Input value less than {2**self.qubits}\")\n",
    "        v = []\n",
    "        B = bin(oracle_state)[2:].zfill(self.qubits)\n",
    "        for i in range(len(B)):\n",
    "            v.append(int(B[i]))\n",
    "        self.oracle = v\n",
    "        \n",
    "        #optimal number of oracle+diffuser cycles - this value is used as the default to reproduce the standard Grover search\n",
    "        self.cycles = int(np.floor(np.sqrt(self.qubits)))\n",
    "\n",
    "        #-----------\n",
    "        #\n",
    "        # TRYING TO DEFINE QNODE AS CLASS ATRIBUTE\n",
    "        #\n",
    "        #-----------\n",
    "        self.dev = qml.device(\"default.qubit\", wires = self.qubits, shots = self.shots)\n",
    "        self.qnode = qml.QNode(self.circuit, self.dev, interface=\"autograd\")\n",
    "#------------\n",
    "#    CIRCUIT METHOD, This is the core method which is used as input to all other methods\n",
    "#    Default run uses the optimal number of oracle cycles\n",
    "#    User can specify alternate number of cycles if desired\n",
    "#------------    \n",
    "    def circuit(self, cycles = None):\n",
    "        #cycles is an optional input if the user wants to implement Grover with a nonstandard number of oracle calls\n",
    "        if cycles is None:\n",
    "            cycles = self.cycles\n",
    "        #the run method takes in an integer to define the number of cycles - during optimization a tensor is passed to run - this converts the tensor input to one the method can use\n",
    "        #if type(cycles) == np.tensor:\n",
    "        #    cycles = int(np.floor(cycles.item()))\n",
    "        elif type(cycles) != int:\n",
    "            cycles = int(np.floor(cycles))\n",
    "        \n",
    "        \n",
    "        #setup for Grover algorithm with initial state [1,1,...,1] (this is more optimal as the diffuser does not need to be conjugated by x gates)\n",
    "        initial_state = []\n",
    "        for i in range(self.qubits):\n",
    "            initial_state.append(1)\n",
    "            \n",
    "        #oracle+diffusion\n",
    "        def OD():\n",
    "        #oracle\n",
    "            qml.FlipSign(self.oracle, wires = range(self.qubits))\n",
    "        #diffusion\n",
    "            for i in range(self.qubits):\n",
    "                qml.Hadamard(i)\n",
    "            qml.FlipSign(initial_state, wires = range(self.qubits))\n",
    "            for i in range(self.qubits):\n",
    "                qml.Hadamard(i)\n",
    "                \n",
    "        #repeater oracle+diffuser \n",
    "        def Oracle_Diffusion(n):\n",
    "            for i in range(int(n)):\n",
    "                OD()\n",
    "                \n",
    "    #run grover\n",
    "        def G(x):\n",
    "        #initial state prep\n",
    "            for i in range(self.qubits):\n",
    "                qml.PauliX(i)\n",
    "                qml.Hadamard(i)\n",
    "        #repeated component\n",
    "            Oracle_Diffusion(x)\n",
    "        #measurement\n",
    "            return qml.probs(wires = range(self.qubits))\n",
    "        #the output of the method is a 1D tensor of probabilities for each bit string given the number of cycles specified\n",
    "        return (G(cycles))\n",
    "    \n",
    "#------------\n",
    "#    RUN METHOD\n",
    "#    Default run uses the optimal number of oracle cycles\n",
    "#    User can specify alternate number of cycles if desired\n",
    "#------------  \n",
    "    \n",
    "    #runs the circuit through the qnode\n",
    "    def run(self, cycles = None):\n",
    "        return self.qnode(cycles)\n",
    "    \n",
    "    #encodes the output of the circuit into a cost function\n",
    "    def cost(self, cycles = None):\n",
    "        return -self.qnode(cycles)[self.num]\n",
    "#------------\n",
    "#    PLOT METHOD, visualizes probabilities outputted by run method\n",
    "#    Default run uses the optimal number of oracle cycles\n",
    "#    User can specify alternate number of cycles if desired\n",
    "#------------    \n",
    "    \n",
    "    def plot(self, cycles = None):\n",
    "        #same as for run\n",
    "        if cycles is None:\n",
    "            cycles = self.cycles\n",
    "        elif type(cycles) != int:\n",
    "            cycles = int(np.floor(cycles))\n",
    "            \n",
    "        #store y values as output of run method\n",
    "        y = self.run(cycles)\n",
    "        bit_strings = [f\"{x:0{self.qubits}b}\" for x in range(len(y))]\n",
    "        plt.bar(bit_strings, y, color = \"#212121\")\n",
    "        plt.xticks(rotation=\"vertical\")\n",
    "        plt.xlabel(\"State label\")\n",
    "        plt.ylabel(\"Probability Amplitude\")\n",
    "        plt.title(\"States probabilities amplitudes\")\n",
    "        plt.show()\n",
    "        \n",
    "#------------\n",
    "#    OPT METHOD, utilizes cycle input capability to experimentally recover optimal number of cycles\n",
    "#------------          \n",
    "    def opt(self):\n",
    "        #initialize optimizer using integer step size as cycles must always be an integer\n",
    "        opt = qml.GradientDescentOptimizer(stepsize=1)\n",
    "        #initialize training parameter\n",
    "        #def cost(x):\n",
    "        #    return -self.run(x)[self.num]\n",
    "        theta = np.array(0.0, requires_grad=True)\n",
    "        #sends theta -> run method and selects the amplitude of marked state from output tensor\n",
    "        #value is negative to permit minimization\n",
    "        Cost_vec = [self.cost(theta)]\n",
    "        cycle = [theta]\n",
    "    \n",
    "        max_iterations = 10\n",
    "        #convergence_tolerance = 1e-06\n",
    "    \n",
    "        for n in range(max_iterations):\n",
    "            #BROKEN LINE - step and cost does not appear to be working with this settup\n",
    "            #theta = opt.step(self.cost, theta)\n",
    "            #theta, prev_cost = opt.step_and_cost(self.cost, theta)\n",
    "            \n",
    "            #store subsequent optimization steps in the corresponding vectors\n",
    "            Cost_vec.append(self.cost(theta+n))\n",
    "            cycle.append(theta+n)\n",
    "            \n",
    "            #convergence condition left over from VQE demo where opt code was first sourced - doesn't apply to this problem\n",
    "            #conv = np.abs(Prob[-1] - prev_prob)\n",
    "              \n",
    "        #print(f\"Step = {Cost_vec.index(max(Cost_vec))}, probability = {max(Cost_vec):.8f}\")\n",
    "        n_cost = [Cost_vec.index(min(Cost_vec)), min(Cost_vec)]\n",
    "        #print(f\"Step = {Cost_vec.index(min(Cost_vec))}, probability = {min(Cost_vec):.8f}\") \n",
    "        return n_cost"
   ]
  },
  {
   "cell_type": "code",
   "execution_count": 2,
   "id": "8b1ea7ae-a6e4-4d28-a5e0-d2a95c0bff8e",
   "metadata": {},
   "outputs": [
    {
     "ename": "NameError",
     "evalue": "name 'np' is not defined",
     "output_type": "error",
     "traceback": [
      "\u001b[1;31m---------------------------------------------------------------------------\u001b[0m",
      "\u001b[1;31mNameError\u001b[0m                                 Traceback (most recent call last)",
      "Cell \u001b[1;32mIn[2], line 1\u001b[0m\n\u001b[1;32m----> 1\u001b[0m G \u001b[38;5;241m=\u001b[39m \u001b[43mGrover\u001b[49m\u001b[43m(\u001b[49m\u001b[38;5;241;43m3\u001b[39;49m\u001b[43m,\u001b[49m\u001b[43m \u001b[49m\u001b[38;5;241;43m1000\u001b[39;49m\u001b[43m,\u001b[49m\u001b[43m \u001b[49m\u001b[38;5;241;43m2\u001b[39;49m\u001b[43m)\u001b[49m\n",
      "Cell \u001b[1;32mIn[1], line 26\u001b[0m, in \u001b[0;36mGrover.__init__\u001b[1;34m(self, qubits, shots, oracle_state)\u001b[0m\n\u001b[0;32m     23\u001b[0m \u001b[38;5;28mself\u001b[39m\u001b[38;5;241m.\u001b[39moracle \u001b[38;5;241m=\u001b[39m v\n\u001b[0;32m     25\u001b[0m \u001b[38;5;66;03m#optimal number of oracle+diffuser cycles - this value is used as the default to reproduce the standard Grover search\u001b[39;00m\n\u001b[1;32m---> 26\u001b[0m \u001b[38;5;28mself\u001b[39m\u001b[38;5;241m.\u001b[39mcycles \u001b[38;5;241m=\u001b[39m \u001b[38;5;28mint\u001b[39m(\u001b[43mnp\u001b[49m\u001b[38;5;241m.\u001b[39mfloor(np\u001b[38;5;241m.\u001b[39msqrt(\u001b[38;5;28mself\u001b[39m\u001b[38;5;241m.\u001b[39mqubits)))\n\u001b[0;32m     28\u001b[0m \u001b[38;5;66;03m#-----------\u001b[39;00m\n\u001b[0;32m     29\u001b[0m \u001b[38;5;66;03m#\u001b[39;00m\n\u001b[0;32m     30\u001b[0m \u001b[38;5;66;03m# TRYING TO DEFINE QNODE AS CLASS ATRIBUTE\u001b[39;00m\n\u001b[0;32m     31\u001b[0m \u001b[38;5;66;03m#\u001b[39;00m\n\u001b[0;32m     32\u001b[0m \u001b[38;5;66;03m#-----------\u001b[39;00m\n\u001b[0;32m     33\u001b[0m \u001b[38;5;28mself\u001b[39m\u001b[38;5;241m.\u001b[39mdev \u001b[38;5;241m=\u001b[39m qml\u001b[38;5;241m.\u001b[39mdevice(\u001b[38;5;124m\"\u001b[39m\u001b[38;5;124mdefault.qubit\u001b[39m\u001b[38;5;124m\"\u001b[39m, wires \u001b[38;5;241m=\u001b[39m \u001b[38;5;28mself\u001b[39m\u001b[38;5;241m.\u001b[39mqubits, shots \u001b[38;5;241m=\u001b[39m \u001b[38;5;28mself\u001b[39m\u001b[38;5;241m.\u001b[39mshots)\n",
      "\u001b[1;31mNameError\u001b[0m: name 'np' is not defined"
     ]
    }
   ],
   "source": [
    "G = Grover(3, 1000, 2)\n",
    "#theta = np.array(0.0, requires_grad=True)\n",
    "#Prob = [G.run(theta)[0]]\n",
    "#angle = [theta]"
   ]
  },
  {
   "cell_type": "code",
   "execution_count": 4,
   "id": "1d61785e-1392-4058-9296-076744f68226",
   "metadata": {},
   "outputs": [
    {
     "ename": "SyntaxError",
     "evalue": "invalid syntax (2470098486.py, line 2)",
     "output_type": "error",
     "traceback": [
      "\u001b[0;36m  File \u001b[0;32m\"/tmp/ipykernel_301/2470098486.py\"\u001b[0;36m, line \u001b[0;32m2\u001b[0m\n\u001b[0;31m    for i in range(10)\u001b[0m\n\u001b[0m                      ^\u001b[0m\n\u001b[0;31mSyntaxError\u001b[0m\u001b[0;31m:\u001b[0m invalid syntax\n"
     ]
    }
   ],
   "source": [
    "theta = np.array(0.0, requires_grad=True)\n",
    "for i in range(10)\n",
    "\n",
    "    Cost_vec.append(G. = [G.cost(theta)]\n",
    "print(Cost_vec)"
   ]
  },
  {
   "cell_type": "code",
   "execution_count": 4,
   "id": "beb34a1f-2f11-4a8d-880e-8073fcda9fbd",
   "metadata": {},
   "outputs": [
    {
     "data": {
      "text/plain": [
       "7"
      ]
     },
     "execution_count": 4,
     "metadata": {},
     "output_type": "execute_result"
    }
   ],
   "source": [
    "G.opt()[0]"
   ]
  },
  {
   "cell_type": "code",
   "execution_count": null,
   "id": "156f6a59-e8a0-497c-8ae9-e6682a48fc6f",
   "metadata": {},
   "outputs": [],
   "source": [
    "y = []\n",
    "x = []\n",
    "\n",
    "for i in range(1, 14):\n",
    "    G = Grover(i, 100, 0)\n",
    "    y.append(G.opt()[0])\n",
    "    x.append(i)\n",
    "    #print(i)\n"
   ]
  },
  {
   "cell_type": "code",
   "execution_count": 6,
   "id": "4273227e-fdce-4cfb-a8b2-4ca8b6ad0302",
   "metadata": {},
   "outputs": [
    {
     "data": {
      "text/plain": [
       "Text(0.5, 0, 'qubit number')"
      ]
     },
     "execution_count": 6,
     "metadata": {},
     "output_type": "execute_result"
    },
    {
     "data": {
      "image/png": "[encoded data removed]",
      "text/plain": [
       "<Figure size 640x480 with 1 Axes>"
      ]
     },
     "metadata": {},
     "output_type": "display_data"
    }
   ],
   "source": [
    "plt.plot(x,y)\n",
    "plt.ylabel('Optimal number of Cycles')\n",
    "plt.xlabel('qubit number')"
   ]
  },
  {
   "cell_type": "code",
   "execution_count": null,
   "id": "55a7cb27-1dd3-471c-94c4-f717d55ab8d3",
   "metadata": {},
   "outputs": [],
   "source": []
  }
 ],
 "metadata": {
  "kernelspec": {
   "display_name": "base",
   "language": "python",
   "name": "python3"
  },
  "language_info": {
   "codemirror_mode": {
    "name": "ipython",
    "version": 3
   },
   "file_extension": ".py",
   "mimetype": "text/x-python",
   "name": "python",
   "nbconvert_exporter": "python",
   "pygments_lexer": "ipython3",
   "version": "3.10.9"
  }
 },
 "nbformat": 4,
 "nbformat_minor": 5
}
