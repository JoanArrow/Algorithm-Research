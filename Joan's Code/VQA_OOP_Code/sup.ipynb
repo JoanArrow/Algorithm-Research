{
 "cells": [
  {
   "cell_type": "code",
   "execution_count": 1,
   "id": "31e0846d-4106-41d5-ae9b-c0ef4e30aeb4",
   "metadata": {},
   "outputs": [],
   "source": [
    "import pennylane as qml\n",
    "#import numpy as np\n",
    "from pennylane import qchem\n",
    "from pennylane import numpy as np\n",
    "import matplotlib.pyplot as plt"
   ]
  },
  {
   "cell_type": "code",
   "execution_count": 2,
   "id": "bc3637bf-fca7-4ff6-8f3f-14e175eaf12b",
   "metadata": {},
   "outputs": [
    {
     "name": "stdout",
     "output_type": "stream",
     "text": [
      "[0.036]\n"
     ]
    }
   ],
   "source": [
    "q = 1\n",
    "s = 1000\n",
    "\n",
    "dev = qml.device(\"default.qubit\", wires=q, shots = s)\n",
    "@qml.qnode(dev)\n",
    "def H(q):\n",
    "    for i in range(q):\n",
    "        qml.Hadamard(i)\n",
    "    return [qml.expval(qml.PauliZ(i)) for i in range(q)]\n",
    "    #return qml.sample()\n",
    "print(H(q))"
   ]
  },
  {
   "cell_type": "code",
   "execution_count": 3,
   "id": "c95e5869-634a-4a69-a2b8-6a245edface3",
   "metadata": {},
   "outputs": [],
   "source": [
    "A = H(1)"
   ]
  },
  {
   "cell_type": "code",
   "execution_count": 4,
   "id": "cf8162c5-6859-4e90-aa61-e8f2766ad2dd",
   "metadata": {},
   "outputs": [
    {
     "name": "stdout",
     "output_type": "stream",
     "text": [
      "[-0.032]\n"
     ]
    }
   ],
   "source": [
    "print(A)"
   ]
  },
  {
   "cell_type": "code",
   "execution_count": 5,
   "id": "39b00d4a-22b4-432c-b2b4-fbcba729a87a",
   "metadata": {},
   "outputs": [
    {
     "name": "stdout",
     "output_type": "stream",
     "text": [
      "[tensor([-0.05], requires_grad=True)]\n"
     ]
    }
   ],
   "source": [
    "exp = [H(q)]\n",
    "print(exp)"
   ]
  },
  {
   "cell_type": "code",
   "execution_count": 19,
   "id": "6af933d4-f93b-4049-8a7a-1995ab45ee1f",
   "metadata": {},
   "outputs": [
    {
     "name": "stdout",
     "output_type": "stream",
     "text": [
      "None\n"
     ]
    }
   ],
   "source": [
    "print(exp.append(H(q)))"
   ]
  },
  {
   "cell_type": "code",
   "execution_count": 21,
   "id": "3cf32842-6bde-4bfe-ab0b-c1e784f071ff",
   "metadata": {},
   "outputs": [
    {
     "name": "stdout",
     "output_type": "stream",
     "text": [
      "[tensor([-0.032], requires_grad=True)]\n"
     ]
    }
   ],
   "source": [
    "print(exp)"
   ]
  },
  {
   "cell_type": "code",
   "execution_count": 22,
   "id": "38eaa804-42c9-4f84-8832-499d5d845acf",
   "metadata": {},
   "outputs": [
    {
     "ename": "NameError",
     "evalue": "name 'opt' is not defined",
     "output_type": "error",
     "traceback": [
      "\u001b[0;31m---------------------------------------------------------------------------\u001b[0m",
      "\u001b[0;31mNameError\u001b[0m                                 Traceback (most recent call last)",
      "\u001b[0;32m/tmp/ipykernel_181/1425227916.py\u001b[0m in \u001b[0;36m<cell line: 1>\u001b[0;34m()\u001b[0m\n\u001b[0;32m----> 1\u001b[0;31m \u001b[0mstep\u001b[0m\u001b[0;34m,\u001b[0m \u001b[0mprev_exp\u001b[0m \u001b[0;34m=\u001b[0m \u001b[0mopt\u001b[0m\u001b[0;34m.\u001b[0m\u001b[0mstep_and_cost\u001b[0m\u001b[0;34m(\u001b[0m\u001b[0mH\u001b[0m\u001b[0;34m,\u001b[0m\u001b[0mstep\u001b[0m\u001b[0;34m)\u001b[0m\u001b[0;34m\u001b[0m\u001b[0;34m\u001b[0m\u001b[0m\n\u001b[0m",
      "\u001b[0;31mNameError\u001b[0m: name 'opt' is not defined"
     ]
    }
   ],
   "source": [
    "step, prev_exp = opt.step_and_cost(H,step)"
   ]
  },
  {
   "cell_type": "code",
   "execution_count": null,
   "id": "0566050a-a7b9-49e7-9fac-0d834d5e87a0",
   "metadata": {},
   "outputs": [],
   "source": []
  }
 ],
 "metadata": {
  "kernelspec": {
   "display_name": "PennyLane",
   "language": "python",
   "name": "pennylane"
  },
  "language_info": {
   "codemirror_mode": {
    "name": "ipython",
    "version": 3
   },
   "file_extension": ".py",
   "mimetype": "text/x-python",
   "name": "python",
   "nbconvert_exporter": "python",
   "pygments_lexer": "ipython3",
   "version": "3.9.15"
  }
 },
 "nbformat": 4,
 "nbformat_minor": 5
}
