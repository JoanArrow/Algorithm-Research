{
 "cells": [
  {
   "cell_type": "code",
   "execution_count": 101,
   "id": "37885a82",
   "metadata": {},
   "outputs": [],
   "source": [
    "#Benchmarking Variational Quantum State Diagonalization Algorithm"
   ]
  },
  {
   "cell_type": "code",
   "execution_count": 79,
   "id": "b92c9f16",
   "metadata": {},
   "outputs": [],
   "source": [
    "import pennylane as qml \n",
    "from pennylane import numpy as np\n",
    "import matplotlib.pyplot as plt\n",
    "import time"
   ]
  },
  {
   "cell_type": "code",
   "execution_count": 2,
   "id": "a4200023",
   "metadata": {},
   "outputs": [
    {
     "name": "stdout",
     "output_type": "stream",
     "text": [
      "0: ──H─┤  \n",
      "1: ──H─┤  \n",
      "2: ──H─┤  \n",
      "3: ──H─┤  \n"
     ]
    }
   ],
   "source": [
    "# = 2\n",
    "#n = 2*m\n",
    "def test_prep(param):\n",
    "    for i in range(2*len(param)):\n",
    "        qml.Hadamard(i)\n",
    "#    return [qml.expval(qml.PauliZ(i)) for i in range(2*m)]\n",
    "drawer = qml.draw(test_prep)\n",
    "print(drawer([0,1]))\n",
    "#test_prep(m)"
   ]
  },
  {
   "cell_type": "code",
   "execution_count": 71,
   "id": "7d6dfec7",
   "metadata": {},
   "outputs": [
    {
     "name": "stdout",
     "output_type": "stream",
     "text": [
      "0: ──RZ(0.00)──RX(1.57)─┤  \n",
      "1: ──RZ(0.00)──RX(1.57)─┤  \n"
     ]
    }
   ],
   "source": [
    "#TODO\n",
    "#Make angles equal in the ith subsystem of registers 1 and 2\n",
    "#param needs to be specifiable with m angles\n",
    "#param = [0, 1, 2, 3]\n",
    "\n",
    "def ansatz(param):\n",
    "    for i in range(len(param)):\n",
    "        qml.RZ(param[i], wires = i)\n",
    "        qml.RZ(param[i], wires = i+len(param))\n",
    "        qml.RX(np.pi/2, wires = i)\n",
    "        qml.RX(np.pi/2, wires = i+len(param))\n",
    "drawer = qml.draw(ansatz)\n",
    "print(drawer([0]))"
   ]
  },
  {
   "cell_type": "code",
   "execution_count": 4,
   "id": "0d887763",
   "metadata": {},
   "outputs": [
    {
     "name": "stdout",
     "output_type": "stream",
     "text": [
      "0: ─╭●─┤  \n",
      "2: ─╰X─┤  \n",
      "1: ─╭●─┤  \n",
      "3: ─╰X─┤  \n"
     ]
    }
   ],
   "source": [
    "def cost_fun(param):\n",
    "    for i in range(len(param)):\n",
    "        qml.CNOT(wires = [i,i+len(param)])\n",
    "drawer = qml.draw(cost_fun)\n",
    "print(drawer([0,1]))"
   ]
  },
  {
   "cell_type": "code",
   "execution_count": 64,
   "id": "93c04bc1",
   "metadata": {},
   "outputs": [],
   "source": [
    "#s = 1000\n",
    "#m = 2\n",
    "#n = 2*m\n",
    "dev = qml.device(\"default.qubit\", wires = 2, shots = 1000)\n",
    "@qml.qnode(dev, interface = \"autograd\")\n",
    "def circuit(param):\n",
    "    test_prep(param)\n",
    "    ansatz(param)\n",
    "    cost_fun(param)\n",
    "    return qml.probs(wires = [i for i in range(len(param), 2*len(param))])"
   ]
  },
  {
   "cell_type": "code",
   "execution_count": 65,
   "id": "603d4791",
   "metadata": {},
   "outputs": [],
   "source": [
    "def VQSD(param):\n",
    "    return -circuit(param)[0]"
   ]
  },
  {
   "cell_type": "code",
   "execution_count": 137,
   "id": "9eb105e6",
   "metadata": {},
   "outputs": [
    {
     "name": "stdout",
     "output_type": "stream",
     "text": [
      "[0.2]\n"
     ]
    }
   ],
   "source": [
    "t = []\n",
    "for i in range(1):\n",
    "    t.append(0.2)\n",
    "theta = np.array(t, requires_grad=True)\n",
    "print(theta)"
   ]
  },
  {
   "cell_type": "code",
   "execution_count": 138,
   "id": "31b060b4",
   "metadata": {},
   "outputs": [
    {
     "name": "stdout",
     "output_type": "stream",
     "text": [
      "[0.44399999999999995]\n",
      "[0.391]\n",
      "[0.593]\n"
     ]
    }
   ],
   "source": [
    "diag = [VQSD(theta)+1]\n",
    "Ev0 = [eval_readout(theta)[1]]\n",
    "Ev1 = [eval_readout(theta)[0]]\n",
    "print(diag)\n",
    "print(Ev0)\n",
    "print(Ev1)"
   ]
  },
  {
   "cell_type": "code",
   "execution_count": 121,
   "id": "3a049540",
   "metadata": {},
   "outputs": [
    {
     "name": "stdout",
     "output_type": "stream",
     "text": [
      "[tensor([0.2], requires_grad=True)]\n"
     ]
    }
   ],
   "source": [
    "# store the values of the circuit parameter\n",
    "angle = [theta]\n",
    "print(angle)\n",
    "#len(angle)"
   ]
  },
  {
   "cell_type": "code",
   "execution_count": 139,
   "id": "f0100812",
   "metadata": {},
   "outputs": [
    {
     "name": "stdout",
     "output_type": "stream",
     "text": [
      "Step = 0,  Diagonality = 0.47200000, Eigen_Value0 = 0.379, Eigen_Value1 = 0.62\n",
      "Step = 2,  Diagonality = 0.43400000, Eigen_Value0 = 0.335, Eigen_Value1 = 0.699\n",
      "Step = 4,  Diagonality = 0.38800000, Eigen_Value0 = 0.281, Eigen_Value1 = 0.725\n",
      "Step = 6,  Diagonality = 0.31500000, Eigen_Value0 = 0.184, Eigen_Value1 = 0.82\n",
      "Step = 8,  Diagonality = 0.21600000, Eigen_Value0 = 0.113, Eigen_Value1 = 0.869\n",
      "Step = 10,  Diagonality = 0.10900000, Eigen_Value0 = 0.071, Eigen_Value1 = 0.929\n",
      "Step = 12,  Diagonality = 0.07200000, Eigen_Value0 = 0.053, Eigen_Value1 = 0.969\n",
      "Step = 14,  Diagonality = 0.03800000, Eigen_Value0 = 0.014, Eigen_Value1 = 0.985\n",
      "Step = 16,  Diagonality = 0.01700000, Eigen_Value0 = 0.005, Eigen_Value1 = 0.998\n",
      "Step = 18,  Diagonality = 0.01000000, Eigen_Value0 = 0.002, Eigen_Value1 = 0.996\n",
      "\n",
      "Max iterations = 19\n",
      "\n",
      "Optimization runtime = 0.3034400939941406s\n",
      "\n",
      "Optimal value of the circuit parameter = [1.4843]\n"
     ]
    }
   ],
   "source": [
    "###To Do\n",
    "#Figure out why the energy stays roughly constant\n",
    "\n",
    "opt = qml.GradientDescentOptimizer(stepsize=0.2)\n",
    "max_iterations = 1000\n",
    "conv_tol = 1e-06\n",
    "start_time = time.time()\n",
    "\n",
    "\n",
    "for n in range(max_iterations):\n",
    "    theta, prev_diag = opt.step_and_cost(VQSD, theta)\n",
    "\n",
    "    diag.append(VQSD(theta)+1)\n",
    "    angle.append(theta)\n",
    "    Ev0.append(eval_readout(theta)[1])\n",
    "    Ev1.append(eval_readout(theta)[0])\n",
    "\n",
    "    conv = np.abs(diag[-1])\n",
    "\n",
    "    if n % 2 == 0:\n",
    "        print(f\"Step = {n},  Diagonality = {diag[-1]:.8f}, Eigen_Value0 = {Ev0[-1]}, Eigen_Value1 = {Ev1[-1]}\")\n",
    "\n",
    "    if conv <= conv_tol:\n",
    "        max_iterations = n\n",
    "        print(\"\\n\"f\"Max iterations = {n}\")\n",
    "        break\n",
    "print(\"\\n\" f\"Optimization runtime = {time.time() - start_time}s\")\n",
    "print(\"\\n\" f\"Optimal value of the circuit parameter = {angle[-1]}\")\n",
    "opt_angle = angle[-1]"
   ]
  },
  {
   "cell_type": "code",
   "execution_count": 140,
   "id": "86fb16bf",
   "metadata": {},
   "outputs": [
    {
     "ename": "AttributeError",
     "evalue": "module 'matplotlib.pyplot' has no attribute 'set_xlabel'",
     "output_type": "error",
     "traceback": [
      "\u001b[1;31m---------------------------------------------------------------------------\u001b[0m",
      "\u001b[1;31mAttributeError\u001b[0m                            Traceback (most recent call last)",
      "Cell \u001b[1;32mIn[140], line 10\u001b[0m\n\u001b[0;32m      8\u001b[0m plt\u001b[38;5;241m.\u001b[39mplot(\u001b[38;5;28mrange\u001b[39m(\u001b[38;5;28mlen\u001b[39m(diag)), Ev0, \u001b[38;5;124m\"\u001b[39m\u001b[38;5;124mgo\u001b[39m\u001b[38;5;124m\"\u001b[39m, ls\u001b[38;5;241m=\u001b[39m\u001b[38;5;124m\"\u001b[39m\u001b[38;5;124mdashed\u001b[39m\u001b[38;5;124m\"\u001b[39m)\n\u001b[0;32m      9\u001b[0m plt\u001b[38;5;241m.\u001b[39mplot(\u001b[38;5;28mrange\u001b[39m(\u001b[38;5;28mlen\u001b[39m(diag)), Ev1, \u001b[38;5;124m\"\u001b[39m\u001b[38;5;124mgo\u001b[39m\u001b[38;5;124m\"\u001b[39m, ls\u001b[38;5;241m=\u001b[39m\u001b[38;5;124m\"\u001b[39m\u001b[38;5;124mdashed\u001b[39m\u001b[38;5;124m\"\u001b[39m)\n\u001b[1;32m---> 10\u001b[0m \u001b[43mplt\u001b[49m\u001b[38;5;241;43m.\u001b[39;49m\u001b[43mset_xlabel\u001b[49m(\u001b[38;5;124m\"\u001b[39m\u001b[38;5;124mOptimization step\u001b[39m\u001b[38;5;124m\"\u001b[39m, fontsize\u001b[38;5;241m=\u001b[39m\u001b[38;5;241m13\u001b[39m)\n\u001b[0;32m     11\u001b[0m plt\u001b[38;5;241m.\u001b[39mset_ylabel(\u001b[38;5;124m\"\u001b[39m\u001b[38;5;124mDiagonality\u001b[39m\u001b[38;5;124m\"\u001b[39m, fontsize\u001b[38;5;241m=\u001b[39m\u001b[38;5;241m13\u001b[39m)\n\u001b[0;32m     13\u001b[0m plt\u001b[38;5;241m.\u001b[39mxticks(fontsize\u001b[38;5;241m=\u001b[39m\u001b[38;5;241m12\u001b[39m)\n",
      "\u001b[1;31mAttributeError\u001b[0m: module 'matplotlib.pyplot' has no attribute 'set_xlabel'"
     ]
    },
    {
     "data": {
      "image/png": "[encoded data removed]",
      "text/plain": [
       "<Figure size 1200x500 with 1 Axes>"
      ]
     },
     "metadata": {},
     "output_type": "display_data"
    }
   ],
   "source": [
    "fig = plt.figure()\n",
    "fig.set_figheight(5)\n",
    "fig.set_figwidth(12)\n",
    "\n",
    "# Add energy plot on column 1\n",
    "\n",
    "plt.plot(range(len(diag)), diag, \"ro\", ls = \"solid\")\n",
    "plt.plot(range(len(diag)), Ev0, \"go\", ls=\"dashed\")\n",
    "plt.plot(range(len(diag)), Ev1, \"go\", ls=\"dashed\")\n",
    "plt.set_xlabel(\"Optimization step\", fontsize=13)\n",
    "plt.set_ylabel(\"Diagonality\", fontsize=13)\n",
    "\n",
    "plt.xticks(fontsize=12)\n",
    "plt.yticks(fontsize=12)\n",
    "\n",
    "\n",
    "plt.show()"
   ]
  },
  {
   "cell_type": "code",
   "execution_count": 70,
   "id": "0d288163",
   "metadata": {},
   "outputs": [
    {
     "data": {
      "text/plain": [
       "tensor([1.5482], requires_grad=True)"
      ]
     },
     "execution_count": 70,
     "metadata": {},
     "output_type": "execute_result"
    }
   ],
   "source": [
    "opt_angle"
   ]
  },
  {
   "cell_type": "code",
   "execution_count": 73,
   "id": "4137d404",
   "metadata": {},
   "outputs": [
    {
     "name": "stdout",
     "output_type": "stream",
     "text": [
      "0: ──RZ(0.00)──RX(1.57)─┤  \n",
      "1: ──RZ(1.00)──RX(1.57)─┤  \n"
     ]
    }
   ],
   "source": [
    "def opt_ansatz(param):\n",
    "    for i in range(len(param)):\n",
    "        qml.RZ(param[i], wires = i)\n",
    "        qml.RX(np.pi/2, wires = i)\n",
    "drawer = qml.draw(opt_ansatz)\n",
    "print(drawer([0,1]))"
   ]
  },
  {
   "cell_type": "code",
   "execution_count": 74,
   "id": "b19ff7ee",
   "metadata": {},
   "outputs": [
    {
     "name": "stdout",
     "output_type": "stream",
     "text": [
      "0: ──H─┤  \n"
     ]
    }
   ],
   "source": [
    "def opt_test_prep(param):\n",
    "    for i in range(len(param)):\n",
    "        qml.Hadamard(i)\n",
    "drawer = qml.draw(opt_test_prep)\n",
    "print(drawer([0]))"
   ]
  },
  {
   "cell_type": "code",
   "execution_count": 118,
   "id": "0f2a1ef6",
   "metadata": {},
   "outputs": [
    {
     "data": {
      "text/plain": [
       "0.0"
      ]
     },
     "execution_count": 118,
     "metadata": {},
     "output_type": "execute_result"
    }
   ],
   "source": [
    "dev = qml.device(\"default.qubit\", wires = 1, shots = 1000)\n",
    "@qml.qnode(dev, interface = \"autograd\")\n",
    "def eval_readout(param):\n",
    "    opt_test_prep(param)\n",
    "    opt_ansatz(param)\n",
    "    return qml.probs()\n",
    "#drawer = qml.draw(eval_readout)\n",
    "#print(drawer([0, 1]))\n",
    "eval_readout(opt_angle)[1]"
   ]
  },
  {
   "cell_type": "code",
   "execution_count": null,
   "id": "46045bd3",
   "metadata": {},
   "outputs": [],
   "source": []
  }
 ],
 "metadata": {
  "kernelspec": {
   "display_name": "Python 3 (ipykernel)",
   "language": "python",
   "name": "python3"
  },
  "language_info": {
   "codemirror_mode": {
    "name": "ipython",
    "version": 3
   },
   "file_extension": ".py",
   "mimetype": "text/x-python",
   "name": "python",
   "nbconvert_exporter": "python",
   "pygments_lexer": "ipython3",
   "version": "3.10.9"
  }
 },
 "nbformat": 4,
 "nbformat_minor": 5
}
