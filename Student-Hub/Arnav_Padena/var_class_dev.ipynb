{
 "cells": [
  {
   "cell_type": "code",
   "execution_count": 1,
   "metadata": {},
   "outputs": [],
   "source": [
    "# import stuff\n",
    "import pennylane as qml\n",
    "import pandas as pd\n",
    "import sklearn\n",
    "\n",
    "from pennylane import numpy as np\n",
    "from pennylane.optimize import NesterovMomentumOptimizer\n",
    "\n",
    "from sklearn.model_selection import KFold\n",
    "from sklearn.model_selection import cross_val_score\n",
    "from sklearn.preprocessing import OneHotEncoder\n",
    "from sklearn.preprocessing import LabelEncoder\n",
    "\n",
    "\n",
    "# Cancer dataset has 569 observations, nearest power of 2 is 2^10, so set n_qubits = 10\n",
    "n_qubits = 10\n",
    "\n",
    "\n",
    "# define the device\n",
    "dev = qml.device(\"default.qubit\", wires=range(n_qubits))"
   ]
  },
  {
   "cell_type": "code",
   "execution_count": 2,
   "metadata": {},
   "outputs": [],
   "source": [
    "path = './wdbc.data'\n",
    "\n",
    "\n",
    "# Documentation for the col_names can be found in wdbc.names\n",
    "col_names = [\"ID\", \"diagnosis\", \"radius\", \"texture\", \"perimeter\", \"area\", \"smoothness\", \"compactness\", \"concavity\", \"concave_points\", \"symmetry\", \"fractal dimension\",\n",
    "             \"SE_radius\", \"SE_texture\", \"SE_perimeter\", \"SE_area\", \"SE_smoothness\", \"SE_compactness\", \"SE_concavity\", \"SE_concave_points\", \"SE_symmetry\", \"SE_fractal dimension\",\n",
    "             \"worst_radius\", \"worst_texture\", \"worst_perimeter\", \"worst_area\", \"worst_smoothness\", \"worst_compactness\", \"worst_concavity\", \"worst_concave_points\", \"worst_symmetry\", \"worst_fractal dimension\"]\n",
    "\n",
    "\n",
    "def preprocess_data(data_path, col_names):\n",
    "    data = pd.read_csv(path, names=col_names)\n",
    "    input_data = data[[\"radius\", \"texture\", \"perimeter\", \"area\", \"smoothness\", \"compactness\", \"concavity\", \"concave_points\", \"symmetry\", \"fractal dimension\",\n",
    "             \"SE_radius\", \"SE_texture\", \"SE_perimeter\", \"SE_area\", \"SE_smoothness\", \"SE_compactness\", \"SE_concavity\", \"SE_concave_points\", \"SE_symmetry\", \"SE_fractal dimension\",\n",
    "             \"worst_radius\", \"worst_texture\", \"worst_perimeter\", \"worst_area\", \"worst_smoothness\", \"worst_compactness\", \"worst_concavity\", \"worst_concave_points\", \"worst_symmetry\", \"worst_fractal dimension\"]]\n",
    "    input_data = input_data.to_numpy()\n",
    "    \n",
    "    output_data = data[[\"diagnosis\"]]\n",
    "    output_data = np.ravel(output_data.to_numpy())\n",
    "    \n",
    "    label_encoder = LabelEncoder()\n",
    "    output_data_encoded = label_encoder.fit_transform(output_data)\n",
    "    \n",
    "    X = input_data\n",
    "    Y = output_data_encoded\n",
    "    \n",
    "    return X, Y\n",
    "\n",
    "X, Y = preprocess_data(path, col_names)"
   ]
  },
  {
   "cell_type": "code",
   "execution_count": 3,
   "metadata": {},
   "outputs": [
    {
     "name": "stdout",
     "output_type": "stream",
     "text": [
      "[  20.57   17.77  132.9  1326.  ]\n",
      "[  19.69   21.25  130.   1203.  ]\n",
      "1332.9205932087627\n",
      "1210.350469326963\n",
      "[0.01543228 0.01333163 0.09970586 0.99480795]\n",
      "[0.01626802 0.0175569  0.10740691 0.99392699]\n",
      "[array([  20.57,   17.77,  132.9 , 1326.  ]), array([  19.69,   21.25,  130.  , 1203.  ])]\n"
     ]
    }
   ],
   "source": [
    "print(X[1,0:4])\n",
    "print(X[2,0:4])\n",
    "print(np.linalg.norm(X[1,0:4]))\n",
    "print(np.linalg.norm(X[2,0:4]))\n",
    "print(X[1,0:4]/np.linalg.norm(X[1,0:4]))\n",
    "print(X[2,0:4]/np.linalg.norm(X[2,0:4]))\n",
    "print([X[1,0:4], X[2,0:4]])"
   ]
  },
  {
   "cell_type": "code",
   "execution_count": null,
   "metadata": {},
   "outputs": [],
   "source": [
    "def reshape_weights(n_qubits):\n",
    "    "
   ]
  },
  {
   "cell_type": "code",
   "execution_count": 4,
   "metadata": {},
   "outputs": [
    {
     "data": {
      "text/plain": [
       "tensor([[0.00792541+0.j, 0.00457286+0.j, 0.054099  +0.j, ...,\n",
       "         0.        +0.j, 0.        +0.j, 0.        +0.j],\n",
       "        [0.00866576+0.j, 0.00748617+0.j, 0.05598828+0.j, ...,\n",
       "         0.        +0.j, 0.        +0.j, 0.        +0.j],\n",
       "        [0.00936668+0.j, 0.01010879+0.j, 0.06184199+0.j, ...,\n",
       "         0.        +0.j, 0.        +0.j, 0.        +0.j],\n",
       "        ...,\n",
       "        [0.01164388+0.j, 0.0196964 +0.j, 0.07596583+0.j, ...,\n",
       "         0.        +0.j, 0.        +0.j, 0.        +0.j],\n",
       "        [0.00923021+0.j, 0.01314184+0.j, 0.06277436+0.j, ...,\n",
       "         0.        +0.j, 0.        +0.j, 0.        +0.j],\n",
       "        [0.02310989+0.j, 0.07308204+0.j, 0.14270951+0.j, ...,\n",
       "         0.        +0.j, 0.        +0.j, 0.        +0.j]], requires_grad=True)"
      ]
     },
     "execution_count": 4,
     "metadata": {},
     "output_type": "execute_result"
    }
   ],
   "source": [
    "# Now we call amplitude embedding routine from Pennylane\n",
    "\n",
    "@qml.qnode(dev)\n",
    "def encoding_circuit(weights, features):\n",
    "    qml.AmplitudeEmbedding(features, pad_with=0, normalize=True, wires=range(n_qubits))\n",
    "\n",
    "    \n",
    "    return qml.state()\n",
    "\n",
    "encoding_circuit(X)"
   ]
  },
  {
   "cell_type": "code",
   "execution_count": null,
   "metadata": {},
   "outputs": [],
   "source": [
    "def variational_circuit(weights):\n",
    "    U3_weights, control_weights = reshape_weights(weights)\n",
    "    for idx, element in enumerate(U3_weights):\n",
    "        qml.U3(element[0], element[1], element[2], idx)\n",
    "\n",
    "    for idx in range(n_qubits):\n",
    "        c_k = "
   ]
  }
 ],
 "metadata": {
  "kernelspec": {
   "display_name": ".venv",
   "language": "python",
   "name": "python3"
  },
  "language_info": {
   "codemirror_mode": {
    "name": "ipython",
    "version": 3
   },
   "file_extension": ".py",
   "mimetype": "text/x-python",
   "name": "python",
   "nbconvert_exporter": "python",
   "pygments_lexer": "ipython3",
   "version": "3.11.3"
  },
  "orig_nbformat": 4
 },
 "nbformat": 4,
 "nbformat_minor": 2
}
