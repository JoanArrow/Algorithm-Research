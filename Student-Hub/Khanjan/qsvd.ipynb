{
 "cells": [
  {
   "cell_type": "code",
   "execution_count": null,
   "metadata": {},
   "outputs": [],
   "source": [
    "# TODO: Add .gitignore file that ignores venv folder\n",
    "# TODO: Add requirements.txt file so people can replicate\n",
    "# TODO: Add replication instructions\n",
    "\n",
    "import pennylane as qml\n",
    "from pennylane import numpy as np\n",
    "\n",
    "## TODO: Encode state vector psi as bipartite pure state\n",
    "##### Additionally, write function that prepares c_ij = a_ij + i*b_ij where a_ij, b_ij are random real numbers from -0.5 to 0.5,\n",
    "##### with a global normalization condition on state vector psi\n",
    "## Read: II (Classical Singular Value Decomposition) + page 4 IV (Variational Quantum Singular Value Decomposer)\n",
    "## Use QubitStateVector: https://docs.pennylane.ai/en/stable/code/api/pennylane.QubitStateVector.html\n",
    "\n",
    "def prep_coefs(d_a, d_b):\n",
    "    np.random.rand\n",
    "\n",
    "\n",
    "\n",
    "\n",
    "\n",
    "## TODO: Implement variational circuits for system A and B\n",
    "# Architecture of variational circuits are given in Figure 5\n",
    "# Use Pennylane infrastructure to implement these (they're called SimplifiedTwoDesign)\n",
    "\n",
    "\n",
    "\n",
    "## TODO: Implement cost function"
   ]
  },
  {
   "cell_type": "code",
   "execution_count": null,
   "metadata": {},
   "outputs": [],
   "source": []
  }
 ],
 "metadata": {
  "language_info": {
   "name": "python"
  },
  "orig_nbformat": 4
 },
 "nbformat": 4,
 "nbformat_minor": 2
}
