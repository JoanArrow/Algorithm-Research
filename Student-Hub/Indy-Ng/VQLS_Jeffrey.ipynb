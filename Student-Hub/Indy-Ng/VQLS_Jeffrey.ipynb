{
 "cells": [
  {
   "cell_type": "code",
   "execution_count": 1,
   "metadata": {},
   "outputs": [],
   "source": [
    "import pennylane as qml\n",
    "from pennylane import numpy as np\n",
    "\n",
    "import matplotlib.pyplot as plt\n",
    "# from problems.ising_problem2 import IsingProblem2\n",
    "from problems.ising_problem import IsingProblem\n",
    "from problems.toy_problem import ToyProblem\n",
    "from qiskit.providers.fake_provider import *\n",
    "from bin.cost_function import cost_loc, calc_err, cost_global, local_hadamard_test, hadamard_overlap_test\n",
    "from bin.hyperparameters import *\n",
    "from bin.error_mitigation import mitigate_node\n",
    "\n",
    "import time"
   ]
  },
  {
   "cell_type": "code",
   "execution_count": 2,
   "metadata": {},
   "outputs": [],
   "source": [
    "# # Import the library that you need in order to use your IBM account\n",
    "# from qiskit_ibm_provider import IBMProvider\n",
    "# from secrets import *\n",
    "\n",
    "\n",
    "# try:\n",
    "#     IBMProvider()\n",
    "# except:\n",
    "#     IBMProvider.save_account(token=IBM_token, overwrite=True)"
   ]
  },
  {
   "cell_type": "code",
   "execution_count": 3,
   "metadata": {},
   "outputs": [],
   "source": [
    "# provider = IBMProvider()\n",
    "# provider.backends()"
   ]
  },
  {
   "cell_type": "code",
   "execution_count": 4,
   "metadata": {},
   "outputs": [],
   "source": [
    "def configured_backend():\n",
    "    # backend = provider.get_backend(\"ibm_osaka\") # uncomment this line to use a real IBM device\n",
    "    backend = FakeManila()\n",
    "    # backend.options.update_options(...)\n",
    "    return backend"
   ]
  },
  {
   "cell_type": "code",
   "execution_count": 5,
   "metadata": {},
   "outputs": [],
   "source": [
    "# define the problem we want to perform our experiment on\n",
    "n_qubits = 3 \n",
    "error = 0.01\n",
    "cond_num = 50\n",
    "\n",
    "problem = ToyProblem(\n",
    "    n_qubits=n_qubits,\n",
    ")"
   ]
  },
  {
   "cell_type": "code",
   "execution_count": 9,
   "metadata": {},
   "outputs": [],
   "source": [
    "# initialize weights\n",
    "w = q_delta * np.random.randn(problem.param_shape, \n",
    "requires_grad=True)\n",
    "# w = q_delta * np.random.randn(batch_size, problem.param_shape, requires_grad=True)"
   ]
  },
  {
   "cell_type": "code",
   "execution_count": 10,
   "metadata": {},
   "outputs": [],
   "source": [
    "# create our devices to run our circuits on\n",
    "dev_mu = qml.device(\"default.qubit\", wires=n_qubits+1)\n",
    "dev_gamma = qml.device(\"default.qubit\", wires=n_qubits*2 + 1)\n",
    "# dev_mu = qml.device(\"qiskit.remote\", wires=n_qubits+1, backend=configured_backend()) # device for real IBM devices noisy simulators"
   ]
  },
  {
   "cell_type": "code",
   "execution_count": 11,
   "metadata": {},
   "outputs": [],
   "source": [
    "# in order to make the error mitigation work, we have to pull out the QNode definition outside of the cost function so I'm doing it here\n",
    "local_hadamard_test = qml.QNode(local_hadamard_test, dev_mu, interface=\"autograd\")\n",
    "local_hadamard_test = mitigate_node(local_hadamard_test)"
   ]
  },
  {
   "cell_type": "code",
   "execution_count": 12,
   "metadata": {},
   "outputs": [],
   "source": [
    "# overlap test is used for the global cost function\n",
    "hadamard_overlap_test = qml.QNode(hadamard_overlap_test, dev_gamma, interface=\"autograd\")\n",
    "# hadamard_overlap_test = mitigate_node(hadamard_overlap_test)"
   ]
  },
  {
   "cell_type": "code",
   "execution_count": 13,
   "metadata": {},
   "outputs": [],
   "source": [
    "from IPython.display import clear_output\n",
    "\n",
    "opt = qml.GradientDescentOptimizer(eta)\n",
    "# opt = qml.AdagradOptimizer(eta)\n",
    "# opt = qml.AdamOptimizer(eta) # TODO: tune decay terms\n",
    "\n",
    "cost_history = []\n",
    "\n",
    "err = float(\"inf\")\n",
    "it = 1"
   ]
  },
  {
   "cell_type": "code",
   "execution_count": 14,
   "metadata": {},
   "outputs": [],
   "source": [
    "def cost_agg(w):\n",
    "    # c = cost_loc(problem, w, local_hadamard_test)\n",
    "    c = cost_global(problem, w, local_hadamard_test, hadamard_overlap_test)\n",
    "    # return np.mean(c, axis=0)\n",
    "    return c"
   ]
  },
  {
   "cell_type": "code",
   "execution_count": 15,
   "metadata": {},
   "outputs": [
    {
     "data": {
      "text/plain": [
       "tensor(1., requires_grad=True)"
      ]
     },
     "execution_count": 15,
     "metadata": {},
     "output_type": "execute_result"
    }
   ],
   "source": [
    "cost_agg(w)"
   ]
  },
  {
   "cell_type": "code",
   "execution_count": 20,
   "metadata": {},
   "outputs": [
    {
     "name": "stdout",
     "output_type": "stream",
     "text": [
      "False\n",
      "Step  29       Cost_L = 1.0000000 \t error = 86.6025404\n",
      "Training time: 28.36666488647461s\n"
     ]
    }
   ],
   "source": [
    "# training loop\n",
    "\n",
    "best_err = 1000\n",
    "best_w = w\n",
    "# prev_w = w\n",
    "\n",
    "start = time.time()\n",
    "# while err > error:\n",
    "for it in range(steps):\n",
    "    # w, cost = opt.step_and_cost(cost_agg, w)\n",
    "    # w, cost = opt.step_and_cost(lambda w: cost_loc(problem, w, local_hadamard_test), w)\n",
    "    w, cost = opt.step_and_cost(lambda w: cost_global(problem, w, local_hadamard_test, hadamard_overlap_test), w)\n",
    "\n",
    "    err = calc_err(n_qubits, cost, cond_num)\n",
    "    if err < best_err:\n",
    "        best_err = err\n",
    "        best_w = w\n",
    "    \n",
    "    clear_output(wait=True)\n",
    "\n",
    "    # print(np.array_equal(best_w, w))\n",
    "\n",
    "    print(\"Step {:3d}       Cost_L = {:9.7f} \\t error = {:9.7f}\".format(it, cost, err), flush=True)\n",
    "    cost_history.append(cost)\n",
    "\n",
    "    prev_w = w\n",
    "\n",
    "    it += 1\n",
    "\n",
    "print(f\"Training time: {time.time() - start}s\")"
   ]
  },
  {
   "cell_type": "code",
   "execution_count": 17,
   "metadata": {},
   "outputs": [
    {
     "data": {
      "text/plain": [
       "86.60254037844386"
      ]
     },
     "execution_count": 17,
     "metadata": {},
     "output_type": "execute_result"
    }
   ],
   "source": [
    "best_err"
   ]
  },
  {
   "cell_type": "markdown",
   "metadata": {},
   "source": [
    "### Optimization studies:\n",
    "- each epoch is taking ~ 20s\n",
    "- Each $\\mu$ calculation takes ~0.05s but occasionally spikes to ~0.3s\n",
    "- Each $\\mu_{sum}$ has to loop over each combination of A_l for each qubit -> $c^2n$ operations -> ~15s\n",
    "- Each $|\\psi|$ also has to loop over each combination, but we're unable to recycle computation because these don't apply $CZ$ like the above -> ~4s\n",
    "- The ising problem has 8 C's\n",
    "    - Note that `len(c) = n_qubits * 2` by definition of H_ising\n",
    "- 8 * 8 * 4 * 2 = ~512 mu accumulations\n",
    "\n",
    "--> $8n^3 + 4n^2$ iterations\n",
    "\n",
    "It should be possible to multithread the calculation, but not sure if that's feasible when testing on an actual QC\n",
    "\n",
    "\n",
    "* n_qubits = 5: 1100 mu accumulations\n",
    "* n_qubits = 6: 1872 mu accumulations\n",
    "* n_qubits = 7: 2940 mu accumulations"
   ]
  },
  {
   "cell_type": "code",
   "execution_count": 18,
   "metadata": {},
   "outputs": [
    {
     "name": "stderr",
     "output_type": "stream",
     "text": [
      "/var/folders/46/x_y_zr5s2rj1v37fwfjmjh9r0000gn/T/ipykernel_54430/3273331246.py:1: MatplotlibDeprecationWarning: The seaborn styles shipped by Matplotlib are deprecated since 3.6, as they no longer correspond to the styles shipped by seaborn. However, they will remain available as 'seaborn-v0_8-<style>'. Alternatively, directly use the seaborn API instead.\n",
      "  plt.style.use(\"seaborn\")\n"
     ]
    },
    {
     "data": {
      "image/png": "[encoded data removed]",
      "text/plain": [
       "<Figure size 800x550 with 1 Axes>"
      ]
     },
     "metadata": {},
     "output_type": "display_data"
    }
   ],
   "source": [
    "plt.style.use(\"seaborn\")\n",
    "plt.plot(np.log(cost_history), \"g\")\n",
    "plt.ylabel(\"Cost function\")\n",
    "plt.xlabel(\"Optimization steps\")\n",
    "plt.show()"
   ]
  },
  {
   "cell_type": "markdown",
   "metadata": {},
   "source": [
    "Qualitatively, it's converging slower than the toy problem, suggesting more iterations are needed"
   ]
  },
  {
   "cell_type": "code",
   "execution_count": 19,
   "metadata": {},
   "outputs": [
    {
     "name": "stderr",
     "output_type": "stream",
     "text": [
      "/Users/bigsad/Downloads/Algorithm-Research/Student-Hub/Indy-Ng/.venv/lib/python3.11/site-packages/pennylane/math/utils.py:227: UserWarning: Contains tensors of types {'autograd', 'problems'}; dispatch will prioritize TensorFlow, PyTorch, and  Jax over Autograd. Consider replacing Autograd with vanilla NumPy.\n",
      "  warnings.warn(\n"
     ]
    },
    {
     "ename": "ValueError",
     "evalue": "shapes (3,3) and (3,1024,3) not aligned: 3 (dim 1) != 1024 (dim 1)",
     "output_type": "error",
     "traceback": [
      "\u001b[0;31m---------------------------------------------------------------------------\u001b[0m",
      "\u001b[0;31mValueError\u001b[0m                                Traceback (most recent call last)",
      "\u001b[1;32m/Users/bigsad/Downloads/Algorithm-Research/Student-Hub/Indy-Ng/VQLS_Jeffrey.ipynb セル 21\u001b[0m line \u001b[0;36m3\n\u001b[1;32m     <a href='vscode-notebook-cell:/Users/bigsad/Downloads/Algorithm-Research/Student-Hub/Indy-Ng/VQLS_Jeffrey.ipynb#X26sZmlsZQ%3D%3D?line=30'>31</a>\u001b[0m     \u001b[39m# q_probs = np.bincount(samples, minlength=2**problem.n_qubits) / n_shots\u001b[39;00m\n\u001b[1;32m     <a href='vscode-notebook-cell:/Users/bigsad/Downloads/Algorithm-Research/Student-Hub/Indy-Ng/VQLS_Jeffrey.ipynb#X26sZmlsZQ%3D%3D?line=32'>33</a>\u001b[0m     \u001b[39mreturn\u001b[39;00m q_probs\n\u001b[0;32m---> <a href='vscode-notebook-cell:/Users/bigsad/Downloads/Algorithm-Research/Student-Hub/Indy-Ng/VQLS_Jeffrey.ipynb#X26sZmlsZQ%3D%3D?line=35'>36</a>\u001b[0m q_probs \u001b[39m=\u001b[39m get_qprobs(problem, best_w, dev_x)\n",
      "\u001b[1;32m/Users/bigsad/Downloads/Algorithm-Research/Student-Hub/Indy-Ng/VQLS_Jeffrey.ipynb セル 21\u001b[0m line \u001b[0;36m2\n\u001b[1;32m     <a href='vscode-notebook-cell:/Users/bigsad/Downloads/Algorithm-Research/Student-Hub/Indy-Ng/VQLS_Jeffrey.ipynb#X26sZmlsZQ%3D%3D?line=17'>18</a>\u001b[0m sampler \u001b[39m=\u001b[39m qml\u001b[39m.\u001b[39mQNode(prepare_and_sample, device)\n\u001b[1;32m     <a href='vscode-notebook-cell:/Users/bigsad/Downloads/Algorithm-Research/Student-Hub/Indy-Ng/VQLS_Jeffrey.ipynb#X26sZmlsZQ%3D%3D?line=19'>20</a>\u001b[0m sampler \u001b[39m=\u001b[39m mitigate_node(sampler)\n\u001b[0;32m---> <a href='vscode-notebook-cell:/Users/bigsad/Downloads/Algorithm-Research/Student-Hub/Indy-Ng/VQLS_Jeffrey.ipynb#X26sZmlsZQ%3D%3D?line=21'>22</a>\u001b[0m raw_samples \u001b[39m=\u001b[39m sampler(problem, w)\n\u001b[1;32m     <a href='vscode-notebook-cell:/Users/bigsad/Downloads/Algorithm-Research/Student-Hub/Indy-Ng/VQLS_Jeffrey.ipynb#X26sZmlsZQ%3D%3D?line=22'>23</a>\u001b[0m \u001b[39m# raw_samples = np.concatenate(raw_samples, axis=0)# FOR BATCHING\u001b[39;00m\n\u001b[1;32m     <a href='vscode-notebook-cell:/Users/bigsad/Downloads/Algorithm-Research/Student-Hub/Indy-Ng/VQLS_Jeffrey.ipynb#X26sZmlsZQ%3D%3D?line=23'>24</a>\u001b[0m \n\u001b[1;32m     <a href='vscode-notebook-cell:/Users/bigsad/Downloads/Algorithm-Research/Student-Hub/Indy-Ng/VQLS_Jeffrey.ipynb#X26sZmlsZQ%3D%3D?line=24'>25</a>\u001b[0m \u001b[39m# convert the raw samples (bit strings) into integers and count them\u001b[39;00m\n\u001b[1;32m     <a href='vscode-notebook-cell:/Users/bigsad/Downloads/Algorithm-Research/Student-Hub/Indy-Ng/VQLS_Jeffrey.ipynb#X26sZmlsZQ%3D%3D?line=25'>26</a>\u001b[0m samples \u001b[39m=\u001b[39m []\n",
      "File \u001b[0;32m~/Downloads/Algorithm-Research/Student-Hub/Indy-Ng/.venv/lib/python3.11/site-packages/pennylane/qnode.py:1027\u001b[0m, in \u001b[0;36mQNode.__call__\u001b[0;34m(self, *args, **kwargs)\u001b[0m\n\u001b[1;32m   1022\u001b[0m         full_transform_program\u001b[39m.\u001b[39m_set_all_argnums(\n\u001b[1;32m   1023\u001b[0m             \u001b[39mself\u001b[39m, args, kwargs, argnums\n\u001b[1;32m   1024\u001b[0m         )  \u001b[39m# pylint: disable=protected-access\u001b[39;00m\n\u001b[1;32m   1026\u001b[0m \u001b[39m# pylint: disable=unexpected-keyword-arg\u001b[39;00m\n\u001b[0;32m-> 1027\u001b[0m res \u001b[39m=\u001b[39m qml\u001b[39m.\u001b[39;49mexecute(\n\u001b[1;32m   1028\u001b[0m     (\u001b[39mself\u001b[39;49m\u001b[39m.\u001b[39;49m_tape,),\n\u001b[1;32m   1029\u001b[0m     device\u001b[39m=\u001b[39;49m\u001b[39mself\u001b[39;49m\u001b[39m.\u001b[39;49mdevice,\n\u001b[1;32m   1030\u001b[0m     gradient_fn\u001b[39m=\u001b[39;49m\u001b[39mself\u001b[39;49m\u001b[39m.\u001b[39;49mgradient_fn,\n\u001b[1;32m   1031\u001b[0m     interface\u001b[39m=\u001b[39;49m\u001b[39mself\u001b[39;49m\u001b[39m.\u001b[39;49minterface,\n\u001b[1;32m   1032\u001b[0m     transform_program\u001b[39m=\u001b[39;49mfull_transform_program,\n\u001b[1;32m   1033\u001b[0m     config\u001b[39m=\u001b[39;49mconfig,\n\u001b[1;32m   1034\u001b[0m     gradient_kwargs\u001b[39m=\u001b[39;49m\u001b[39mself\u001b[39;49m\u001b[39m.\u001b[39;49mgradient_kwargs,\n\u001b[1;32m   1035\u001b[0m     override_shots\u001b[39m=\u001b[39;49moverride_shots,\n\u001b[1;32m   1036\u001b[0m     \u001b[39m*\u001b[39;49m\u001b[39m*\u001b[39;49m\u001b[39mself\u001b[39;49m\u001b[39m.\u001b[39;49mexecute_kwargs,\n\u001b[1;32m   1037\u001b[0m )\n\u001b[1;32m   1039\u001b[0m res \u001b[39m=\u001b[39m res[\u001b[39m0\u001b[39m]\n\u001b[1;32m   1041\u001b[0m \u001b[39m# convert result to the interface in case the qfunc has no parameters\u001b[39;00m\n",
      "File \u001b[0;32m~/Downloads/Algorithm-Research/Student-Hub/Indy-Ng/.venv/lib/python3.11/site-packages/pennylane/interfaces/execution.py:740\u001b[0m, in \u001b[0;36mexecute\u001b[0;34m(tapes, device, gradient_fn, interface, transform_program, config, grad_on_execution, gradient_kwargs, cache, cachesize, max_diff, override_shots, expand_fn, max_expansion, device_batch_transform)\u001b[0m\n\u001b[1;32m    735\u001b[0m ml_boundary_execute \u001b[39m=\u001b[39m _get_ml_boundary_execute(interface, _grad_on_execution)\n\u001b[1;32m    736\u001b[0m results \u001b[39m=\u001b[39m ml_boundary_execute(\n\u001b[1;32m    737\u001b[0m     tapes, device, execute_fn, gradient_fn, gradient_kwargs, _n\u001b[39m=\u001b[39m\u001b[39m1\u001b[39m, max_diff\u001b[39m=\u001b[39mmax_diff\n\u001b[1;32m    738\u001b[0m )\n\u001b[0;32m--> 740\u001b[0m \u001b[39mreturn\u001b[39;00m post_processing(results)\n",
      "File \u001b[0;32m~/Downloads/Algorithm-Research/Student-Hub/Indy-Ng/.venv/lib/python3.11/site-packages/pennylane/interfaces/execution.py:609\u001b[0m, in \u001b[0;36mexecute.<locals>.post_processing\u001b[0;34m(results)\u001b[0m\n\u001b[1;32m    608\u001b[0m \u001b[39mdef\u001b[39;00m \u001b[39mpost_processing\u001b[39m(results):\n\u001b[0;32m--> 609\u001b[0m     \u001b[39mreturn\u001b[39;00m program_post_processing(program_pre_processing(results))\n",
      "File \u001b[0;32m~/Downloads/Algorithm-Research/Student-Hub/Indy-Ng/.venv/lib/python3.11/site-packages/pennylane/transforms/core/transform_program.py:86\u001b[0m, in \u001b[0;36m_apply_postprocessing_stack\u001b[0;34m(results, postprocessing_stack)\u001b[0m\n\u001b[1;32m     63\u001b[0m \u001b[39m\u001b[39m\u001b[39m\"\"\"Applies the postprocessing and cotransform postprocessing functions in a Last-In-First-Out LIFO manner.\u001b[39;00m\n\u001b[1;32m     64\u001b[0m \n\u001b[1;32m     65\u001b[0m \u001b[39mArgs:\u001b[39;00m\n\u001b[0;32m   (...)\u001b[0m\n\u001b[1;32m     83\u001b[0m \n\u001b[1;32m     84\u001b[0m \u001b[39m\"\"\"\u001b[39;00m\n\u001b[1;32m     85\u001b[0m \u001b[39mfor\u001b[39;00m postprocessing \u001b[39min\u001b[39;00m \u001b[39mreversed\u001b[39m(postprocessing_stack):\n\u001b[0;32m---> 86\u001b[0m     results \u001b[39m=\u001b[39m postprocessing(results)\n\u001b[1;32m     87\u001b[0m \u001b[39mreturn\u001b[39;00m results\n",
      "File \u001b[0;32m~/Downloads/Algorithm-Research/Student-Hub/Indy-Ng/.venv/lib/python3.11/site-packages/pennylane/transforms/core/transform_program.py:56\u001b[0m, in \u001b[0;36m_batch_postprocessing\u001b[0;34m(results, individual_fns, slices)\u001b[0m\n\u001b[1;32m     30\u001b[0m \u001b[39mdef\u001b[39;00m \u001b[39m_batch_postprocessing\u001b[39m(\n\u001b[1;32m     31\u001b[0m     results: ResultBatch, individual_fns: List[PostProcessingFn], slices: List[\u001b[39mslice\u001b[39m]\n\u001b[1;32m     32\u001b[0m ) \u001b[39m-\u001b[39m\u001b[39m>\u001b[39m ResultBatch:\n\u001b[1;32m     33\u001b[0m \u001b[39m    \u001b[39m\u001b[39m\"\"\"Broadcast individual post processing functions onto their respective tapes.\u001b[39;00m\n\u001b[1;32m     34\u001b[0m \n\u001b[1;32m     35\u001b[0m \u001b[39m    Args:\u001b[39;00m\n\u001b[0;32m   (...)\u001b[0m\n\u001b[1;32m     54\u001b[0m \n\u001b[1;32m     55\u001b[0m \u001b[39m    \"\"\"\u001b[39;00m\n\u001b[0;32m---> 56\u001b[0m     \u001b[39mreturn\u001b[39;00m \u001b[39mtuple\u001b[39m(fn(results[sl]) \u001b[39mfor\u001b[39;00m fn, sl \u001b[39min\u001b[39;00m \u001b[39mzip\u001b[39m(individual_fns, slices))\n",
      "File \u001b[0;32m~/Downloads/Algorithm-Research/Student-Hub/Indy-Ng/.venv/lib/python3.11/site-packages/pennylane/transforms/core/transform_program.py:56\u001b[0m, in \u001b[0;36m<genexpr>\u001b[0;34m(.0)\u001b[0m\n\u001b[1;32m     30\u001b[0m \u001b[39mdef\u001b[39;00m \u001b[39m_batch_postprocessing\u001b[39m(\n\u001b[1;32m     31\u001b[0m     results: ResultBatch, individual_fns: List[PostProcessingFn], slices: List[\u001b[39mslice\u001b[39m]\n\u001b[1;32m     32\u001b[0m ) \u001b[39m-\u001b[39m\u001b[39m>\u001b[39m ResultBatch:\n\u001b[1;32m     33\u001b[0m \u001b[39m    \u001b[39m\u001b[39m\"\"\"Broadcast individual post processing functions onto their respective tapes.\u001b[39;00m\n\u001b[1;32m     34\u001b[0m \n\u001b[1;32m     35\u001b[0m \u001b[39m    Args:\u001b[39;00m\n\u001b[0;32m   (...)\u001b[0m\n\u001b[1;32m     54\u001b[0m \n\u001b[1;32m     55\u001b[0m \u001b[39m    \"\"\"\u001b[39;00m\n\u001b[0;32m---> 56\u001b[0m     \u001b[39mreturn\u001b[39;00m \u001b[39mtuple\u001b[39m(fn(results[sl]) \u001b[39mfor\u001b[39;00m fn, sl \u001b[39min\u001b[39;00m \u001b[39mzip\u001b[39m(individual_fns, slices))\n",
      "File \u001b[0;32m~/Downloads/Algorithm-Research/Student-Hub/Indy-Ng/.venv/lib/python3.11/site-packages/pennylane/transforms/mitigate.py:541\u001b[0m, in \u001b[0;36mmitigate_with_zne.<locals>.processing_fn\u001b[0;34m(results)\u001b[0m\n\u001b[1;32m    536\u001b[0m \u001b[39mfor\u001b[39;00m i \u001b[39min\u001b[39;00m \u001b[39mrange\u001b[39m(\u001b[39m0\u001b[39m, \u001b[39mlen\u001b[39m(results), reps_per_factor):\n\u001b[1;32m    537\u001b[0m     \u001b[39m# The stacking ensures the right interface is used\u001b[39;00m\n\u001b[1;32m    538\u001b[0m     \u001b[39m# averaging over axis=0 is critical because the qnode may have multiple outputs\u001b[39;00m\n\u001b[1;32m    539\u001b[0m     results_flattened\u001b[39m.\u001b[39mappend(mean(qml\u001b[39m.\u001b[39mmath\u001b[39m.\u001b[39mstack(results[i : i \u001b[39m+\u001b[39m reps_per_factor]), axis\u001b[39m=\u001b[39m\u001b[39m0\u001b[39m))\n\u001b[0;32m--> 541\u001b[0m extrapolated \u001b[39m=\u001b[39m extrapolate(scale_factors, results_flattened, \u001b[39m*\u001b[39;49m\u001b[39m*\u001b[39;49mextrapolate_kwargs)\n\u001b[1;32m    543\u001b[0m extrapolated \u001b[39m=\u001b[39m extrapolated[\u001b[39m0\u001b[39m] \u001b[39mif\u001b[39;00m shape(extrapolated) \u001b[39m==\u001b[39m (\u001b[39m1\u001b[39m,) \u001b[39melse\u001b[39;00m extrapolated\n\u001b[1;32m    545\u001b[0m \u001b[39m# unstack the results in the case of multiple measurements\u001b[39;00m\n",
      "File \u001b[0;32m~/Downloads/Algorithm-Research/Student-Hub/Indy-Ng/.venv/lib/python3.11/site-packages/pennylane/transforms/mitigate.py:320\u001b[0m, in \u001b[0;36mrichardson_extrapolate\u001b[0;34m(x, y)\u001b[0m\n\u001b[1;32m    297\u001b[0m \u001b[39mdef\u001b[39;00m \u001b[39mrichardson_extrapolate\u001b[39m(x, y):\n\u001b[1;32m    298\u001b[0m \u001b[39m    \u001b[39m\u001b[39mr\u001b[39m\u001b[39m\"\"\"Polynomial fit where the degree of the polynomial is fixed to being equal to the length of ``x``.\u001b[39;00m\n\u001b[1;32m    299\u001b[0m \n\u001b[1;32m    300\u001b[0m \u001b[39m    In a nutshell, this function is calling  :func:`~.pennylane.transforms.poly_extrapolate` with ``order = len(x)-1``.\u001b[39;00m\n\u001b[0;32m   (...)\u001b[0m\n\u001b[1;32m    318\u001b[0m \n\u001b[1;32m    319\u001b[0m \u001b[39m    \"\"\"\u001b[39;00m\n\u001b[0;32m--> 320\u001b[0m     \u001b[39mreturn\u001b[39;00m poly_extrapolate(x, y, \u001b[39mlen\u001b[39;49m(x) \u001b[39m-\u001b[39;49m \u001b[39m1\u001b[39;49m)\n",
      "File \u001b[0;32m~/Downloads/Algorithm-Research/Student-Hub/Indy-Ng/.venv/lib/python3.11/site-packages/pennylane/transforms/mitigate.py:293\u001b[0m, in \u001b[0;36mpoly_extrapolate\u001b[0;34m(x, y, order)\u001b[0m\n\u001b[1;32m    269\u001b[0m \u001b[39mdef\u001b[39;00m \u001b[39mpoly_extrapolate\u001b[39m(x, y, order):\n\u001b[1;32m    270\u001b[0m \u001b[39m    \u001b[39m\u001b[39mr\u001b[39m\u001b[39m\"\"\"Extrapolator to :math:`f(0)` for polynomial fit.\u001b[39;00m\n\u001b[1;32m    271\u001b[0m \n\u001b[1;32m    272\u001b[0m \u001b[39m    The polynomial is defined as ``f(x) = p[0] * x**deg + p[1] * x**(deg-1) + ... + p[deg]`` such that ``deg = order + 1``.\u001b[39;00m\n\u001b[0;32m   (...)\u001b[0m\n\u001b[1;32m    291\u001b[0m \n\u001b[1;32m    292\u001b[0m \u001b[39m    \"\"\"\u001b[39;00m\n\u001b[0;32m--> 293\u001b[0m     coeff \u001b[39m=\u001b[39m _polyfit(x, y, order)\n\u001b[1;32m    294\u001b[0m     \u001b[39mreturn\u001b[39;00m coeff[\u001b[39m-\u001b[39m\u001b[39m1\u001b[39m]\n",
      "File \u001b[0;32m~/Downloads/Algorithm-Research/Student-Hub/Indy-Ng/.venv/lib/python3.11/site-packages/pennylane/transforms/mitigate.py:264\u001b[0m, in \u001b[0;36m_polyfit\u001b[0;34m(x, y, order)\u001b[0m\n\u001b[1;32m    262\u001b[0m c \u001b[39m=\u001b[39m qml\u001b[39m.\u001b[39mmath\u001b[39m.\u001b[39mlinalg\u001b[39m.\u001b[39mpinv(qml\u001b[39m.\u001b[39mmath\u001b[39m.\u001b[39mtranspose(X) \u001b[39m@\u001b[39m X)\n\u001b[1;32m    263\u001b[0m c \u001b[39m=\u001b[39m c \u001b[39m@\u001b[39m qml\u001b[39m.\u001b[39mmath\u001b[39m.\u001b[39mtranspose(X)\n\u001b[0;32m--> 264\u001b[0m c \u001b[39m=\u001b[39m qml\u001b[39m.\u001b[39;49mmath\u001b[39m.\u001b[39;49mdot(c, y)\n\u001b[1;32m    265\u001b[0m c \u001b[39m=\u001b[39m qml\u001b[39m.\u001b[39mmath\u001b[39m.\u001b[39mtranspose(qml\u001b[39m.\u001b[39mmath\u001b[39m.\u001b[39mtranspose(c) \u001b[39m/\u001b[39m scale)\n\u001b[1;32m    266\u001b[0m \u001b[39mreturn\u001b[39;00m c\n",
      "File \u001b[0;32m~/Downloads/Algorithm-Research/Student-Hub/Indy-Ng/.venv/lib/python3.11/site-packages/pennylane/math/multi_dispatch.py:151\u001b[0m, in \u001b[0;36mmulti_dispatch.<locals>.decorator.<locals>.wrapper\u001b[0;34m(*args, **kwargs)\u001b[0m\n\u001b[1;32m    148\u001b[0m interface \u001b[39m=\u001b[39m interface \u001b[39mor\u001b[39;00m get_interface(\u001b[39m*\u001b[39mdispatch_args)\n\u001b[1;32m    149\u001b[0m kwargs[\u001b[39m\"\u001b[39m\u001b[39mlike\u001b[39m\u001b[39m\"\u001b[39m] \u001b[39m=\u001b[39m interface\n\u001b[0;32m--> 151\u001b[0m \u001b[39mreturn\u001b[39;00m fn(\u001b[39m*\u001b[39;49margs, \u001b[39m*\u001b[39;49m\u001b[39m*\u001b[39;49mkwargs)\n",
      "File \u001b[0;32m~/Downloads/Algorithm-Research/Student-Hub/Indy-Ng/.venv/lib/python3.11/site-packages/pennylane/math/multi_dispatch.py:358\u001b[0m, in \u001b[0;36mdot\u001b[0;34m(tensor1, tensor2, like)\u001b[0m\n\u001b[1;32m    354\u001b[0m         \u001b[39mreturn\u001b[39;00m x \u001b[39m@\u001b[39m y\n\u001b[1;32m    356\u001b[0m     \u001b[39mreturn\u001b[39;00m np\u001b[39m.\u001b[39mtensordot(x, y, axes\u001b[39m=\u001b[39m[[\u001b[39m-\u001b[39m\u001b[39m1\u001b[39m], [\u001b[39m-\u001b[39m\u001b[39m2\u001b[39m]], like\u001b[39m=\u001b[39mlike)\n\u001b[0;32m--> 358\u001b[0m \u001b[39mreturn\u001b[39;00m np\u001b[39m.\u001b[39;49mdot(x, y, like\u001b[39m=\u001b[39;49mlike)\n",
      "File \u001b[0;32m~/Downloads/Algorithm-Research/Student-Hub/Indy-Ng/.venv/lib/python3.11/site-packages/autoray/autoray.py:79\u001b[0m, in \u001b[0;36mdo\u001b[0;34m(fn, like, *args, **kwargs)\u001b[0m\n\u001b[1;32m     30\u001b[0m \u001b[39m\u001b[39m\u001b[39m\"\"\"Do function named ``fn`` on ``(*args, **kwargs)``, peforming single\u001b[39;00m\n\u001b[1;32m     31\u001b[0m \u001b[39mdispatch to retrieve ``fn`` based on whichever library defines the class of\u001b[39;00m\n\u001b[1;32m     32\u001b[0m \u001b[39mthe ``args[0]``, or the ``like`` keyword argument if specified.\u001b[39;00m\n\u001b[0;32m   (...)\u001b[0m\n\u001b[1;32m     76\u001b[0m \u001b[39m    <tf.Tensor: id=91, shape=(3, 3), dtype=float32>\u001b[39;00m\n\u001b[1;32m     77\u001b[0m \u001b[39m\"\"\"\u001b[39;00m\n\u001b[1;32m     78\u001b[0m backend \u001b[39m=\u001b[39m choose_backend(fn, \u001b[39m*\u001b[39margs, like\u001b[39m=\u001b[39mlike, \u001b[39m*\u001b[39m\u001b[39m*\u001b[39mkwargs)\n\u001b[0;32m---> 79\u001b[0m \u001b[39mreturn\u001b[39;00m get_lib_fn(backend, fn)(\u001b[39m*\u001b[39;49margs, \u001b[39m*\u001b[39;49m\u001b[39m*\u001b[39;49mkwargs)\n",
      "File \u001b[0;32m<__array_function__ internals>:180\u001b[0m, in \u001b[0;36mdot\u001b[0;34m(*args, **kwargs)\u001b[0m\n",
      "\u001b[0;31mValueError\u001b[0m: shapes (3,3) and (3,1024,3) not aligned: 3 (dim 1) != 1024 (dim 1)"
     ]
    }
   ],
   "source": [
    "from bin.inference import get_cprobs, get_qprobs\n",
    "c_probs = get_cprobs(problem)\n",
    "\n",
    "dev_x = qml.device(\"qiskit.remote\", wires=n_qubits, backend=configured_backend())\n",
    "# dev_x = qml.device(\"default.qubit\", wires=n_qubits, shots=n_shots)\n",
    "\n",
    "def prepare_and_sample(problem, weights):\n",
    "\n",
    "    # Variational circuit generating a guess for the solution vector |x>\n",
    "    problem.variational_block(weights)\n",
    "\n",
    "    # We assume that the system is measured in the computational basis.\n",
    "    # then sampling the device will give us a value of 0 or 1 for each qubit (n_qubits)\n",
    "    # this will be repeated for the total number of shots provided (n_shots)\n",
    "    return qml.sample()\n",
    "\n",
    "def get_qprobs(problem, w, device):\n",
    "    sampler = qml.QNode(prepare_and_sample, device)\n",
    "\n",
    "    sampler = mitigate_node(sampler)\n",
    "\n",
    "    raw_samples = sampler(problem, w)\n",
    "    # raw_samples = np.concatenate(raw_samples, axis=0)# FOR BATCHING\n",
    "\n",
    "    # convert the raw samples (bit strings) into integers and count them\n",
    "    samples = []\n",
    "    for sam in raw_samples:\n",
    "        samples.append(int(\"\".join(str(bs) for bs in sam), base=2))\n",
    "\n",
    "    q_probs = np.bincount(samples, minlength=2**problem.n_qubits) / len(raw_samples)\n",
    "    # q_probs = np.bincount(samples, minlength=2**problem.n_qubits) / n_shots\n",
    "\n",
    "    return q_probs\n",
    "\n",
    "\n",
    "q_probs = get_qprobs(problem, best_w, dev_x)"
   ]
  },
  {
   "cell_type": "code",
   "execution_count": null,
   "metadata": {},
   "outputs": [
    {
     "name": "stderr",
     "output_type": "stream",
     "text": [
      "/Users/bigsad/Downloads/Algorithm-Research/Student-Hub/Indy-Ng/.venv/lib/python3.11/site-packages/matplotlib/transforms.py:762: ComplexWarning: Casting complex values to real discards the imaginary part\n",
      "  points = np.asarray(points, float)\n"
     ]
    },
    {
     "data": {
      "image/png": "[encoded data removed]",
      "text/plain": [
       "<Figure size 700x400 with 2 Axes>"
      ]
     },
     "metadata": {},
     "output_type": "display_data"
    }
   ],
   "source": [
    "fig, (ax1, ax2) = plt.subplots(1, 2, figsize=(7, 4))\n",
    "\n",
    "ax1.bar(np.arange(0, 2 ** n_qubits), c_probs, color=\"blue\")\n",
    "ax1.set_xlim(-0.5, 2 ** n_qubits - 0.5)\n",
    "ax1.set_xlabel(\"Vector space basis\")\n",
    "ax1.set_title(\"Classical probabilities\")\n",
    "\n",
    "ax2.bar(np.arange(0, 2 ** n_qubits), q_probs, color=\"green\")\n",
    "ax2.set_xlim(-0.5, 2 ** n_qubits - 0.5)\n",
    "ax2.set_xlabel(\"Hilbert space basis\")\n",
    "ax2.set_title(\"Quantum probabilities\")\n",
    "\n",
    "plt.show()"
   ]
  },
  {
   "cell_type": "code",
   "execution_count": null,
   "metadata": {},
   "outputs": [],
   "source": []
  }
 ],
 "metadata": {
  "kernelspec": {
   "display_name": ".venv",
   "language": "python",
   "name": "python3"
  },
  "language_info": {
   "codemirror_mode": {
    "name": "ipython",
    "version": 3
   },
   "file_extension": ".py",
   "mimetype": "text/x-python",
   "name": "python",
   "nbconvert_exporter": "python",
   "pygments_lexer": "ipython3",
   "version": "3.11.6+"
  },
  "orig_nbformat": 4
 },
 "nbformat": 4,
 "nbformat_minor": 2
}
