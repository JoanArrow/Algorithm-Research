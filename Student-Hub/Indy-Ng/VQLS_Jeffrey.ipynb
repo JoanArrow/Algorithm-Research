{
 "cells": [
  {
   "cell_type": "code",
   "execution_count": 1,
   "metadata": {},
   "outputs": [],
   "source": [
    "import pennylane as qml\n",
    "from pennylane import numpy as np\n",
    "\n",
    "import matplotlib.pyplot as plt\n",
    "# from problems.ising_problem2 import IsingProblem2\n",
    "from problems.ising_problem import IsingProblem\n",
    "from problems.ising_problem3 import IsingProblem3\n",
    "from problems.toy_problem import ToyProblem\n",
    "from problems.baby_problem import BabyProblem1\n",
    "from problems.baby_problem2 import UFProblem\n",
    "from problems.benchmark_problem import BenchmarkProblem\n",
    "from qiskit.providers.fake_provider import *\n",
    "from bin.cost_function import cost_loc, calc_err, cost_global, local_hadamard_test, hadamard_overlap_test\n",
    "from bin.hyperparameters import *\n",
    "from bin.error_mitigation import mitigate_node\n",
    "\n",
    "import time"
   ]
  },
  {
   "cell_type": "code",
   "execution_count": 2,
   "metadata": {},
   "outputs": [],
   "source": [
    "# # Import the library that you need in order to use your IBM account\n",
    "# from qiskit_ibm_provider import IBMProvider\n",
    "# from secrets import *\n",
    "\n",
    "\n",
    "# try:\n",
    "#     IBMProvider()\n",
    "# except:\n",
    "#     IBMProvider.save_account(token=IBM_token, overwrite=True)"
   ]
  },
  {
   "cell_type": "code",
   "execution_count": 3,
   "metadata": {},
   "outputs": [],
   "source": [
    "# provider = IBMProvider()\n",
    "# provider.backends()"
   ]
  },
  {
   "cell_type": "code",
   "execution_count": 4,
   "metadata": {},
   "outputs": [],
   "source": [
    "def configured_backend():\n",
    "    # backend = provider.get_backend(\"ibm_osaka\") # uncomment this line to use a real IBM device\n",
    "    backend = FakeManila()\n",
    "    # backend.options.update_options(...)\n",
    "    return backend"
   ]
  },
  {
   "cell_type": "code",
   "execution_count": 5,
   "metadata": {},
   "outputs": [],
   "source": [
    "# # define the problem we want to perform our experiment on\n",
    "# n_qubits = 5\n",
    "# error = 0.01\n",
    "# cond_num = 50\n",
    "\n",
    "# problem = ToyProblem(\n",
    "#     n_qubits=n_qubits,\n",
    "# )"
   ]
  },
  {
   "cell_type": "code",
   "execution_count": 6,
   "metadata": {},
   "outputs": [
    {
     "name": "stdout",
     "output_type": "stream",
     "text": [
      "['XI', 'IX', 'ZZ', 'II']\n"
     ]
    }
   ],
   "source": [
    "n_qubits = 2\n",
    "cond_num = 10\n",
    "error = 1.6 * 10**-3\n",
    "\n",
    "# problem = BenchmarkProblem(n_qubits)\n",
    "# problem = ToyProblem(n_qubits)\n",
    "problem = IsingProblem(n_qubits,J=0.1, cond_num=cond_num)"
   ]
  },
  {
   "cell_type": "code",
   "execution_count": 7,
   "metadata": {},
   "outputs": [],
   "source": [
    "# initialize weights\n",
    "w = q_delta * np.random.randn(problem.param_shape,requires_grad=True)\n",
    "w1 = list(w.numpy())\n",
    "# w = q_delta * np.random.randn(2, requires_grad=True)\n",
    "init_weights = list(w.numpy())\n",
    "# w = q_delta * np.random.randn(batch_size, problem.param_shape, requires_grad=True)"
   ]
  },
  {
   "cell_type": "code",
   "execution_count": 8,
   "metadata": {},
   "outputs": [],
   "source": [
    "# create our devices to run our circuits on\n",
    "dev_mu = qml.device(\"default.qubit\", wires=n_qubits+3)\n",
    "dev_gamma = qml.device(\"default.qubit\", wires=n_qubits*2 + 1)\n",
    "# dev_mu = qml.device(\"qiskit.remote\", wires=n_qubits+1, backend=configured_backend()) # device for real IBM devices noisy simulators"
   ]
  },
  {
   "cell_type": "code",
   "execution_count": 9,
   "metadata": {},
   "outputs": [],
   "source": [
    "# in order to make the error mitigation work, we have to pull out the QNode definition outside of the cost function so I'm doing it here\n",
    "local_hadamard_test = qml.QNode(local_hadamard_test, dev_mu, interface=\"autograd\")\n",
    "# local_hadamard_test = mitigate_node(local_hadamard_test)"
   ]
  },
  {
   "cell_type": "code",
   "execution_count": 10,
   "metadata": {},
   "outputs": [],
   "source": [
    "# overlap test is used for the global cost function\n",
    "hadamard_overlap_test = qml.QNode(hadamard_overlap_test, dev_gamma, interface=\"autograd\")\n",
    "# hadamard_overlap_test = mitigate_node(hadamard_overlap_test)"
   ]
  },
  {
   "cell_type": "code",
   "execution_count": 11,
   "metadata": {},
   "outputs": [],
   "source": [
    "# w1s_nonML = []\n",
    "# w2s_nonML = []\n",
    "cost_history2 = []\n",
    "\n",
    "def cost_fun(w):\n",
    "    cost = cost_loc(problem, w, local_hadamard_test)\n",
    "    cost_history2.append(cost)\n",
    "    # w1s_nonML.append(w[0])\n",
    "    # w2s_nonML.append(w[1])\n",
    "\n",
    "    return cost"
   ]
  },
  {
   "cell_type": "code",
   "execution_count": 12,
   "metadata": {},
   "outputs": [],
   "source": [
    "# # use non-ML optimization methods\n",
    "from scipy.optimize import minimize\n",
    "if OPTIMIZER == \"COBYLA\":\n",
    "    start = time.time()\n",
    "    res = minimize(cost_fun,\n",
    "                    w1,\n",
    "                    method='COBYLA',\n",
    "                    tol=error\n",
    "                    )\n",
    "    TTS = time.time() - start\n",
    "\n",
    "    w1 = res.x\n",
    "    calc_err(n_qubits, cost_history2[-1], cond_num)\n",
    "\n"
   ]
  },
  {
   "cell_type": "code",
   "execution_count": 13,
   "metadata": {},
   "outputs": [
    {
     "name": "stdout",
     "output_type": "stream",
     "text": [
      "0: ──RY(2.19)─╭●──────────RY(-5.04)─╭●──RY(-4.90)─╭Z──H──H────╭Z───────┤     \n",
      "1: ──RY(1.31)─╰Z──────────RY(-2.83)─╰Z──RY(-1.17)─│──╭Z──H──H─│──╭Z────┤     \n",
      "2: ──H─────────Rϕ(-1.57)──────────────────────────╰●─╰●───────╰●─╰●──H─┤  <Z>\n"
     ]
    }
   ],
   "source": [
    "print(qml.draw(local_hadamard_test, expansion_strategy=\"device\")(w, problem, l=0, lp=0, j=-1, part=\"Im\"))"
   ]
  },
  {
   "cell_type": "code",
   "execution_count": 14,
   "metadata": {},
   "outputs": [],
   "source": [
    "from IPython.display import clear_output\n",
    "\n",
    "# opt = qml.GradientDescentOptimizer(eta)\n",
    "opt = qml.GradientDescentOptimizer(0.3)\n",
    "# opt = qml.AdagradOptimizer(eta)\n",
    "# opt = qml.AdamOptimizer(eta) # TODO: tune decay terms\n",
    "\n",
    "cost_history = []\n",
    "\n",
    "err = float(\"inf\")\n",
    "it = 1"
   ]
  },
  {
   "cell_type": "code",
   "execution_count": 15,
   "metadata": {},
   "outputs": [
    {
     "data": {
      "text/plain": [
       "tensor(0.49425854, requires_grad=True)"
      ]
     },
     "execution_count": 15,
     "metadata": {},
     "output_type": "execute_result"
    }
   ],
   "source": [
    "cost_loc(problem, w, local_hadamard_test)"
   ]
  },
  {
   "cell_type": "code",
   "execution_count": 16,
   "metadata": {},
   "outputs": [],
   "source": [
    "if OPTIMIZER == f\"SGD_lr={eta}\":\n",
    "    # training loop\n",
    "\n",
    "    best_err = 1000\n",
    "    best_w = w\n",
    "    # prev_w = w\n",
    "\n",
    "    w1s = []\n",
    "    w2s = []\n",
    "\n",
    "    start = time.time()\n",
    "    while err > error and it < 1000:\n",
    "    # for it in range(300):\n",
    "        w, cost = opt.step_and_cost(lambda w: cost_loc(problem, w, local_hadamard_test), w)\n",
    "        # w, cost = opt.step_and_cost(lambda w: cost_global(problem, w, local_hadamard_test, hadamard_overlap_test), w)\n",
    "\n",
    "        w1s.append(w[0])\n",
    "        w2s.append(w[1])\n",
    "\n",
    "        err = calc_err(n_qubits, cost, cond_num)\n",
    "        if err < best_err:\n",
    "            best_err = err\n",
    "            best_w = w\n",
    "        \n",
    "        clear_output(wait=True)\n",
    "\n",
    "        # print(np.array_equal(best_w, w))\n",
    "\n",
    "        print(\"Step {:3d}       Cost_L = {:9.7f} \\t error = {:9.7f}\".format(it, cost, err), flush=True)\n",
    "        cost_history.append(cost)\n",
    "\n",
    "        prev_w = w\n",
    "\n",
    "        it += 1\n",
    "\n",
    "    TTS = time.time() - start\n",
    "    STS = it\n",
    "\n",
    "    print(f\"Training time: {TTS}s\")"
   ]
  },
  {
   "cell_type": "code",
   "execution_count": 17,
   "metadata": {},
   "outputs": [],
   "source": [
    "# best_err"
   ]
  },
  {
   "cell_type": "markdown",
   "metadata": {},
   "source": [
    "### Optimization studies:\n",
    "- each epoch is taking ~ 20s\n",
    "- Each $\\mu$ calculation takes ~0.05s but occasionally spikes to ~0.3s\n",
    "- Each $\\mu_{sum}$ has to loop over each combination of A_l for each qubit -> $c^2n$ operations -> ~15s\n",
    "- Each $|\\psi|$ also has to loop over each combination, but we're unable to recycle computation because these don't apply $CZ$ like the above -> ~4s\n",
    "- The ising problem has 8 C's\n",
    "    - Note that `len(c) = n_qubits * 2` by definition of H_ising\n",
    "- 8 * 8 * 4 * 2 = ~512 mu accumulations\n",
    "\n",
    "--> $8n^3 + 4n^2$ iterations\n",
    "\n",
    "It should be possible to multithread the calculation, but not sure if that's feasible when testing on an actual QC\n",
    "\n",
    "\n",
    "* n_qubits = 5: 1100 mu accumulations\n",
    "* n_qubits = 6: 1872 mu accumulations\n",
    "* n_qubits = 7: 2940 mu accumulations"
   ]
  },
  {
   "cell_type": "code",
   "execution_count": 18,
   "metadata": {},
   "outputs": [
    {
     "name": "stderr",
     "output_type": "stream",
     "text": [
      "/var/folders/46/x_y_zr5s2rj1v37fwfjmjh9r0000gn/T/ipykernel_53749/1603760836.py:1: MatplotlibDeprecationWarning: The seaborn styles shipped by Matplotlib are deprecated since 3.6, as they no longer correspond to the styles shipped by seaborn. However, they will remain available as 'seaborn-v0_8-<style>'. Alternatively, directly use the seaborn API instead.\n",
      "  plt.style.use(\"seaborn\")\n"
     ]
    },
    {
     "data": {
      "image/png": "[encoded data removed]",
      "text/plain": [
       "<Figure size 800x550 with 1 Axes>"
      ]
     },
     "metadata": {},
     "output_type": "display_data"
    }
   ],
   "source": [
    "plt.style.use(\"seaborn\")\n",
    "# plt.plot(np.log(cost_history), \"g\")\n",
    "plt.plot(np.log(cost_history2), \"r\")\n",
    "plt.ylabel(\"Cost function\")\n",
    "plt.xlabel(\"Optimization steps\")\n",
    "plt.show()"
   ]
  },
  {
   "cell_type": "code",
   "execution_count": 19,
   "metadata": {},
   "outputs": [],
   "source": [
    "# xs = np.linspace(-np.pi, np.pi, 50)\n",
    "# ys = np.linspace(-np.pi, np.pi, 50)\n",
    "\n",
    "# costs = []\n",
    "\n",
    "# for x in xs:\n",
    "#     row = []\n",
    "#     for y in ys:\n",
    "#         row.append(cost_loc(problem, [x,y], local_hadamard_test))\n",
    "#     costs.append(row)\n",
    "\n",
    "# costs = np.array(costs)"
   ]
  },
  {
   "cell_type": "code",
   "execution_count": 20,
   "metadata": {},
   "outputs": [],
   "source": [
    "# w1s_norm = ((np.array(w1s) % (np.pi) + np.pi) / (2 * np.pi)) * 50\n",
    "# w2s_norm = ((np.array(w2s) % (np.pi) + np.pi) / (2 * np.pi)) * 50"
   ]
  },
  {
   "cell_type": "code",
   "execution_count": 21,
   "metadata": {},
   "outputs": [],
   "source": [
    "# w1s_nonML_norm = (((np.array(w1s_nonML) + np.pi) % (2 * np.pi)) / (2 * np.pi)) * 50\n",
    "# w2s_nonML_norm = (((np.array(w2s_nonML) + np.pi) % (2 * np.pi)) / (2 * np.pi)) * 50\n",
    "# w1s_nonML_norm"
   ]
  },
  {
   "cell_type": "code",
   "execution_count": 22,
   "metadata": {},
   "outputs": [],
   "source": [
    "# plt.plot(w1s_norm, w2s_norm, color='red')"
   ]
  },
  {
   "cell_type": "code",
   "execution_count": 23,
   "metadata": {},
   "outputs": [],
   "source": [
    "# plt.plot(w1s_nonML_norm, w2s_nonML_norm, color='red')"
   ]
  },
  {
   "cell_type": "code",
   "execution_count": 24,
   "metadata": {},
   "outputs": [],
   "source": [
    "# import seaborn as sns\n",
    "\n",
    "# num_boxes = 50\n",
    "# # rescale weights\n",
    "# # w1s_norm = ((np.array(w1s) % (np.pi) + np.pi) / (2 * np.pi)) * 50\n",
    "# # w2s_norm = ((np.array(w2s) % (np.pi) + np.pi) / (2 * np.pi)) * 50\n",
    "\n",
    "# num_ticks = 10\n",
    "# # the index of the position of yticks\n",
    "# yticks = np.linspace(0,num_boxes,num_ticks)\n",
    "# # the content of labels of these yticks\n",
    "# yticklabels = np.round(np.linspace(-np.pi, np.pi, num_ticks),2)\n",
    "# # the index of the position of xticks\n",
    "# xticks = np.linspace(0,num_boxes,num_ticks)\n",
    "# # the content of labels of these xticks\n",
    "# xticklabels = np.round(np.linspace(-np.pi, np.pi, num_ticks),2)\n",
    "\n",
    "# sns.heatmap(costs, yticklabels=yticklabels)\n",
    "# plt.yticks(yticks, yticklabels)\n",
    "# plt.xticks(xticks, xticklabels)\n",
    "\n",
    "# # Plot scatterplot on top\n",
    "# # plt.plot(w2s_norm, w1s_norm, color='blue')\n",
    "# plt.plot(w2s_nonML_norm, w1s_nonML_norm, color='green')\n",
    "# plt.show()"
   ]
  },
  {
   "cell_type": "code",
   "execution_count": 25,
   "metadata": {},
   "outputs": [],
   "source": [
    "# init_weights"
   ]
  },
  {
   "cell_type": "markdown",
   "metadata": {},
   "source": [
    "Qualitatively, it's converging slower than the toy problem, suggesting more iterations are needed"
   ]
  },
  {
   "cell_type": "code",
   "execution_count": 26,
   "metadata": {},
   "outputs": [],
   "source": [
    "from bin.inference import get_cprobs, get_qprobs\n",
    "c_probs = get_cprobs(problem)\n",
    "\n",
    "# dev_x = qml.device(\"qiskit.remote\", wires=n_qubits, backend=configured_backend())\n",
    "dev_x = qml.device(\"default.qubit\", wires=n_qubits, shots=n_shots)\n",
    "\n",
    "def prepare_and_sample(problem, weights):\n",
    "\n",
    "    # Variational circuit generating a guess for the solution vector |x>\n",
    "    problem.variational_block(weights)\n",
    "\n",
    "    # We assume that the system is measured in the computational basis.\n",
    "    # then sampling the device will give us a value of 0 or 1 for each qubit (n_qubits)\n",
    "    # this will be repeated for the total number of shots provided (n_shots)\n",
    "    return qml.sample()\n",
    "\n",
    "def get_qprobs(problem, w, device):\n",
    "    sampler = qml.QNode(prepare_and_sample, device)\n",
    "\n",
    "    # sampler = mitigate_node(sampler)\n",
    "\n",
    "    raw_samples = sampler(problem, w)\n",
    "    # raw_samples = np.concatenate(raw_samples, axis=0)# FOR BATCHING\n",
    "\n",
    "    print(raw_samples[:min(len(raw_samples), 10)])\n",
    "\n",
    "    # convert the raw samples (bit strings) into integers and count them\n",
    "    samples = []\n",
    "    for sam in raw_samples:\n",
    "        samples.append(int(\"\".join(str(bs) for bs in sam), base=2))\n",
    "\n",
    "    # q_probs = np.bincount(raw_samples, minlength=2**problem.n_qubits) / len(raw_samples)\n",
    "    q_probs = np.bincount(samples, minlength=2**problem.n_qubits) / len(raw_samples)\n",
    "    # q_probs = np.bincount(samples, minlength=2**problem.n_qubits) / n_shots\n",
    "\n",
    "    return q_probs"
   ]
  },
  {
   "cell_type": "code",
   "execution_count": 27,
   "metadata": {},
   "outputs": [
    {
     "name": "stdout",
     "output_type": "stream",
     "text": [
      "[[0 1]\n",
      " [1 0]\n",
      " [0 1]\n",
      " [0 1]\n",
      " [0 0]\n",
      " [0 0]\n",
      " [1 1]\n",
      " [1 1]\n",
      " [1 0]\n",
      " [0 1]]\n"
     ]
    }
   ],
   "source": [
    "if OPTIMIZER != \"COBYLA\":\n",
    "    q_probs = get_qprobs(problem, w, dev_x)\n",
    "else:\n",
    "    q_probs = get_qprobs(problem, w1, dev_x)"
   ]
  },
  {
   "cell_type": "code",
   "execution_count": 28,
   "metadata": {},
   "outputs": [
    {
     "name": "stderr",
     "output_type": "stream",
     "text": [
      "/Users/bigsad/Downloads/Algorithm-Research/Student-Hub/Indy-Ng/.venv/lib/python3.11/site-packages/matplotlib/transforms.py:762: ComplexWarning: Casting complex values to real discards the imaginary part\n",
      "  points = np.asarray(points, float)\n"
     ]
    },
    {
     "data": {
      "image/png": "[encoded data removed]",
      "text/plain": [
       "<Figure size 700x400 with 2 Axes>"
      ]
     },
     "metadata": {},
     "output_type": "display_data"
    }
   ],
   "source": [
    "fig, (ax1, ax2) = plt.subplots(1, 2, figsize=(7, 4))\n",
    "\n",
    "ax1.bar(np.arange(0, 2 ** n_qubits), c_probs, color=\"blue\")\n",
    "ax1.set_xlim(-0.5, 2 ** n_qubits - 0.5)\n",
    "ax1.set_xlabel(\"Vector space basis\")\n",
    "ax1.set_title(\"Classical probabilities\")\n",
    "\n",
    "ax2.bar(np.arange(0, 2 ** n_qubits), q_probs, color=\"green\")\n",
    "ax2.set_xlim(-0.5, 2 ** n_qubits - 0.5)\n",
    "ax2.set_xlabel(\"Hilbert space basis\")\n",
    "ax2.set_title(\"Quantum probabilities\")\n",
    "\n",
    "plt.show()"
   ]
  },
  {
   "cell_type": "code",
   "execution_count": 29,
   "metadata": {},
   "outputs": [],
   "source": [
    "result = {\n",
    "    \"problem\": str(problem),\n",
    "    \"n_qubits\": n_qubits,\n",
    "    \"ansatz\": f\"{problem.n_layers}-layer HEA\",\n",
    "    \"cost\": \"local\",\n",
    "    \"optimizer\": OPTIMIZER,\n",
    "    \"cond_num\": cond_num,\n",
    "    \"error_threshold\": error,\n",
    "    \"noise_model\": NOISE_MODEL,\n",
    "    \"TTS\": TTS,\n",
    "    \"STS\": len(cost_history2) if OPTIMIZER == \"COBYLA\" else len(cost_history),\n",
    "    \"cost_history\": list(cost_history) if OPTIMIZER != \"COBYLA\" else [tensor.item() for tensor in cost_history2],\n",
    "    \"model_weights\": list(w1) if OPTIMIZER == \"COBYLA\" else list(w.numpy()),\n",
    "    \"init_weights\": init_weights\n",
    "}"
   ]
  },
  {
   "cell_type": "code",
   "execution_count": 30,
   "metadata": {},
   "outputs": [
    {
     "data": {
      "text/plain": [
       "{'problem': '<problems.ising_problem.IsingProblem object at 0x130e51cd0>',\n",
       " 'n_qubits': 2,\n",
       " 'ansatz': '2-layer HEA',\n",
       " 'cost': 'local',\n",
       " 'optimizer': 'COBYLA',\n",
       " 'cond_num': 10,\n",
       " 'error_threshold': 0.0016,\n",
       " 'noise_model': None,\n",
       " 'TTS': 170.05070209503174,\n",
       " 'STS': 237,\n",
       " 'cost_history': [0.4942585375940237,\n",
       "  0.45234357288743665,\n",
       "  0.27207208653226134,\n",
       "  0.41002269342766046,\n",
       "  0.46675056849879987,\n",
       "  0.38349504278560315,\n",
       "  0.3045060652561745,\n",
       "  0.27207208653226134,\n",
       "  0.27207208653226134,\n",
       "  0.27207208653226134,\n",
       "  0.27207208653226134,\n",
       "  0.27207208653226134,\n",
       "  0.27207208653226134,\n",
       "  0.27207208653226134,\n",
       "  0.27207208653226134,\n",
       "  0.27207208653226134,\n",
       "  0.27207208653226134,\n",
       "  0.27207208653226134,\n",
       "  0.27207208653226134,\n",
       "  0.27207208653226134,\n",
       "  0.27207208653226134,\n",
       "  0.016532399419869448,\n",
       "  0.2718865000247237,\n",
       "  0.006887111939732793,\n",
       "  0.23342232366528393,\n",
       "  0.042738576393331174,\n",
       "  0.1692349765266819,\n",
       "  0.032100618218038834,\n",
       "  0.009846575276817593,\n",
       "  0.027203453964458335,\n",
       "  0.010066979299500844,\n",
       "  0.02865683046591666,\n",
       "  0.006887111939732793,\n",
       "  0.008014242254417436,\n",
       "  0.006887111939732793,\n",
       "  0.00830166647826619,\n",
       "  0.006887111939732793,\n",
       "  0.008770841492096282,\n",
       "  0.006887111939732793,\n",
       "  0.009654329603107081,\n",
       "  0.006887111939732793,\n",
       "  0.011811281409305985,\n",
       "  0.006887111939732793,\n",
       "  0.022029556775477688,\n",
       "  0.07813579853780234,\n",
       "  0.00887144665355688,\n",
       "  0.01081089748985209,\n",
       "  0.006512011388074224,\n",
       "  0.005377864719845693,\n",
       "  0.0053400106621120935,\n",
       "  0.006261529130359156,\n",
       "  0.006835633888772952,\n",
       "  0.008434671627824408,\n",
       "  0.0052906364452163235,\n",
       "  0.0066402062953817564,\n",
       "  0.005693599219216083,\n",
       "  0.007346787939419952,\n",
       "  0.005286428852391278,\n",
       "  0.00541282786600944,\n",
       "  0.007300746554303739,\n",
       "  0.004144202706471145,\n",
       "  0.004144202706471145,\n",
       "  0.005171800127329762,\n",
       "  0.004144202706471145,\n",
       "  0.007110732255176555,\n",
       "  0.004144202706471145,\n",
       "  0.0027979720569941136,\n",
       "  0.0027979720569941136,\n",
       "  0.0029572062440587077,\n",
       "  0.002850116063859709,\n",
       "  0.004369845700586461,\n",
       "  0.0030732208845943854,\n",
       "  0.0027094845024597247,\n",
       "  0.0026165493838339327,\n",
       "  0.0020099654461723793,\n",
       "  0.0020135176095986695,\n",
       "  0.004141350610527339,\n",
       "  0.0023464067582744663,\n",
       "  0.004667601013155498,\n",
       "  0.0023211816394417273,\n",
       "  0.002888521222075724,\n",
       "  0.0019054679063053581,\n",
       "  0.0020524300324657463,\n",
       "  0.001906500425240043,\n",
       "  0.003767516015481198,\n",
       "  0.002167582912658339,\n",
       "  0.001475918137724519,\n",
       "  0.001590839830633739,\n",
       "  0.0016262538709911345,\n",
       "  0.001475918137724519,\n",
       "  0.002985428086437092,\n",
       "  0.0015059689449345437,\n",
       "  0.002479958663347992,\n",
       "  0.0018596032721858724,\n",
       "  0.003498727984898753,\n",
       "  0.002125794323906971,\n",
       "  0.001383678959508139,\n",
       "  0.0009885854751945367,\n",
       "  0.0009885854751945367,\n",
       "  0.001939503725448266,\n",
       "  0.00126452002284555,\n",
       "  0.0009482033617925212,\n",
       "  0.0015102394557467425,\n",
       "  0.0006187817765584969,\n",
       "  0.0005776699385997563,\n",
       "  0.000540026702423313,\n",
       "  0.000561151226443124,\n",
       "  0.0005279975408382653,\n",
       "  0.0005472198675542383,\n",
       "  0.0008880737019578144,\n",
       "  0.00047392462011064396,\n",
       "  0.0005104020731614423,\n",
       "  0.00039049882448177753,\n",
       "  0.0005348362106143978,\n",
       "  0.00033106689685685753,\n",
       "  0.0001017547237743277,\n",
       "  0.00010668748059922128,\n",
       "  0.00016178844729169972,\n",
       "  0.0001017547237743277,\n",
       "  0.00011439188786571686,\n",
       "  0.000310274606255434,\n",
       "  0.0005639863362824626,\n",
       "  0.0001017547237743277,\n",
       "  0.0004266738785029811,\n",
       "  0.00015251654767683975,\n",
       "  0.00010021974211354978,\n",
       "  0.00011316540066358405,\n",
       "  0.00017513241067740326,\n",
       "  0.00010258550808783795,\n",
       "  0.0001334235896097158,\n",
       "  5.8827387525162145e-05,\n",
       "  9.150108212813146e-05,\n",
       "  6.931925104269876e-05,\n",
       "  3.3476328086368135e-05,\n",
       "  3.4878997361154074e-05,\n",
       "  5.9091195400373664e-05,\n",
       "  5.338669500565274e-05,\n",
       "  6.315700084180698e-05,\n",
       "  6.228605442548663e-05,\n",
       "  8.578661170882684e-05,\n",
       "  2.8183851340624066e-05,\n",
       "  3.436940925555243e-05,\n",
       "  3.85530945380963e-05,\n",
       "  0.00023580770041548016,\n",
       "  3.0308116576283073e-05,\n",
       "  2.810369959593828e-05,\n",
       "  2.750249072752675e-05,\n",
       "  2.750249072752675e-05,\n",
       "  3.4799366700644097e-05,\n",
       "  2.750249072752675e-05,\n",
       "  2.8161423352046633e-05,\n",
       "  2.659306135027739e-05,\n",
       "  5.635556397037833e-05,\n",
       "  3.632997771513269e-05,\n",
       "  4.873722571946404e-05,\n",
       "  4.0437732521825254e-05,\n",
       "  1.9960648726613517e-05,\n",
       "  2.5839596711596524e-05,\n",
       "  1.767449372919172e-05,\n",
       "  1.7620881856139636e-05,\n",
       "  3.42624021260618e-05,\n",
       "  2.4530298119829208e-05,\n",
       "  3.5960855361949484e-05,\n",
       "  1.8929371385312255e-05,\n",
       "  3.313228374046684e-05,\n",
       "  4.375854444194083e-05,\n",
       "  4.401284501631686e-06,\n",
       "  6.812967440306128e-05,\n",
       "  5.973650836932354e-06,\n",
       "  8.225757281599133e-06,\n",
       "  4.858357497028454e-06,\n",
       "  4.201983488127947e-05,\n",
       "  4.805821015252398e-06,\n",
       "  3.97272113605851e-05,\n",
       "  3.2500278064340193e-06,\n",
       "  1.959956442626476e-05,\n",
       "  6.815852633790254e-06,\n",
       "  1.2461258094398353e-05,\n",
       "  8.57699145540014e-07,\n",
       "  8.57699145540014e-07,\n",
       "  5.849234341659404e-06,\n",
       "  8.57699145540014e-07,\n",
       "  7.415180132142041e-07,\n",
       "  4.964640754057115e-07,\n",
       "  7.261732337282556e-06,\n",
       "  1.368909503085547e-06,\n",
       "  1.5869546611813057e-06,\n",
       "  5.084338313698922e-07,\n",
       "  6.462165208831472e-06,\n",
       "  4.52003696843617e-06,\n",
       "  2.0294871852510887e-06,\n",
       "  2.514227567806948e-07,\n",
       "  9.49720611925775e-06,\n",
       "  5.07964494911306e-07,\n",
       "  4.143705825521149e-06,\n",
       "  1.0187657129567818e-06,\n",
       "  2.9189328216716603e-06,\n",
       "  1.364562557282234e-06,\n",
       "  4.162177508093556e-06,\n",
       "  3.237664245592242e-07,\n",
       "  6.17834221505742e-07,\n",
       "  4.956237068531877e-07,\n",
       "  1.2122200881425904e-06,\n",
       "  2.1676533379366703e-06,\n",
       "  2.514227567806948e-07,\n",
       "  3.011848083711577e-07,\n",
       "  2.514227567806948e-07,\n",
       "  2.15980271101035e-06,\n",
       "  5.358137502020632e-07,\n",
       "  1.8344714419749053e-07,\n",
       "  8.771072715352268e-07,\n",
       "  1.824932457927808e-07,\n",
       "  2.3869563237077784e-07,\n",
       "  1.8297752324425431e-07,\n",
       "  2.2383078696064374e-07,\n",
       "  3.906112883700352e-07,\n",
       "  1.0751064387082288e-06,\n",
       "  1.6703596744660487e-07,\n",
       "  5.040787109944489e-08,\n",
       "  8.18939142610553e-08,\n",
       "  5.636441506307044e-07,\n",
       "  3.5602467585160724e-08,\n",
       "  1.2057241510765593e-07,\n",
       "  5.400434688329625e-08,\n",
       "  1.549075682727441e-07,\n",
       "  4.0350714547443545e-08,\n",
       "  2.8064034818253702e-08,\n",
       "  6.363023896671649e-08,\n",
       "  7.727123951806192e-07,\n",
       "  2.8064034818253702e-08,\n",
       "  1.4320755775676375e-07,\n",
       "  2.8064034818253702e-08,\n",
       "  1.8079466079790052e-07,\n",
       "  2.1587291842983802e-08,\n",
       "  4.0631435066496024e-07,\n",
       "  3.2150485329562883e-08,\n",
       "  3.560843075955944e-08],\n",
       " 'model_weights': [3.1914187027097602,\n",
       "  3.0834410683804663,\n",
       "  -5.618339077474453,\n",
       "  -3.203530006894958,\n",
       "  -5.327115624732,\n",
       "  -1.5753016023264503,\n",
       "  3.555242120590924,\n",
       "  -0.8430679100470051,\n",
       "  5.777008139575086,\n",
       "  4.2712615226603,\n",
       "  -1.5012216695280662,\n",
       "  0.9705234879457856,\n",
       "  -0.9735955555554695,\n",
       "  0.043223874932665954,\n",
       "  5.132140178571796,\n",
       "  2.8311171129216044,\n",
       "  -2.7678027028847767,\n",
       "  -1.457265366036513,\n",
       "  1.7958062329392641,\n",
       "  2.9221846530718003],\n",
       " 'init_weights': [2.1913109965851234,\n",
       "  1.3061958668008207,\n",
       "  -5.0352623208520315,\n",
       "  -2.832175824237999,\n",
       "  -4.900859384515165,\n",
       "  -1.171040652542381,\n",
       "  3.7027699736518045,\n",
       "  -0.8313396519086178,\n",
       "  5.882166645699699,\n",
       "  4.345603531203222,\n",
       "  -1.462510843790299,\n",
       "  1.0117398033674023,\n",
       "  -0.962134342260062,\n",
       "  0.05391532683089738,\n",
       "  5.250485830334096,\n",
       "  2.919495757705313,\n",
       "  -2.7105801478502167,\n",
       "  -1.502711532337412,\n",
       "  1.7493694187898248,\n",
       "  2.7665450016334905]}"
      ]
     },
     "execution_count": 30,
     "metadata": {},
     "output_type": "execute_result"
    }
   ],
   "source": [
    "result"
   ]
  },
  {
   "cell_type": "code",
   "execution_count": 31,
   "metadata": {},
   "outputs": [],
   "source": [
    "# # serialize to JSON?\n",
    "# import json\n",
    "\n",
    "# with open('data/Ising.json', 'a') as fp:\n",
    "#     fp.write(\",\")\n",
    "#     json.dump(result, fp)"
   ]
  },
  {
   "cell_type": "code",
   "execution_count": null,
   "metadata": {},
   "outputs": [],
   "source": []
  }
 ],
 "metadata": {
  "kernelspec": {
   "display_name": ".venv",
   "language": "python",
   "name": "python3"
  },
  "language_info": {
   "codemirror_mode": {
    "name": "ipython",
    "version": 3
   },
   "file_extension": ".py",
   "mimetype": "text/x-python",
   "name": "python",
   "nbconvert_exporter": "python",
   "pygments_lexer": "ipython3",
   "version": "3.11.6+"
  },
  "orig_nbformat": 4
 },
 "nbformat": 4,
 "nbformat_minor": 2
}
