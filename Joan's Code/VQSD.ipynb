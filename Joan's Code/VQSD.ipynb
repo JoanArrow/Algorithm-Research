{
 "cells": [
  {
   "cell_type": "code",
   "execution_count": 101,
   "id": "37885a82",
   "metadata": {},
   "outputs": [],
   "source": [
    "#Benchmarking Variational Quantum State Diagonalization Algorithm"
   ]
  },
  {
   "cell_type": "code",
   "execution_count": 1,
   "id": "b92c9f16",
   "metadata": {},
   "outputs": [],
   "source": [
    "import pennylane as qml \n",
    "from pennylane import numpy as np\n",
    "import matplotlib.pyplot as plt"
   ]
  },
  {
   "cell_type": "code",
   "execution_count": 2,
   "id": "a4200023",
   "metadata": {},
   "outputs": [
    {
     "name": "stdout",
     "output_type": "stream",
     "text": [
      "0: ──H─┤  \n",
      "1: ──H─┤  \n",
      "2: ──H─┤  \n",
      "3: ──H─┤  \n"
     ]
    }
   ],
   "source": [
    "# = 2\n",
    "#n = 2*m\n",
    "def test_prep(param):\n",
    "    for i in range(2*len(param)):\n",
    "        qml.Hadamard(i)\n",
    "#    return [qml.expval(qml.PauliZ(i)) for i in range(2*m)]\n",
    "drawer = qml.draw(test_prep)\n",
    "print(drawer([0,1]))\n",
    "#test_prep(m)"
   ]
  },
  {
   "cell_type": "code",
   "execution_count": 3,
   "id": "7d6dfec7",
   "metadata": {},
   "outputs": [
    {
     "name": "stdout",
     "output_type": "stream",
     "text": [
      "0: ──RZ(0.00)──RX(1.57)─┤  \n",
      "2: ──RZ(0.00)──RX(1.57)─┤  \n",
      "1: ──RZ(1.00)──RX(1.57)─┤  \n",
      "3: ──RZ(1.00)──RX(1.57)─┤  \n"
     ]
    }
   ],
   "source": [
    "#TODO\n",
    "#Make angles equal in the ith subsystem of registers 1 and 2\n",
    "#param needs to be specifiable with m angles\n",
    "#param = [0, 1, 2, 3]\n",
    "\n",
    "def ansatz(param):\n",
    "    for i in range(len(param)):\n",
    "        qml.RZ(param[i], wires = i)\n",
    "        qml.RZ(param[i], wires = i+len(param))\n",
    "        qml.RX(np.pi/2, wires = i)\n",
    "        qml.RX(np.pi/2, wires = i+len(param))\n",
    "drawer = qml.draw(ansatz)\n",
    "print(drawer([0,1]))"
   ]
  },
  {
   "cell_type": "code",
   "execution_count": 4,
   "id": "0d887763",
   "metadata": {},
   "outputs": [
    {
     "name": "stdout",
     "output_type": "stream",
     "text": [
      "0: ─╭●─┤  \n",
      "2: ─╰X─┤  \n",
      "1: ─╭●─┤  \n",
      "3: ─╰X─┤  \n"
     ]
    }
   ],
   "source": [
    "def cost_fun(param):\n",
    "    for i in range(len(param)):\n",
    "        qml.CNOT(wires = [i,i+len(param)])\n",
    "drawer = qml.draw(cost_fun)\n",
    "print(drawer([0,1]))"
   ]
  },
  {
   "cell_type": "code",
   "execution_count": 43,
   "id": "93c04bc1",
   "metadata": {},
   "outputs": [],
   "source": [
    "s = 1000\n",
    "m = 2\n",
    "n = 2*m\n",
    "dev = qml.device(\"default.qubit\", wires = 10, shots = s)\n",
    "@qml.qnode(dev, interface = \"autograd\")\n",
    "def circuit(param):\n",
    "    test_prep(param)\n",
    "    ansatz(param)\n",
    "    cost_fun(param)\n",
    "    return qml.probs(wires = [i for i in range(2*len(param))])"
   ]
  },
  {
   "cell_type": "code",
   "execution_count": 44,
   "id": "603d4791",
   "metadata": {},
   "outputs": [],
   "source": [
    "def VQSD(param):\n",
    "    return -circuit(param)[0]"
   ]
  },
  {
   "cell_type": "code",
   "execution_count": 45,
   "id": "9eb105e6",
   "metadata": {},
   "outputs": [
    {
     "name": "stdout",
     "output_type": "stream",
     "text": [
      "[0.2 0.2 0.2 0.2 0.2]\n"
     ]
    }
   ],
   "source": [
    "t = []\n",
    "for i in range(5):\n",
    "    t.append(0.2)\n",
    "theta = np.array(t, requires_grad=True)\n",
    "print(theta)"
   ]
  },
  {
   "cell_type": "code",
   "execution_count": 46,
   "id": "31b060b4",
   "metadata": {},
   "outputs": [
    {
     "name": "stdout",
     "output_type": "stream",
     "text": [
      "[-0.008]\n"
     ]
    }
   ],
   "source": [
    "diag = [VQSD(theta)]\n",
    "print(diag)"
   ]
  },
  {
   "cell_type": "code",
   "execution_count": 47,
   "id": "3a049540",
   "metadata": {},
   "outputs": [
    {
     "name": "stdout",
     "output_type": "stream",
     "text": [
      "[tensor([0.2, 0.2, 0.2, 0.2, 0.2], requires_grad=True)]\n"
     ]
    }
   ],
   "source": [
    "# store the values of the circuit parameter\n",
    "angle = [theta]\n",
    "print(angle)\n",
    "#len(angle)"
   ]
  },
  {
   "cell_type": "code",
   "execution_count": 48,
   "id": "f0100812",
   "metadata": {},
   "outputs": [
    {
     "name": "stdout",
     "output_type": "stream",
     "text": [
      "Step = 0,  Diagonality = -0.00800000 Ha\n",
      "Step = 2,  Diagonality = -0.00600000 Ha\n",
      "Step = 4,  Diagonality = -0.01100000 Ha\n",
      "Step = 6,  Diagonality = -0.01100000 Ha\n",
      "Step = 8,  Diagonality = -0.00700000 Ha\n",
      "Step = 10,  Diagonality = -0.00900000 Ha\n",
      "Step = 12,  Diagonality = -0.00500000 Ha\n",
      "Step = 14,  Diagonality = -0.00800000 Ha\n",
      "Step = 16,  Diagonality = -0.00700000 Ha\n",
      "Step = 18,  Diagonality = -0.01200000 Ha\n",
      "Step = 20,  Diagonality = -0.01100000 Ha\n",
      "Step = 22,  Diagonality = -0.01300000 Ha\n",
      "Step = 24,  Diagonality = -0.01100000 Ha\n",
      "Step = 26,  Diagonality = -0.01000000 Ha\n",
      "Step = 28,  Diagonality = -0.01100000 Ha\n",
      "Step = 30,  Diagonality = -0.01000000 Ha\n",
      "Step = 32,  Diagonality = -0.00700000 Ha\n",
      "Step = 34,  Diagonality = -0.01100000 Ha\n",
      "Step = 36,  Diagonality = -0.00800000 Ha\n",
      "Step = 38,  Diagonality = -0.00900000 Ha\n",
      "Step = 40,  Diagonality = -0.01400000 Ha\n",
      "Step = 42,  Diagonality = -0.01100000 Ha\n",
      "Step = 44,  Diagonality = -0.01600000 Ha\n",
      "Step = 46,  Diagonality = -0.01100000 Ha\n",
      "Step = 48,  Diagonality = -0.02600000 Ha\n",
      "Step = 50,  Diagonality = -0.01000000 Ha\n",
      "Step = 52,  Diagonality = -0.01800000 Ha\n",
      "Step = 54,  Diagonality = -0.01900000 Ha\n",
      "Step = 56,  Diagonality = -0.02300000 Ha\n",
      "Step = 58,  Diagonality = -0.03400000 Ha\n",
      "Step = 60,  Diagonality = -0.03000000 Ha\n",
      "Step = 62,  Diagonality = -0.04100000 Ha\n",
      "Step = 64,  Diagonality = -0.03000000 Ha\n",
      "Step = 66,  Diagonality = -0.05900000 Ha\n",
      "Step = 68,  Diagonality = -0.04800000 Ha\n",
      "Step = 70,  Diagonality = -0.06800000 Ha\n",
      "Step = 72,  Diagonality = -0.07200000 Ha\n",
      "Step = 74,  Diagonality = -0.09900000 Ha\n",
      "Step = 76,  Diagonality = -0.09800000 Ha\n",
      "Step = 78,  Diagonality = -0.11700000 Ha\n",
      "Step = 80,  Diagonality = -0.15200000 Ha\n",
      "Step = 82,  Diagonality = -0.19700000 Ha\n",
      "Step = 84,  Diagonality = -0.25400000 Ha\n",
      "Step = 86,  Diagonality = -0.34200000 Ha\n",
      "Step = 88,  Diagonality = -0.45200000 Ha\n",
      "Step = 90,  Diagonality = -0.58700000 Ha\n",
      "Step = 92,  Diagonality = -0.72100000 Ha\n",
      "Step = 94,  Diagonality = -0.86300000 Ha\n",
      "Step = 96,  Diagonality = -0.91200000 Ha\n",
      "Step = 98,  Diagonality = -0.96700000 Ha\n",
      "Step = 100,  Diagonality = -0.98400000 Ha\n",
      "Step = 102,  Diagonality = -0.99500000 Ha\n",
      "Step = 104,  Diagonality = -0.99900000 Ha\n",
      "Step = 106,  Diagonality = -1.00000000 Ha\n",
      "\n",
      "Optimal value of the circuit parameter = [1.5445 1.55   1.5564 1.5572 1.5493]\n"
     ]
    }
   ],
   "source": [
    "###To Do\n",
    "#Figure out why the energy stays roughly constant\n",
    "\n",
    "opt = qml.GradientDescentOptimizer(stepsize=0.2)\n",
    "max_iterations = 1000\n",
    "conv_tol = 1e-06\n",
    "\n",
    "for n in range(max_iterations):\n",
    "    theta, prev_diag = opt.step_and_cost(VQSD, theta)\n",
    "\n",
    "    diag.append(VQSD(theta))\n",
    "    angle.append(theta)\n",
    "\n",
    "    conv = np.abs(-1 - diag[-1])\n",
    "\n",
    "    if n % 2 == 0:\n",
    "        print(f\"Step = {n},  Diagonality = {diag[-1]:.8f} Ha\")\n",
    "\n",
    "    if conv <= conv_tol:\n",
    "        break\n",
    "\n",
    "#print(\"\\n\" f\"Final value of the ground-state energy = {diag[-1]:.8f} Ha\")\n",
    "print(\"\\n\" f\"Optimal value of the circuit parameter = {angle[-1]}\")"
   ]
  },
  {
   "cell_type": "code",
   "execution_count": 36,
   "id": "0d288163",
   "metadata": {},
   "outputs": [
    {
     "data": {
      "text/plain": [
       "tensor([1.5499, 1.5622, 1.5489, 1.5538], requires_grad=True)"
      ]
     },
     "execution_count": 36,
     "metadata": {},
     "output_type": "execute_result"
    }
   ],
   "source": [
    "angle[-1]"
   ]
  },
  {
   "cell_type": "code",
   "execution_count": 32,
   "id": "75d910c6",
   "metadata": {},
   "outputs": [
    {
     "data": {
      "text/plain": [
       "[0.059,\n",
       " 0.074,\n",
       " 0.065,\n",
       " 0.06,\n",
       " 0.061,\n",
       " 0.06,\n",
       " 0.06,\n",
       " 0.047,\n",
       " 0.073,\n",
       " 0.062,\n",
       " 0.061,\n",
       " 0.052,\n",
       " 0.061,\n",
       " 0.055,\n",
       " 0.062,\n",
       " 0.063,\n",
       " 0.058,\n",
       " 0.051,\n",
       " 0.052,\n",
       " 0.086,\n",
       " 0.072,\n",
       " 0.06,\n",
       " 0.057,\n",
       " 0.051,\n",
       " 0.057,\n",
       " 0.08,\n",
       " 0.063,\n",
       " 0.068,\n",
       " 0.067,\n",
       " 0.067,\n",
       " 0.069,\n",
       " 0.057,\n",
       " 0.06,\n",
       " 0.065,\n",
       " 0.07,\n",
       " 0.059,\n",
       " 0.067,\n",
       " 0.067]"
      ]
     },
     "execution_count": 32,
     "metadata": {},
     "output_type": "execute_result"
    }
   ],
   "source": [
    "diag"
   ]
  },
  {
   "cell_type": "code",
   "execution_count": 33,
   "id": "7c57e328",
   "metadata": {},
   "outputs": [
    {
     "data": {
      "text/plain": [
       "38"
      ]
     },
     "execution_count": 33,
     "metadata": {},
     "output_type": "execute_result"
    }
   ],
   "source": [
    "len(diag)"
   ]
  },
  {
   "cell_type": "code",
   "execution_count": 34,
   "id": "213a2038",
   "metadata": {},
   "outputs": [
    {
     "data": {
      "text/plain": [
       "3"
      ]
     },
     "execution_count": 34,
     "metadata": {},
     "output_type": "execute_result"
    }
   ],
   "source": [
    "v = [0, 1, 2]\n",
    "len(v)"
   ]
  },
  {
   "cell_type": "code",
   "execution_count": null,
   "id": "0f2a1ef6",
   "metadata": {},
   "outputs": [],
   "source": []
  }
 ],
 "metadata": {
  "kernelspec": {
   "display_name": "Python 3 (ipykernel)",
   "language": "python",
   "name": "python3"
  },
  "language_info": {
   "codemirror_mode": {
    "name": "ipython",
    "version": 3
   },
   "file_extension": ".py",
   "mimetype": "text/x-python",
   "name": "python",
   "nbconvert_exporter": "python",
   "pygments_lexer": "ipython3",
   "version": "3.10.9"
  }
 },
 "nbformat": 4,
 "nbformat_minor": 5
}
