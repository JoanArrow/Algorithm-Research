{
 "cells": [
  {
   "cell_type": "code",
   "execution_count": 86,
   "metadata": {},
   "outputs": [],
   "source": [
    "# import stuff\n",
    "import pennylane as qml\n",
    "import pandas as pd\n",
    "import sklearn\n",
    "\n",
    "from pennylane import numpy as np\n",
    "from pennylane.optimize import NesterovMomentumOptimizer\n",
    "\n",
    "from sklearn.model_selection import KFold\n",
    "from sklearn.model_selection import cross_val_score\n",
    "\n",
    "# Cancer dataset has 569 observations, nearest power of 2 is 2^10, so set n_qubits = 10\n",
    "n_qubits = 10\n",
    "\n",
    "# define the device\n",
    "dev = qml.device(\"default.qubit\", wires=range(n_qubits))"
   ]
  },
  {
   "cell_type": "code",
   "execution_count": 87,
   "metadata": {},
   "outputs": [],
   "source": [
    "path = './wdbc.data'\n",
    "\n",
    "# Documentation for the col_names can be found in wdbc.names\n",
    "col_names = [\"ID\", \"diagnosis\", \"radius\", \"texture\", \"perimeter\", \"area\", \"smoothness\", \"compactness\", \"concavity\", \"concave_points\", \"symmetry\", \"fractal dimension\",\n",
    "             \"SE_radius\", \"SE_texture\", \"SE_perimeter\", \"SE_area\", \"SE_smoothness\", \"SE_compactness\", \"SE_concavity\", \"SE_concave_points\", \"SE_symmetry\", \"SE_fractal dimension\",\n",
    "             \"worst_radius\", \"worst_texture\", \"worst_perimeter\", \"worst_area\", \"worst_smoothness\", \"worst_compactness\", \"worst_concavity\", \"worst_concave_points\", \"worst_symmetry\", \"worst_fractal dimension\"]\n",
    "\n",
    "data = pd.read_csv(path, names=col_names)\n",
    "data = data.to_numpy()"
   ]
  },
  {
   "cell_type": "code",
   "execution_count": 93,
   "metadata": {},
   "outputs": [
    {
     "data": {
      "text/plain": [
       "tensor([0.02201907+0.j, 0.03769547+0.j, 0.04507758+0.j, ...,\n",
       "        0.        +0.j, 0.        +0.j, 0.        +0.j], requires_grad=True)"
      ]
     },
     "execution_count": 93,
     "metadata": {},
     "output_type": "execute_result"
    }
   ],
   "source": [
    "# Now we call amplitude embedding routine from Pennylane\n",
    "\n",
    "@qml.qnode(dev)\n",
    "def circuit(features):\n",
    "    qml.AmplitudeEmbedding(features, pad_with=0, normalize=True, wires=range(n_qubits))\n",
    "    return qml.state()\n",
    "\n",
    "circuit(data[:,3])\n"
   ]
  }
 ],
 "metadata": {
  "kernelspec": {
   "display_name": ".venv",
   "language": "python",
   "name": "python3"
  },
  "language_info": {
   "codemirror_mode": {
    "name": "ipython",
    "version": 3
   },
   "file_extension": ".py",
   "mimetype": "text/x-python",
   "name": "python",
   "nbconvert_exporter": "python",
   "pygments_lexer": "ipython3",
   "version": "3.11.3"
  },
  "orig_nbformat": 4
 },
 "nbformat": 4,
 "nbformat_minor": 2
}
